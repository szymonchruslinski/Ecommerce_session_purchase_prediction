{
 "cells": [
  {
   "cell_type": "markdown",
   "metadata": {},
   "source": [
    "<style>\n",
    "{\n",
    "  margin: 0;\n",
    "  padding: 0;\n",
    "  box-sizing: border-box;}\n",
    " \n",
    "  body {\n",
    "  margin-left: -24px;\n",
    "  margin-top: 0;\n",
    "  font-family: \"Arial\", sans-serif;\n",
    "  width: 100%;\n",
    "  height: 100vh;\n",
    "  display: flex;\n",
    "  flex-direction: column;\n",
    "  justify-content: space-between;\n",
    "  box-sizing: border-box;\n",
    "}\n",
    "  .title {\n",
    "    text-align: center;\n",
    "    font-size: 36px; \n",
    "    font-weight: bold;\n",
    "    align-items: center;\n",
    "    margin-top: 50px; \n",
    "  }\n",
    "  .subtitle {\n",
    "    text-align: center;\n",
    "    font-size: 28px; \n",
    "    font-weight: bold;\n",
    "    align-items: center;\n",
    "    margin-bottom: 30px;\n",
    "  }\n",
    "  .logo {\n",
    "    text-align: center;\n",
    "    margin: 50px 0; \n",
    "    align-items: center;\n",
    "  }\n",
    "  .project-title {\n",
    "    text-align: center;\n",
    "    font-size: 28px; \n",
    "    font-weight: bold;\n",
    "    align-items: center;\n",
    "    margin: 40px 0; \n",
    "  }\n",
    "  .authors {\n",
    "    font-size: 20px; \n",
    "    text-align: center;\n",
    "    margin-bottom: 50px;\n",
    "    align-items: center;\n",
    "  }\n",
    "</style>\n",
    " \n",
    "<div class=\"title\">POLITECHNIKA LUBELSKA</div>\n",
    "<div class=\"subtitle\">WYDZIAŁ MATEMATYKI I INFORMATYKI TECHNICZNEJ</div>\n",
    "<div class=\"subtitle\">Kierunek: Inżynieria i Analiza Danych</div>\n",
    " \n",
    "<div class=\"logo\">\n",
    "<img src=\"logopl.png\" alt=\"Logo Politechniki Lubelskiej\" width=\"300\"> <!-- Większe logo -->\n",
    "</div>\n",
    " \n",
    "<div class=\"project-title\">Projekt Zaliczeniowy <br> Eksploracja danych</div>\n",
    "<div class=\"subtitle\"><em>Praca wykonana przez:</em></div>\n",
    "<div class=\"authors\">\n",
    "<strong>Bartosz Oleszek, Nr albumu: 100996</strong> <br>\n",
    "<strong>Szymon Chruśliński, Nr albumu: 100961</strong> <br>\n",
    "\n",
    "</div>"
   ]
  },
  {
   "cell_type": "markdown",
   "metadata": {
    "cell_id": "ece5c695565c45b08d24505a227fd12c",
    "deepnote_app_block_visible": false,
    "deepnote_cell_type": "text-cell-h2",
    "formattedRanges": [],
    "is_collapsed": false
   },
   "source": [
    "## Wybór zbioru danych"
   ]
  },
  {
   "cell_type": "markdown",
   "metadata": {
    "cell_id": "3e4ebb9239fa438d80f24d02e62e081d",
    "deepnote_cell_type": "text-cell-p",
    "formattedRanges": []
   },
   "source": [
    "W projekcie wykorzystano zbiór danych **Online Shoppers Purchasing Intention Dataset**, dostępny publicznie w repozytorium UCI Machine Learning Repository: https://archive.ics.uci.edu/dataset/468/online+shoppers+purchasing+intention+dataset\n",
    "\n",
    "Zbiór danych dotyczy zachowań użytkowników odwiedzających stronę e-commerce i zawiera informacje na temat sesji, aktywności użytkowników oraz właściwości samej strony. Obejmuje 12 330 rekordów reprezentujących indywidualne sesje oraz 18 zróżnicowanych zmiennych – zarówno numerycznych, jak i kategorycznych oraz logicznych. Dane te mogą posłużyć do budowy modeli predykcyjnych umożliwiających prognozowanie, czy dana sesja zakończy się dokonaniem zakupu."
   ]
  },
  {
   "cell_type": "code",
   "execution_count": 1,
   "metadata": {
    "cell_id": "9f240afed5f645b9b79b0ee885d1cf97",
    "deepnote_cell_type": "code",
    "execution_context_id": "5f0f1fa7-5308-4c8f-8e22-1a70510a422b",
    "execution_millis": 2188,
    "execution_start": 1750025886305,
    "source_hash": "8848180d"
   },
   "outputs": [],
   "source": [
    "import pandas as pd\n",
    "import numpy as np\n",
    "import matplotlib.pyplot as plt\n",
    "import seaborn as sns\n",
    "from sklearn.model_selection import train_test_split\n",
    "from scipy.stats import spearmanr\n",
    "from sklearn.preprocessing import LabelEncoder, OrdinalEncoder\n",
    "from sklearn.feature_selection import mutual_info_classif\n",
    "from scipy.stats import shapiro, anderson, mannwhitneyu, chi2_contingency\n",
    "from statsmodels.stats.diagnostic import lilliefors\n",
    "from sklearn.preprocessing import StandardScaler\n",
    "from imblearn.over_sampling import RandomOverSampler, SMOTE, ADASYN\n",
    "from imblearn.under_sampling import RandomUnderSampler\n",
    "from sklearn.base import clone\n",
    "from sklearn.linear_model import LogisticRegression\n",
    "from sklearn.naive_bayes import GaussianNB\n",
    "from sklearn.ensemble import RandomForestClassifier\n",
    "from sklearn.svm import SVC\n",
    "from catboost import CatBoostClassifier\n",
    "from xgboost import XGBClassifier, plot_importance\n",
    "from sklearn.neural_network import MLPClassifier\n",
    "from sklearn.metrics import accuracy_score, precision_score, recall_score, f1_score, confusion_matrix, ConfusionMatrixDisplay, make_scorer\n",
    "from imblearn.pipeline import Pipeline\n",
    "from sklearn.model_selection import StratifiedKFold, RandomizedSearchCV\n",
    "from sklearn.preprocessing import PolynomialFeatures\n",
    "import joblib"
   ]
  },
  {
   "cell_type": "code",
   "execution_count": 2,
   "metadata": {
    "cell_id": "8cb0c42145f44fcd842148d76cd682c3",
    "deepnote_cell_type": "code",
    "deepnote_to_be_reexecuted": true,
    "execution_context_id": "7eedb73a-de24-440b-9ed4-1df6acf98f0e",
    "execution_millis": 105,
    "execution_start": 1750015650902,
    "source_hash": "6984af80"
   },
   "outputs": [],
   "source": [
    "df = pd.read_csv(\"online_shoppers_intention.csv\")"
   ]
  },
  {
   "cell_type": "code",
   "execution_count": 3,
   "metadata": {
    "cell_id": "b80777a704cf4df9833e4a74eae4102f",
    "deepnote_cell_type": "code",
    "deepnote_to_be_reexecuted": true,
    "execution_context_id": "7eedb73a-de24-440b-9ed4-1df6acf98f0e",
    "execution_millis": 8,
    "execution_start": 1750015651060,
    "source_hash": "c085b6ba"
   },
   "outputs": [
    {
     "data": {
      "application/vnd.microsoft.datawrangler.viewer.v0+json": {
       "columns": [
        {
         "name": "index",
         "rawType": "int64",
         "type": "integer"
        },
        {
         "name": "Administrative",
         "rawType": "int64",
         "type": "integer"
        },
        {
         "name": "Administrative_Duration",
         "rawType": "float64",
         "type": "float"
        },
        {
         "name": "Informational",
         "rawType": "int64",
         "type": "integer"
        },
        {
         "name": "Informational_Duration",
         "rawType": "float64",
         "type": "float"
        },
        {
         "name": "ProductRelated",
         "rawType": "int64",
         "type": "integer"
        },
        {
         "name": "ProductRelated_Duration",
         "rawType": "float64",
         "type": "float"
        },
        {
         "name": "BounceRates",
         "rawType": "float64",
         "type": "float"
        },
        {
         "name": "ExitRates",
         "rawType": "float64",
         "type": "float"
        },
        {
         "name": "PageValues",
         "rawType": "float64",
         "type": "float"
        },
        {
         "name": "SpecialDay",
         "rawType": "float64",
         "type": "float"
        },
        {
         "name": "Month",
         "rawType": "object",
         "type": "string"
        },
        {
         "name": "OperatingSystems",
         "rawType": "int64",
         "type": "integer"
        },
        {
         "name": "Browser",
         "rawType": "int64",
         "type": "integer"
        },
        {
         "name": "Region",
         "rawType": "int64",
         "type": "integer"
        },
        {
         "name": "TrafficType",
         "rawType": "int64",
         "type": "integer"
        },
        {
         "name": "VisitorType",
         "rawType": "object",
         "type": "string"
        },
        {
         "name": "Weekend",
         "rawType": "bool",
         "type": "boolean"
        },
        {
         "name": "Revenue",
         "rawType": "bool",
         "type": "boolean"
        }
       ],
       "ref": "f7683966-c583-47a5-95e7-64b7ece71082",
       "rows": [
        [
         "0",
         "0",
         "0.0",
         "0",
         "0.0",
         "1",
         "0.0",
         "0.2",
         "0.2",
         "0.0",
         "0.0",
         "Feb",
         "1",
         "1",
         "1",
         "1",
         "Returning_Visitor",
         "False",
         "False"
        ],
        [
         "1",
         "0",
         "0.0",
         "0",
         "0.0",
         "2",
         "64.0",
         "0.0",
         "0.1",
         "0.0",
         "0.0",
         "Feb",
         "2",
         "2",
         "1",
         "2",
         "Returning_Visitor",
         "False",
         "False"
        ],
        [
         "2",
         "0",
         "0.0",
         "0",
         "0.0",
         "1",
         "0.0",
         "0.2",
         "0.2",
         "0.0",
         "0.0",
         "Feb",
         "4",
         "1",
         "9",
         "3",
         "Returning_Visitor",
         "False",
         "False"
        ],
        [
         "3",
         "0",
         "0.0",
         "0",
         "0.0",
         "2",
         "2.666666667",
         "0.05",
         "0.14",
         "0.0",
         "0.0",
         "Feb",
         "3",
         "2",
         "2",
         "4",
         "Returning_Visitor",
         "False",
         "False"
        ],
        [
         "4",
         "0",
         "0.0",
         "0",
         "0.0",
         "10",
         "627.5",
         "0.02",
         "0.05",
         "0.0",
         "0.0",
         "Feb",
         "3",
         "3",
         "1",
         "4",
         "Returning_Visitor",
         "True",
         "False"
        ]
       ],
       "shape": {
        "columns": 18,
        "rows": 5
       }
      },
      "text/html": [
       "<div>\n",
       "<style scoped>\n",
       "    .dataframe tbody tr th:only-of-type {\n",
       "        vertical-align: middle;\n",
       "    }\n",
       "\n",
       "    .dataframe tbody tr th {\n",
       "        vertical-align: top;\n",
       "    }\n",
       "\n",
       "    .dataframe thead th {\n",
       "        text-align: right;\n",
       "    }\n",
       "</style>\n",
       "<table border=\"1\" class=\"dataframe\">\n",
       "  <thead>\n",
       "    <tr style=\"text-align: right;\">\n",
       "      <th></th>\n",
       "      <th>Administrative</th>\n",
       "      <th>Administrative_Duration</th>\n",
       "      <th>Informational</th>\n",
       "      <th>Informational_Duration</th>\n",
       "      <th>ProductRelated</th>\n",
       "      <th>ProductRelated_Duration</th>\n",
       "      <th>BounceRates</th>\n",
       "      <th>ExitRates</th>\n",
       "      <th>PageValues</th>\n",
       "      <th>SpecialDay</th>\n",
       "      <th>Month</th>\n",
       "      <th>OperatingSystems</th>\n",
       "      <th>Browser</th>\n",
       "      <th>Region</th>\n",
       "      <th>TrafficType</th>\n",
       "      <th>VisitorType</th>\n",
       "      <th>Weekend</th>\n",
       "      <th>Revenue</th>\n",
       "    </tr>\n",
       "  </thead>\n",
       "  <tbody>\n",
       "    <tr>\n",
       "      <th>0</th>\n",
       "      <td>0</td>\n",
       "      <td>0.0</td>\n",
       "      <td>0</td>\n",
       "      <td>0.0</td>\n",
       "      <td>1</td>\n",
       "      <td>0.000000</td>\n",
       "      <td>0.20</td>\n",
       "      <td>0.20</td>\n",
       "      <td>0.0</td>\n",
       "      <td>0.0</td>\n",
       "      <td>Feb</td>\n",
       "      <td>1</td>\n",
       "      <td>1</td>\n",
       "      <td>1</td>\n",
       "      <td>1</td>\n",
       "      <td>Returning_Visitor</td>\n",
       "      <td>False</td>\n",
       "      <td>False</td>\n",
       "    </tr>\n",
       "    <tr>\n",
       "      <th>1</th>\n",
       "      <td>0</td>\n",
       "      <td>0.0</td>\n",
       "      <td>0</td>\n",
       "      <td>0.0</td>\n",
       "      <td>2</td>\n",
       "      <td>64.000000</td>\n",
       "      <td>0.00</td>\n",
       "      <td>0.10</td>\n",
       "      <td>0.0</td>\n",
       "      <td>0.0</td>\n",
       "      <td>Feb</td>\n",
       "      <td>2</td>\n",
       "      <td>2</td>\n",
       "      <td>1</td>\n",
       "      <td>2</td>\n",
       "      <td>Returning_Visitor</td>\n",
       "      <td>False</td>\n",
       "      <td>False</td>\n",
       "    </tr>\n",
       "    <tr>\n",
       "      <th>2</th>\n",
       "      <td>0</td>\n",
       "      <td>0.0</td>\n",
       "      <td>0</td>\n",
       "      <td>0.0</td>\n",
       "      <td>1</td>\n",
       "      <td>0.000000</td>\n",
       "      <td>0.20</td>\n",
       "      <td>0.20</td>\n",
       "      <td>0.0</td>\n",
       "      <td>0.0</td>\n",
       "      <td>Feb</td>\n",
       "      <td>4</td>\n",
       "      <td>1</td>\n",
       "      <td>9</td>\n",
       "      <td>3</td>\n",
       "      <td>Returning_Visitor</td>\n",
       "      <td>False</td>\n",
       "      <td>False</td>\n",
       "    </tr>\n",
       "    <tr>\n",
       "      <th>3</th>\n",
       "      <td>0</td>\n",
       "      <td>0.0</td>\n",
       "      <td>0</td>\n",
       "      <td>0.0</td>\n",
       "      <td>2</td>\n",
       "      <td>2.666667</td>\n",
       "      <td>0.05</td>\n",
       "      <td>0.14</td>\n",
       "      <td>0.0</td>\n",
       "      <td>0.0</td>\n",
       "      <td>Feb</td>\n",
       "      <td>3</td>\n",
       "      <td>2</td>\n",
       "      <td>2</td>\n",
       "      <td>4</td>\n",
       "      <td>Returning_Visitor</td>\n",
       "      <td>False</td>\n",
       "      <td>False</td>\n",
       "    </tr>\n",
       "    <tr>\n",
       "      <th>4</th>\n",
       "      <td>0</td>\n",
       "      <td>0.0</td>\n",
       "      <td>0</td>\n",
       "      <td>0.0</td>\n",
       "      <td>10</td>\n",
       "      <td>627.500000</td>\n",
       "      <td>0.02</td>\n",
       "      <td>0.05</td>\n",
       "      <td>0.0</td>\n",
       "      <td>0.0</td>\n",
       "      <td>Feb</td>\n",
       "      <td>3</td>\n",
       "      <td>3</td>\n",
       "      <td>1</td>\n",
       "      <td>4</td>\n",
       "      <td>Returning_Visitor</td>\n",
       "      <td>True</td>\n",
       "      <td>False</td>\n",
       "    </tr>\n",
       "  </tbody>\n",
       "</table>\n",
       "</div>"
      ],
      "text/plain": [
       "   Administrative  Administrative_Duration  Informational  \\\n",
       "0               0                      0.0              0   \n",
       "1               0                      0.0              0   \n",
       "2               0                      0.0              0   \n",
       "3               0                      0.0              0   \n",
       "4               0                      0.0              0   \n",
       "\n",
       "   Informational_Duration  ProductRelated  ProductRelated_Duration  \\\n",
       "0                     0.0               1                 0.000000   \n",
       "1                     0.0               2                64.000000   \n",
       "2                     0.0               1                 0.000000   \n",
       "3                     0.0               2                 2.666667   \n",
       "4                     0.0              10               627.500000   \n",
       "\n",
       "   BounceRates  ExitRates  PageValues  SpecialDay Month  OperatingSystems  \\\n",
       "0         0.20       0.20         0.0         0.0   Feb                 1   \n",
       "1         0.00       0.10         0.0         0.0   Feb                 2   \n",
       "2         0.20       0.20         0.0         0.0   Feb                 4   \n",
       "3         0.05       0.14         0.0         0.0   Feb                 3   \n",
       "4         0.02       0.05         0.0         0.0   Feb                 3   \n",
       "\n",
       "   Browser  Region  TrafficType        VisitorType  Weekend  Revenue  \n",
       "0        1       1            1  Returning_Visitor    False    False  \n",
       "1        2       1            2  Returning_Visitor    False    False  \n",
       "2        1       9            3  Returning_Visitor    False    False  \n",
       "3        2       2            4  Returning_Visitor    False    False  \n",
       "4        3       1            4  Returning_Visitor     True    False  "
      ]
     },
     "execution_count": 3,
     "metadata": {},
     "output_type": "execute_result"
    }
   ],
   "source": [
    "df.head()"
   ]
  },
  {
   "cell_type": "markdown",
   "metadata": {
    "cell_id": "4dba656881c342d2a3d28800bc5a7cce",
    "deepnote_cell_type": "text-cell-h2",
    "formattedRanges": []
   },
   "source": [
    "## Zdefiniowanie problemu predykcyjnego oraz scharakteryzowanie analizowanego zbioru danych"
   ]
  },
  {
   "cell_type": "markdown",
   "metadata": {
    "cell_id": "4e9e5de1438b4e67813ef628cd485695",
    "deepnote_cell_type": "text-cell-p",
    "formattedRanges": []
   },
   "source": [
    "Celem projektu jest zbudowanie i porównanie różnych modeli klasyfikacyjnych w celu znalezienia najlepszego rozwiązania do **przewidywania, czy sesja użytkownika zakończy się zakupem**, na podstawie danych dotyczących aktywności użytkownika na stronie e-commerce. Zmienną docelową jest `Revenue` - zmienna wskazuje, czy użytkownik zakończył sesję transakcją:\n",
    "\n",
    "- `True` – zakup został dokonany\n",
    "- `False` – brak zakupu\n",
    "\n",
    "Problem ten ma charakter **binarny (klasyfikacja True/False)** i jest istotny z punktu widzenia biznesowego, ponieważ umożliwia przewidywanie konwersji oraz optymalizację działań marketingowych i UX (User Experience)."
   ]
  },
  {
   "cell_type": "markdown",
   "metadata": {
    "cell_id": "df0bc61da0174dc2ac7fa979b01f76b0",
    "deepnote_cell_type": "text-cell-h2",
    "formattedRanges": []
   },
   "source": [
    "## Opis zmiennych w zbiorze danych"
   ]
  },
  {
   "cell_type": "markdown",
   "metadata": {
    "cell_id": "b17ade1c91ad4c13852c01087201ecf4",
    "deepnote_cell_type": "text-cell-h3",
    "formattedRanges": []
   },
   "source": [
    "### Dane o aktywności użytkownika"
   ]
  },
  {
   "cell_type": "markdown",
   "metadata": {
    "cell_id": "a90017b30cf543debad0d1e58a424ab8",
    "deepnote_cell_type": "text-cell-p",
    "formattedRanges": []
   },
   "source": [
    "`Administrative` - liczba odwiedzonych stron administracyjnych w danej sesji\n",
    "\n",
    "`Administrative_Duration` - łączny czas spędzony na stronach administracyjnych (w sekundach)\n",
    "\n",
    "`Informational` - liczba odwiedzonych stron informacyjnych w danej sesji\n",
    "\n",
    "`Informational_Duration` - łączny czas spędzony na stronach informacyjnych (w sekundach)\n",
    "\n",
    "`ProductRelated` - liczba odwiedzonych stron związanych z produktami w danej sesji\n",
    "\n",
    "`ProductRelated_Duration` - łączny czas spędzony na stronach związanych z produktami (w sekundach)"
   ]
  },
  {
   "cell_type": "markdown",
   "metadata": {
    "cell_id": "22b139c5e8574857aa4afdddcc57abb3",
    "deepnote_cell_type": "text-cell-h3",
    "formattedRanges": []
   },
   "source": [
    "### Dane behawioralne"
   ]
  },
  {
   "cell_type": "markdown",
   "metadata": {
    "cell_id": "5aeb3528822a4b75b4cd43f79a1ba4ad",
    "deepnote_cell_type": "text-cell-p",
    "formattedRanges": []
   },
   "source": [
    "`BounceRates` - odsetek sesji, w których użytkownik opuścił stronę bez interakcji (wartość od 0 do 1)\n",
    "\n",
    "`ExitRates` - odsetek sesji, w których dana strona była ostatnią odwiedzoną (wartość od 0 do 1)\n",
    "\n",
    "`PageValues` - średnia wartość przypisana stronie, bazująca na transakcjach dokonanych po jej odwiedzeniu\n",
    "\n",
    "`SpecialDay` - wskaźnik bliskości sesji do specjalnego dnia zakupowego (np. Walentynki), wartość od 0 do 1, gdzie 1 oznacza największe prawdopodobieństwo transakcji"
   ]
  },
  {
   "cell_type": "markdown",
   "metadata": {
    "cell_id": "3dd0c3700870418b9cece681d9aed97b",
    "deepnote_cell_type": "text-cell-h3",
    "formattedRanges": []
   },
   "source": [
    "### Cechy techniczne i demograficzne"
   ]
  },
  {
   "cell_type": "markdown",
   "metadata": {
    "cell_id": "4578e12ad8574587b11b287b3266fee2",
    "deepnote_cell_type": "text-cell-p",
    "formattedRanges": []
   },
   "source": [
    "`Month` - miesiąc, w którym miała miejsce sesja (np. \"Feb\", \"Mar\")\n",
    "\n",
    "`OperatingSystems` - identyfikator systemu operacyjnego używanego przez użytkownika\n",
    "\n",
    "`Browser` - identyfikator przeglądarki internetowej używanej przez użytkownika\n",
    "\n",
    "`Region` - identyfikator regionu geograficznego użytkownika\n",
    "\n",
    "`TrafficType` - identyfikator typu źródła ruchu\n",
    "\n",
    "`VisitorType` - typ odwiedzającego:\n",
    "\n",
    "- Returning_Visitor\n",
    "- New_Visitor\n",
    "- Other\n",
    "\n",
    "`Weekend` - wartość logiczna wskazująca, czy sesja miała miejsce w weekend (True lub False)"
   ]
  },
  {
   "cell_type": "markdown",
   "metadata": {
    "cell_id": "3340ec208a5c4b93bbcd63b2b4a85429",
    "deepnote_cell_type": "text-cell-h3",
    "formattedRanges": []
   },
   "source": [
    "### Wynik sesji zakupowej"
   ]
  },
  {
   "cell_type": "markdown",
   "metadata": {
    "cell_id": "1992345de86848b589a9e6dba52f47df",
    "deepnote_cell_type": "text-cell-p",
    "formattedRanges": []
   },
   "source": [
    "`Revenue` – wartość logiczna wskazująca, czy sesja zakończyła się transakcją (True) czy nie (False)"
   ]
  },
  {
   "cell_type": "markdown",
   "metadata": {
    "cell_id": "59bf6382e08142af9db6a6a26cbb79a3",
    "deepnote_app_block_visible": false,
    "deepnote_cell_type": "text-cell-h2",
    "formattedRanges": [],
    "is_collapsed": false
   },
   "source": [
    "## Usuwanie duplikatów"
   ]
  },
  {
   "cell_type": "code",
   "execution_count": 4,
   "metadata": {
    "cell_id": "70fa31e570a94e519e1ff202ade5ea6c",
    "deepnote_cell_type": "code",
    "deepnote_to_be_reexecuted": true,
    "execution_context_id": "7eedb73a-de24-440b-9ed4-1df6acf98f0e",
    "execution_millis": 0,
    "execution_start": 1750015651135,
    "source_hash": "896f899b"
   },
   "outputs": [],
   "source": [
    "duplicates = df.duplicated()\n",
    "duplicates_number = duplicates.sum()"
   ]
  },
  {
   "cell_type": "code",
   "execution_count": 5,
   "metadata": {
    "cell_id": "c12d4e66a93e4e39af3ff5c1a78e1be4",
    "deepnote_cell_type": "code",
    "deepnote_to_be_reexecuted": true,
    "execution_context_id": "7eedb73a-de24-440b-9ed4-1df6acf98f0e",
    "execution_millis": 1,
    "execution_start": 1750015651190,
    "source_hash": "57249158"
   },
   "outputs": [
    {
     "name": "stdout",
     "output_type": "stream",
     "text": [
      "Liczba wierszy przed usunięciem duplikatów: 12330\n",
      "Liczba zduplikowanych wierszy: 125\n",
      "Liczba wierszy po usunięciu duplikatów: 12205\n"
     ]
    }
   ],
   "source": [
    "print(\"Liczba wierszy przed usunięciem duplikatów:\", len(df))\n",
    "print(\"Liczba zduplikowanych wierszy:\", duplicates_number)\n",
    "df = df.drop_duplicates()\n",
    "print(\"Liczba wierszy po usunięciu duplikatów:\", len(df))"
   ]
  },
  {
   "cell_type": "markdown",
   "metadata": {
    "cell_id": "45f1a36b87b5451991df4cd6418abcbf",
    "deepnote_app_block_visible": false,
    "deepnote_cell_type": "text-cell-h2",
    "formattedRanges": [],
    "is_collapsed": false
   },
   "source": [
    "## Sprawdzenie braków danych występujących w zbiorze"
   ]
  },
  {
   "cell_type": "code",
   "execution_count": 6,
   "metadata": {
    "cell_id": "c1eab12d6f894ed0a6b608e233f81ed6",
    "deepnote_cell_type": "code",
    "deepnote_to_be_reexecuted": true,
    "execution_context_id": "7eedb73a-de24-440b-9ed4-1df6acf98f0e",
    "execution_millis": 0,
    "execution_start": 1750015651260,
    "source_hash": "f3dd26da"
   },
   "outputs": [
    {
     "data": {
      "application/vnd.microsoft.datawrangler.viewer.v0+json": {
       "columns": [
        {
         "name": "index",
         "rawType": "object",
         "type": "string"
        },
        {
         "name": "0",
         "rawType": "int64",
         "type": "integer"
        }
       ],
       "ref": "b75aa4bd-0e45-40b4-a677-80d8aa2b58d5",
       "rows": [
        [
         "Administrative",
         "0"
        ],
        [
         "Administrative_Duration",
         "0"
        ],
        [
         "Informational",
         "0"
        ],
        [
         "Informational_Duration",
         "0"
        ],
        [
         "ProductRelated",
         "0"
        ],
        [
         "ProductRelated_Duration",
         "0"
        ],
        [
         "BounceRates",
         "0"
        ],
        [
         "ExitRates",
         "0"
        ],
        [
         "PageValues",
         "0"
        ],
        [
         "SpecialDay",
         "0"
        ],
        [
         "Month",
         "0"
        ],
        [
         "OperatingSystems",
         "0"
        ],
        [
         "Browser",
         "0"
        ],
        [
         "Region",
         "0"
        ],
        [
         "TrafficType",
         "0"
        ],
        [
         "VisitorType",
         "0"
        ],
        [
         "Weekend",
         "0"
        ],
        [
         "Revenue",
         "0"
        ]
       ],
       "shape": {
        "columns": 1,
        "rows": 18
       }
      },
      "text/plain": [
       "Administrative             0\n",
       "Administrative_Duration    0\n",
       "Informational              0\n",
       "Informational_Duration     0\n",
       "ProductRelated             0\n",
       "ProductRelated_Duration    0\n",
       "BounceRates                0\n",
       "ExitRates                  0\n",
       "PageValues                 0\n",
       "SpecialDay                 0\n",
       "Month                      0\n",
       "OperatingSystems           0\n",
       "Browser                    0\n",
       "Region                     0\n",
       "TrafficType                0\n",
       "VisitorType                0\n",
       "Weekend                    0\n",
       "Revenue                    0\n",
       "dtype: int64"
      ]
     },
     "execution_count": 6,
     "metadata": {},
     "output_type": "execute_result"
    }
   ],
   "source": [
    "df.isnull().sum()"
   ]
  },
  {
   "cell_type": "markdown",
   "metadata": {
    "cell_id": "69745563ec524d59b1c9caf8b065a4bd",
    "deepnote_cell_type": "text-cell-p",
    "formattedRanges": []
   },
   "source": [
    "Wszystkie kolumny są kompletne i nie wymagają imputacji braków."
   ]
  },
  {
   "cell_type": "markdown",
   "metadata": {
    "cell_id": "c83d6519b2aa4c6aad57e7a6217c984a",
    "deepnote_cell_type": "text-cell-h2",
    "formattedRanges": []
   },
   "source": [
    "## Kodowanie zmiennych kategorycznych"
   ]
  },
  {
   "cell_type": "code",
   "execution_count": 7,
   "metadata": {
    "cell_id": "35ead743597e4223a5813530fe24ecb7",
    "deepnote_cell_type": "code",
    "deepnote_to_be_reexecuted": true,
    "execution_context_id": "7eedb73a-de24-440b-9ed4-1df6acf98f0e",
    "execution_millis": 1,
    "execution_start": 1750015651320,
    "source_hash": "d0568fd8"
   },
   "outputs": [],
   "source": [
    "categorical_columns = ['Month', 'OperatingSystems', 'Browser', 'Region',\n",
    "                       'TrafficType', 'VisitorType', 'Weekend', 'Revenue']\n",
    "\n",
    "df[categorical_columns] = df[categorical_columns].astype('category')"
   ]
  },
  {
   "cell_type": "markdown",
   "metadata": {
    "cell_id": "5105fb6864d54284880f79a8497ef549",
    "deepnote_app_block_visible": false,
    "deepnote_cell_type": "text-cell-h2",
    "formattedRanges": [],
    "is_collapsed": false
   },
   "source": [
    "## Rozkład liczby obserwacji w poszczególnych klasach"
   ]
  },
  {
   "cell_type": "code",
   "execution_count": 8,
   "metadata": {
    "cell_id": "bfdc775763c849d197cc69ac378859e4",
    "deepnote_cell_type": "code",
    "deepnote_to_be_reexecuted": true,
    "execution_context_id": "7eedb73a-de24-440b-9ed4-1df6acf98f0e",
    "execution_millis": 222,
    "execution_start": 1750015651390,
    "source_hash": "734a3cc0"
   },
   "outputs": [
    {
     "data": {
      "image/png": "[encoded data removed]",
      "text/plain": [
       "<Figure size 1000x600 with 1 Axes>"
      ]
     },
     "metadata": {},
     "output_type": "display_data"
    }
   ],
   "source": [
    "plt.figure(figsize=(10, 6))\n",
    "sns.countplot(data=df, x='Revenue', hue='Revenue', palette={False: 'tomato', True: 'mediumseagreen'}, legend=False)\n",
    "plt.title('Rozkład klas')\n",
    "plt.xlabel('Revenue')\n",
    "plt.ylabel('Liczba obserwacji')\n",
    "plt.show()"
   ]
  },
  {
   "cell_type": "markdown",
   "metadata": {
    "cell_id": "8b36f4cffead40759e86e344f5662ff7",
    "deepnote_cell_type": "text-cell-p",
    "formattedRanges": []
   },
   "source": [
    "Zbiór danych jest niezbalansowany – 10297 obserwacji (84.4%) należy do klasy False, a 1908 (15.6%) do klasy True."
   ]
  },
  {
   "cell_type": "markdown",
   "metadata": {
    "cell_id": "aa28ad9365ef4dbca8ad83dab3785026",
    "deepnote_cell_type": "text-cell-h2",
    "formattedRanges": []
   },
   "source": [
    "## Wartości odstające"
   ]
  },
  {
   "cell_type": "code",
   "execution_count": 9,
   "metadata": {
    "cell_id": "024c9d6b3528490599251a2c2c49caaf",
    "deepnote_cell_type": "code",
    "deepnote_to_be_reexecuted": true,
    "execution_context_id": "7eedb73a-de24-440b-9ed4-1df6acf98f0e",
    "execution_millis": 7,
    "execution_start": 1750015651680,
    "source_hash": "f88152d9"
   },
   "outputs": [
    {
     "data": {
      "application/vnd.microsoft.datawrangler.viewer.v0+json": {
       "columns": [
        {
         "name": "index",
         "rawType": "object",
         "type": "string"
        },
        {
         "name": "Administrative",
         "rawType": "float64",
         "type": "float"
        },
        {
         "name": "Administrative_Duration",
         "rawType": "float64",
         "type": "float"
        },
        {
         "name": "Informational",
         "rawType": "float64",
         "type": "float"
        },
        {
         "name": "Informational_Duration",
         "rawType": "float64",
         "type": "float"
        },
        {
         "name": "ProductRelated",
         "rawType": "float64",
         "type": "float"
        },
        {
         "name": "ProductRelated_Duration",
         "rawType": "float64",
         "type": "float"
        },
        {
         "name": "BounceRates",
         "rawType": "float64",
         "type": "float"
        },
        {
         "name": "ExitRates",
         "rawType": "float64",
         "type": "float"
        },
        {
         "name": "PageValues",
         "rawType": "float64",
         "type": "float"
        },
        {
         "name": "SpecialDay",
         "rawType": "float64",
         "type": "float"
        }
       ],
       "ref": "8f987771-6aa9-42f2-8299-1275cf0c8f89",
       "rows": [
        [
         "count",
         "12205.0",
         "12205.0",
         "12205.0",
         "12205.0",
         "12205.0",
         "12205.0",
         "12205.0",
         "12205.0",
         "12205.0",
         "12205.0"
        ],
        [
         "mean",
         "2.338877509217534",
         "81.64633084391741",
         "0.508725931995084",
         "34.82545403103851",
         "32.04563703400246",
         "1206.9824573712112",
         "0.020370317181810732",
         "0.04146559577722245",
         "5.94957389979615",
         "0.06194182712003277"
        ],
        [
         "std",
         "3.3304363347904946",
         "177.4918454240577",
         "1.2756165946367535",
         "141.42480703943951",
         "44.59364911594382",
         "1919.601400374174",
         "0.04525544108839165",
         "0.04616270247125865",
         "18.653671169390165",
         "0.19966621989916097"
        ],
        [
         "min",
         "0.0",
         "0.0",
         "0.0",
         "0.0",
         "0.0",
         "0.0",
         "0.0",
         "0.0",
         "0.0",
         "0.0"
        ],
        [
         "25%",
         "0.0",
         "0.0",
         "0.0",
         "0.0",
         "8.0",
         "193.0",
         "0.0",
         "0.014230973",
         "0.0",
         "0.0"
        ],
        [
         "50%",
         "1.0",
         "9.0",
         "0.0",
         "0.0",
         "18.0",
         "608.9428571",
         "0.002898551",
         "0.025",
         "0.0",
         "0.0"
        ],
        [
         "75%",
         "4.0",
         "94.7",
         "0.0",
         "0.0",
         "38.0",
         "1477.154762",
         "0.016666667",
         "0.048529412",
         "0.0",
         "0.0"
        ],
        [
         "max",
         "27.0",
         "3398.75",
         "24.0",
         "2549.375",
         "705.0",
         "63973.52223",
         "0.2",
         "0.2",
         "361.7637419",
         "1.0"
        ]
       ],
       "shape": {
        "columns": 10,
        "rows": 8
       }
      },
      "text/html": [
       "<div>\n",
       "<style scoped>\n",
       "    .dataframe tbody tr th:only-of-type {\n",
       "        vertical-align: middle;\n",
       "    }\n",
       "\n",
       "    .dataframe tbody tr th {\n",
       "        vertical-align: top;\n",
       "    }\n",
       "\n",
       "    .dataframe thead th {\n",
       "        text-align: right;\n",
       "    }\n",
       "</style>\n",
       "<table border=\"1\" class=\"dataframe\">\n",
       "  <thead>\n",
       "    <tr style=\"text-align: right;\">\n",
       "      <th></th>\n",
       "      <th>Administrative</th>\n",
       "      <th>Administrative_Duration</th>\n",
       "      <th>Informational</th>\n",
       "      <th>Informational_Duration</th>\n",
       "      <th>ProductRelated</th>\n",
       "      <th>ProductRelated_Duration</th>\n",
       "      <th>BounceRates</th>\n",
       "      <th>ExitRates</th>\n",
       "      <th>PageValues</th>\n",
       "      <th>SpecialDay</th>\n",
       "    </tr>\n",
       "  </thead>\n",
       "  <tbody>\n",
       "    <tr>\n",
       "      <th>count</th>\n",
       "      <td>12205.000000</td>\n",
       "      <td>12205.000000</td>\n",
       "      <td>12205.000000</td>\n",
       "      <td>12205.000000</td>\n",
       "      <td>12205.000000</td>\n",
       "      <td>12205.000000</td>\n",
       "      <td>12205.000000</td>\n",
       "      <td>12205.000000</td>\n",
       "      <td>12205.000000</td>\n",
       "      <td>12205.000000</td>\n",
       "    </tr>\n",
       "    <tr>\n",
       "      <th>mean</th>\n",
       "      <td>2.338878</td>\n",
       "      <td>81.646331</td>\n",
       "      <td>0.508726</td>\n",
       "      <td>34.825454</td>\n",
       "      <td>32.045637</td>\n",
       "      <td>1206.982457</td>\n",
       "      <td>0.020370</td>\n",
       "      <td>0.041466</td>\n",
       "      <td>5.949574</td>\n",
       "      <td>0.061942</td>\n",
       "    </tr>\n",
       "    <tr>\n",
       "      <th>std</th>\n",
       "      <td>3.330436</td>\n",
       "      <td>177.491845</td>\n",
       "      <td>1.275617</td>\n",
       "      <td>141.424807</td>\n",
       "      <td>44.593649</td>\n",
       "      <td>1919.601400</td>\n",
       "      <td>0.045255</td>\n",
       "      <td>0.046163</td>\n",
       "      <td>18.653671</td>\n",
       "      <td>0.199666</td>\n",
       "    </tr>\n",
       "    <tr>\n",
       "      <th>min</th>\n",
       "      <td>0.000000</td>\n",
       "      <td>0.000000</td>\n",
       "      <td>0.000000</td>\n",
       "      <td>0.000000</td>\n",
       "      <td>0.000000</td>\n",
       "      <td>0.000000</td>\n",
       "      <td>0.000000</td>\n",
       "      <td>0.000000</td>\n",
       "      <td>0.000000</td>\n",
       "      <td>0.000000</td>\n",
       "    </tr>\n",
       "    <tr>\n",
       "      <th>25%</th>\n",
       "      <td>0.000000</td>\n",
       "      <td>0.000000</td>\n",
       "      <td>0.000000</td>\n",
       "      <td>0.000000</td>\n",
       "      <td>8.000000</td>\n",
       "      <td>193.000000</td>\n",
       "      <td>0.000000</td>\n",
       "      <td>0.014231</td>\n",
       "      <td>0.000000</td>\n",
       "      <td>0.000000</td>\n",
       "    </tr>\n",
       "    <tr>\n",
       "      <th>50%</th>\n",
       "      <td>1.000000</td>\n",
       "      <td>9.000000</td>\n",
       "      <td>0.000000</td>\n",
       "      <td>0.000000</td>\n",
       "      <td>18.000000</td>\n",
       "      <td>608.942857</td>\n",
       "      <td>0.002899</td>\n",
       "      <td>0.025000</td>\n",
       "      <td>0.000000</td>\n",
       "      <td>0.000000</td>\n",
       "    </tr>\n",
       "    <tr>\n",
       "      <th>75%</th>\n",
       "      <td>4.000000</td>\n",
       "      <td>94.700000</td>\n",
       "      <td>0.000000</td>\n",
       "      <td>0.000000</td>\n",
       "      <td>38.000000</td>\n",
       "      <td>1477.154762</td>\n",
       "      <td>0.016667</td>\n",
       "      <td>0.048529</td>\n",
       "      <td>0.000000</td>\n",
       "      <td>0.000000</td>\n",
       "    </tr>\n",
       "    <tr>\n",
       "      <th>max</th>\n",
       "      <td>27.000000</td>\n",
       "      <td>3398.750000</td>\n",
       "      <td>24.000000</td>\n",
       "      <td>2549.375000</td>\n",
       "      <td>705.000000</td>\n",
       "      <td>63973.522230</td>\n",
       "      <td>0.200000</td>\n",
       "      <td>0.200000</td>\n",
       "      <td>361.763742</td>\n",
       "      <td>1.000000</td>\n",
       "    </tr>\n",
       "  </tbody>\n",
       "</table>\n",
       "</div>"
      ],
      "text/plain": [
       "       Administrative  Administrative_Duration  Informational  \\\n",
       "count    12205.000000             12205.000000   12205.000000   \n",
       "mean         2.338878                81.646331       0.508726   \n",
       "std          3.330436               177.491845       1.275617   \n",
       "min          0.000000                 0.000000       0.000000   \n",
       "25%          0.000000                 0.000000       0.000000   \n",
       "50%          1.000000                 9.000000       0.000000   \n",
       "75%          4.000000                94.700000       0.000000   \n",
       "max         27.000000              3398.750000      24.000000   \n",
       "\n",
       "       Informational_Duration  ProductRelated  ProductRelated_Duration  \\\n",
       "count            12205.000000    12205.000000             12205.000000   \n",
       "mean                34.825454       32.045637              1206.982457   \n",
       "std                141.424807       44.593649              1919.601400   \n",
       "min                  0.000000        0.000000                 0.000000   \n",
       "25%                  0.000000        8.000000               193.000000   \n",
       "50%                  0.000000       18.000000               608.942857   \n",
       "75%                  0.000000       38.000000              1477.154762   \n",
       "max               2549.375000      705.000000             63973.522230   \n",
       "\n",
       "        BounceRates     ExitRates    PageValues    SpecialDay  \n",
       "count  12205.000000  12205.000000  12205.000000  12205.000000  \n",
       "mean       0.020370      0.041466      5.949574      0.061942  \n",
       "std        0.045255      0.046163     18.653671      0.199666  \n",
       "min        0.000000      0.000000      0.000000      0.000000  \n",
       "25%        0.000000      0.014231      0.000000      0.000000  \n",
       "50%        0.002899      0.025000      0.000000      0.000000  \n",
       "75%        0.016667      0.048529      0.000000      0.000000  \n",
       "max        0.200000      0.200000    361.763742      1.000000  "
      ]
     },
     "execution_count": 9,
     "metadata": {},
     "output_type": "execute_result"
    }
   ],
   "source": [
    "df.describe()"
   ]
  },
  {
   "cell_type": "code",
   "execution_count": 10,
   "metadata": {
    "cell_id": "c98c308871364ca6a9a04c2e7759faa0",
    "deepnote_cell_type": "code",
    "deepnote_to_be_reexecuted": true,
    "execution_context_id": "7eedb73a-de24-440b-9ed4-1df6acf98f0e",
    "execution_millis": 1579,
    "execution_start": 1750015651731,
    "source_hash": "efc52bc1"
   },
   "outputs": [
    {
     "data": {
      "image/png": "[encoded data removed]",
      "text/plain": [
       "<Figure size 1800x800 with 6 Axes>"
      ]
     },
     "metadata": {},
     "output_type": "display_data"
    }
   ],
   "source": [
    "selected_columns = ['Administrative', 'Administrative_Duration', 'Informational', 'Informational_Duration', 'ProductRelated', 'ProductRelated_Duration']\n",
    "\n",
    "fig, axes = plt.subplots(2, 3, figsize=(18, 8))\n",
    "\n",
    "axes = axes.flatten()\n",
    "\n",
    "for i, column in enumerate(selected_columns):\n",
    "    sns.boxplot(x=df[column], ax=axes[i], orient='h')\n",
    "    axes[i].set_title(f'{column}')\n",
    "    axes[i].set_xlabel(\"\")\n",
    "    axes[i].set_ylabel(\"\")\n",
    "\n",
    "plt.tight_layout()\n",
    "plt.show()"
   ]
  },
  {
   "cell_type": "markdown",
   "metadata": {
    "cell_id": "a505bf4340be49b3b65f083f860d52f2",
    "deepnote_cell_type": "text-cell-p",
    "formattedRanges": []
   },
   "source": [
    "Na boxplotach dla zmiennych związanych z liczbą odwiedzin i czasem spędzonym na stronach widoczne są liczne i bardzo skrajne outliery. Szczególnie zmienne czasowe zawierają wartości sięgające nawet kilkudziesięciu tysięcy sekund (np. `ProductRelated_Duration` ponad 60 000 s, czyli ~17 godzin), co znacząco odbiega od typowych wartości.\n",
    "\n",
    "Tak długie sesje mogą wskazywać na:\n",
    "\n",
    "- zostawienie otwartej strony na długo bez aktywności\n",
    "- działanie botów\n",
    "- nietypowe zachowania użytkowników (np. wielokrotne przeglądanie wielu produktów)\n",
    "\n",
    "Warto rozważyć obsługę tych outlierów przed dalszą analizą, ponieważ pozostawienie ich bez przekształcenia może zaburzać modele i analizy statystyczne."
   ]
  },
  {
   "cell_type": "code",
   "execution_count": 11,
   "metadata": {
    "cell_id": "093d46b1ec9c4946b60dde65d003329d",
    "deepnote_cell_type": "code",
    "deepnote_to_be_reexecuted": true,
    "execution_context_id": "7eedb73a-de24-440b-9ed4-1df6acf98f0e",
    "execution_millis": 758,
    "execution_start": 1750015653370,
    "source_hash": "67924f91"
   },
   "outputs": [
    {
     "data": {
      "image/png": "[encoded data removed]",
      "text/plain": [
       "<Figure size 1800x800 with 4 Axes>"
      ]
     },
     "metadata": {},
     "output_type": "display_data"
    }
   ],
   "source": [
    "selected_columns = ['BounceRates', 'ExitRates', 'PageValues', 'SpecialDay']\n",
    "\n",
    "fig, axes = plt.subplots(2, 2, figsize=(18, 8))\n",
    "\n",
    "axes = axes.flatten()\n",
    "\n",
    "for i, column in enumerate(selected_columns):\n",
    "    sns.boxplot(x=df[column], ax=axes[i], orient='h')\n",
    "    axes[i].set_title(f'{column}')\n",
    "    axes[i].set_xlabel(\"\")\n",
    "    axes[i].set_ylabel(\"\")\n",
    "\n",
    "plt.tight_layout()\n",
    "plt.show()"
   ]
  },
  {
   "cell_type": "markdown",
   "metadata": {
    "cell_id": "7bbea7eaa67249ac8df2bd088b80793b",
    "deepnote_cell_type": "text-cell-p",
    "formattedRanges": []
   },
   "source": [
    "Na boxplotach widać potencjalne outliery dla zmiennych `BounceRates`, `ExitRates`, `SpecialDay` i `PageValues`, jednak statystyki opisowe pokazują, że wartości dla pierwszych trzech mieszczą się w zakresie [0, 1], co jest zgodne z ich naturą jako wskaźników – nie są to więc rzeczywiste odstępstwa. W przypadku `PageValues` wyższe wartości (nawet > 300) są również uzasadnione, ponieważ odzwierciedlają potencjalną wartość przychodową sesji. W związku z tym nie ma podstaw, by uznawać te wartości za błędne lub wymagające usunięcia."
   ]
  },
  {
   "cell_type": "markdown",
   "metadata": {
    "cell_id": "4f4dfb8d165144c884c802f85c3ca77d",
    "deepnote_cell_type": "text-cell-h2",
    "formattedRanges": []
   },
   "source": [
    "## Podział na zbiór treningowy, walidacyjny i testowy"
   ]
  },
  {
   "cell_type": "code",
   "execution_count": 12,
   "metadata": {
    "cell_id": "44c6803fd18743f3a19f737776321de3",
    "deepnote_cell_type": "code",
    "deepnote_to_be_reexecuted": true,
    "execution_context_id": "7eedb73a-de24-440b-9ed4-1df6acf98f0e",
    "execution_millis": 0,
    "execution_start": 1750015654185,
    "source_hash": "7a1d71b4"
   },
   "outputs": [],
   "source": [
    "# X_temp i y_temp to tymczasowe zbiory, które posłużą do utworzenia zbioru walidacyjnego i testowego\n",
    "\n",
    "X = df.drop(\"Revenue\", axis=1)\n",
    "y = df[\"Revenue\"]\n",
    "\n",
    "X_train, X_temp, y_train, y_temp = train_test_split(X, y, stratify=y, test_size=0.3, random_state=42)\n",
    "X_val, X_test, y_val, y_test = train_test_split(X_temp, y_temp, stratify=y_temp, test_size=0.5, random_state=42)"
   ]
  },
  {
   "cell_type": "code",
   "execution_count": 13,
   "metadata": {
    "cell_id": "71b2d7559513411bb5484ae13140da00",
    "deepnote_cell_type": "code",
    "deepnote_to_be_reexecuted": true,
    "execution_context_id": "7eedb73a-de24-440b-9ed4-1df6acf98f0e",
    "execution_millis": 1,
    "execution_start": 1750015654240,
    "source_hash": "e1ba444c"
   },
   "outputs": [
    {
     "data": {
      "text/plain": [
       "((8543, 17), (1831, 17), (1831, 17))"
      ]
     },
     "execution_count": 13,
     "metadata": {},
     "output_type": "execute_result"
    }
   ],
   "source": [
    "X_train.shape, X_val.shape, X_test.shape"
   ]
  },
  {
   "cell_type": "markdown",
   "metadata": {
    "cell_id": "10fd62c7ac694454b42e0ad3c35afdd7",
    "deepnote_cell_type": "text-cell-p",
    "formattedRanges": []
   },
   "source": [
    "Aby uniknąć przecieku danych i zapewnić obiektywną ocenę modeli, dane zostały podzielone na zbiór treningowy (70%), walidacyjny (15%) i testowy (15%). Podział został wykonany losowo, z zachowaniem proporcji klas zmiennej docelowej `Revenue`. Ponieważ zbiór danych jest niezbalansowany klasowo, zastosowano **losowanie warstwowe (stratify)**, aby każda część danych wiernie odzwierciedlała rozkład klas. "
   ]
  },
  {
   "cell_type": "markdown",
   "metadata": {
    "cell_id": "87687c347c42424f86ca6905a4cd2552",
    "deepnote_cell_type": "text-cell-h2",
    "formattedRanges": []
   },
   "source": [
    "## Grupowanie rzadkich kategorii w zmiennych kategorycznych"
   ]
  },
  {
   "cell_type": "code",
   "execution_count": 14,
   "metadata": {
    "cell_id": "fb77d938794f40cfb9ce6c4872bf1e58",
    "deepnote_cell_type": "code",
    "deepnote_to_be_reexecuted": true,
    "execution_context_id": "7eedb73a-de24-440b-9ed4-1df6acf98f0e",
    "execution_millis": 669,
    "execution_start": 1750015654300,
    "source_hash": "ae2f2a9f"
   },
   "outputs": [
    {
     "data": {
      "image/png": "[encoded data removed]",
      "text/plain": [
       "<Figure size 1800x500 with 3 Axes>"
      ]
     },
     "metadata": {},
     "output_type": "display_data"
    }
   ],
   "source": [
    "cols = ['OperatingSystems', 'Browser', 'TrafficType']\n",
    "fig, axes = plt.subplots(1, 3, figsize=(18, 5))\n",
    "\n",
    "for i, col in enumerate(cols):\n",
    "    counts = X_train[col].value_counts().sort_values(ascending=False)\n",
    "    counts.plot(kind='bar', ax=axes[i])\n",
    "    axes[i].set_title(f'Liczebność klas: {col}')\n",
    "    axes[i].set_ylabel('Liczba wystąpień')\n",
    "    axes[i].set_xlabel('Klasa')\n",
    "    axes[i].grid(axis='y')\n",
    "\n",
    "plt.tight_layout()\n",
    "plt.show()"
   ]
  },
  {
   "cell_type": "code",
   "execution_count": 15,
   "metadata": {
    "cell_id": "4a2b1ddbbcab4a9a9409a1d7589de836",
    "deepnote_cell_type": "code",
    "deepnote_to_be_reexecuted": true,
    "execution_context_id": "7eedb73a-de24-440b-9ed4-1df6acf98f0e",
    "execution_millis": 1,
    "execution_start": 1750015655020,
    "source_hash": "83df5dc4"
   },
   "outputs": [],
   "source": [
    "rare_thresholds = {\n",
    "    'OperatingSystems': 200,\n",
    "    'Browser': 100,\n",
    "    'TrafficType': 200\n",
    "}\n",
    "\n",
    "for col, threshold in rare_thresholds.items():\n",
    "    rare_labels = X_train[col].value_counts()[lambda x: x < threshold].index\n",
    "\n",
    "    for split in [X_train, X_val, X_test]:\n",
    "        split[col] = split[col].apply(lambda x: 'Other' if x in rare_labels else str(x))"
   ]
  },
  {
   "cell_type": "markdown",
   "metadata": {
    "cell_id": "0c88961a7726471087510e3aff2ad0f5",
    "deepnote_cell_type": "text-cell-p",
    "formattedRanges": []
   },
   "source": [
    "W celu poprawy jakości i stabilności modelu przeprowadzono grupowanie rzadko występujących kategorii w zmiennych kategorycznych. Klasy o liczności poniżej ustalonych progów zostały zastąpione wspólną etykietą „Other”, co ograniczyło ryzyko nadmiernego dopasowania oraz uprościło późniejsze kodowanie zmiennych."
   ]
  },
  {
   "cell_type": "markdown",
   "metadata": {
    "cell_id": "63b4362e78194da0b3cfb70ae317b2d8",
    "deepnote_cell_type": "text-cell-h2",
    "formattedRanges": []
   },
   "source": [
    "## Obsługa outlierów"
   ]
  },
  {
   "cell_type": "code",
   "execution_count": 16,
   "metadata": {
    "cell_id": "1b651825196c4e468969b3374eb90fcd",
    "deepnote_cell_type": "code",
    "deepnote_to_be_reexecuted": true,
    "execution_context_id": "7eedb73a-de24-440b-9ed4-1df6acf98f0e",
    "execution_millis": 1,
    "execution_start": 1750015655083,
    "source_hash": "f9311c54"
   },
   "outputs": [
    {
     "name": "stdout",
     "output_type": "stream",
     "text": [
      "X_train: przycięto łącznie 954 wartości\n",
      "X_val: przycięto łącznie 161 wartości\n",
      "X_test: przycięto łącznie 220 wartości\n"
     ]
    }
   ],
   "source": [
    "def winsorize_column_upper_only(series, upper):\n",
    "    mask = series > upper\n",
    "    return series.clip(upper=upper), mask\n",
    "\n",
    "duration_columns = [\n",
    "    \"Administrative\",\n",
    "    \"Administrative_Duration\",\n",
    "    \"Informational\",\n",
    "    \"Informational_Duration\",\n",
    "    \"ProductRelated\",\n",
    "    \"ProductRelated_Duration\"\n",
    "]\n",
    "\n",
    "counters = {\n",
    "    \"X_train\": 0,\n",
    "    \"X_val\": 0,\n",
    "    \"X_test\": 0\n",
    "}\n",
    "\n",
    "for col in duration_columns:\n",
    "    upper = X_train[col].quantile(0.98)\n",
    "\n",
    "    for X, name in zip([X_train, X_val, X_test], [\"X_train\", \"X_val\", \"X_test\"]):\n",
    "        X[col], mask = winsorize_column_upper_only(X[col], upper)\n",
    "        counters[name] += mask.sum()\n",
    "\n",
    "for name in counters:\n",
    "    print(f\"{name}: przycięto łącznie {counters[name]} wartości\")"
   ]
  },
  {
   "cell_type": "markdown",
   "metadata": {
    "cell_id": "f34d18f369c144738b5ff84a8c707fa3",
    "deepnote_cell_type": "text-cell-p",
    "formattedRanges": []
   },
   "source": [
    "Początkowo zastosowano metodę IQR do usuwania outlierów, jednak prowadziła ona do odrzucenia nawet 30% obserwacji, co skutkowało znaczną utratą informacji. W związku z tym zdecydowano się na łagodniejsze podejście – winsoryzację jedynie od góry. Dla każdej zmiennej liczbowej wartości powyżej 98. percentyla (wyznaczanego na zbiorze treningowym) zostały obcięte do wartości progowej, natomiast wartości niższe pozostawiono bez zmian. Takie rozwiązanie pozwoliło ograniczyć wpływ ekstremalnych obserwacji, zachowując jednocześnie pełny zbiór danych."
   ]
  },
  {
   "cell_type": "markdown",
   "metadata": {
    "cell_id": "20f7b8011c8140e4b88df5a1007e49d9",
    "deepnote_cell_type": "text-cell-h2",
    "formattedRanges": []
   },
   "source": [
    "## Wstępna selekcja cech o niskiej zmienności"
   ]
  },
  {
   "cell_type": "code",
   "execution_count": 17,
   "metadata": {
    "cell_id": "f48ffbf7998f4c8c90a16cfc8b9b2393",
    "deepnote_cell_type": "code",
    "deepnote_to_be_reexecuted": true,
    "execution_context_id": "7eedb73a-de24-440b-9ed4-1df6acf98f0e",
    "execution_millis": 1,
    "execution_start": 1750015655140,
    "source_hash": "ed361511"
   },
   "outputs": [
    {
     "name": "stdout",
     "output_type": "stream",
     "text": [
      "Cechy o niskiej zmienności:\n",
      "[]\n"
     ]
    }
   ],
   "source": [
    "X_train_num = X_train.select_dtypes(include=[np.number])\n",
    "X_train_cat = X_train.select_dtypes(include=['category'])\n",
    "\n",
    "var_num = X_train_num.var()\n",
    "low_var_num_cols = var_num[var_num < 1e-5].index.tolist()\n",
    "\n",
    "prop_cat = X_train_cat.apply(lambda x: x.value_counts(normalize=True).max())\n",
    "low_var_cat_cols = prop_cat[prop_cat > 0.95].index.tolist()\n",
    "\n",
    "low_variance_cols = low_var_num_cols + low_var_cat_cols\n",
    "\n",
    "print(\"Cechy o niskiej zmienności:\")\n",
    "print(low_variance_cols)"
   ]
  },
  {
   "cell_type": "markdown",
   "metadata": {
    "cell_id": "593f39b6a1424bcd8f6b50f2117fa326",
    "deepnote_cell_type": "text-cell-p",
    "formattedRanges": []
   },
   "source": [
    "Przeprowadzono wstępną selekcję cech na podstawie zmienności. Zmienna była uznawana za mało informacyjną, jeśli jej wariancja była bliska zeru (dla danych liczbowych) lub jeśli jedna z kategorii występowała w ponad 95% przypadków (dla danych kategorycznych). W analizowanym zbiorze nie wykryto zmiennych spełniających te kryteria."
   ]
  },
  {
   "cell_type": "markdown",
   "metadata": {
    "cell_id": "b4f62ba807b649ffb8e58dd9c7febc91",
    "deepnote_cell_type": "text-cell-h2",
    "formattedRanges": []
   },
   "source": [
    "## Sprawdzenie współliniowości zmiennych liczbowych"
   ]
  },
  {
   "cell_type": "code",
   "execution_count": 18,
   "metadata": {
    "cell_id": "1241451f3143455fb4d5fb8921986282",
    "deepnote_cell_type": "code",
    "deepnote_to_be_reexecuted": true,
    "execution_context_id": "7eedb73a-de24-440b-9ed4-1df6acf98f0e",
    "execution_millis": 706,
    "execution_start": 1750015655200,
    "source_hash": "3f0cb165"
   },
   "outputs": [
    {
     "data": {
      "image/png": "[encoded data removed]",
      "text/plain": [
       "<Figure size 1200x1000 with 2 Axes>"
      ]
     },
     "metadata": {},
     "output_type": "display_data"
    }
   ],
   "source": [
    "cor_matrix_df = X_train_num.corr(method='pearson')\n",
    "\n",
    "cor_matrix_df = cor_matrix_df.round(2)\n",
    "\n",
    "plt.figure(figsize=(12, 10))\n",
    "sns.heatmap(\n",
    "    cor_matrix_df,\n",
    "    annot=True,\n",
    "    fmt=\".2f\",\n",
    "    cmap=\"RdBu\",\n",
    "    center=0,\n",
    "    linewidths=0.5,\n",
    "    square=True\n",
    ")\n",
    "plt.title(\"Macierz korelacji Pearsona\")\n",
    "plt.xticks(rotation=45, ha='right')\n",
    "plt.yticks(rotation=0)\n",
    "plt.tight_layout()\n",
    "plt.show()"
   ]
  },
  {
   "cell_type": "code",
   "execution_count": 19,
   "metadata": {
    "cell_id": "39dfc0be9b8543aa8f26c378b8361e68",
    "deepnote_cell_type": "code",
    "deepnote_to_be_reexecuted": true,
    "execution_context_id": "7eedb73a-de24-440b-9ed4-1df6acf98f0e",
    "execution_millis": 0,
    "execution_start": 1750015655961,
    "source_hash": "51762d19"
   },
   "outputs": [],
   "source": [
    "cols_to_drop = ['BounceRates', 'Administrative', 'Informational', 'ProductRelated']\n",
    "\n",
    "X_train = X_train.drop(columns=cols_to_drop)\n",
    "X_val = X_val.drop(columns=cols_to_drop)\n",
    "X_test = X_test.drop(columns=cols_to_drop)"
   ]
  },
  {
   "cell_type": "markdown",
   "metadata": {
    "cell_id": "70fba323c3ca4dee91cdf923d55d2ba0",
    "deepnote_cell_type": "text-cell-p",
    "formattedRanges": []
   },
   "source": [
    "Ze zbioru danych usunięto cztery zmienne: `BounceRates`, `Administrative`, `Informational` oraz `ProductRelated`. Zmienna `BounceRates` została wykluczona z uwagi na bardzo wysoką korelację z `ExitRates` (r = 0.90). Pozostałe trzy zmienne (`Administrative`, `Informational`, `ProductRelated`) wykazywały silną korelację ze swoimi odpowiednikami czasowymi (`*_Duration`, r = 0.73–0.86), co wskazuje na dużą redundancję informacji. W związku z tym zostały usunięte, aby ograniczyć współliniowość i uprościć zbiór danych."
   ]
  },
  {
   "cell_type": "markdown",
   "metadata": {
    "cell_id": "d8a214bfff944b8097a457e6056a7640",
    "deepnote_cell_type": "text-cell-h2",
    "formattedRanges": []
   },
   "source": [
    "## Selekcja cech na podstawie Mutual Information"
   ]
  },
  {
   "cell_type": "code",
   "execution_count": 20,
   "metadata": {
    "cell_id": "7df90bb233cf4c909082c48a232a7417",
    "deepnote_cell_type": "code",
    "deepnote_table_invalid": false,
    "deepnote_table_loading": false,
    "deepnote_table_state": {
     "cellFormattingRules": [],
     "columnDisplayNames": [],
     "columnOrder": [
      "Feature",
      "MI_Score"
     ],
     "conditionalFilters": [],
     "filters": [],
     "hiddenColumnIds": [],
     "pageIndex": 0,
     "pageSize": 100,
     "sortBy": [],
     "wrappedTextColumnIds": []
    },
    "deepnote_to_be_reexecuted": true,
    "execution_context_id": "7eedb73a-de24-440b-9ed4-1df6acf98f0e",
    "execution_millis": 290,
    "execution_start": 1750015656020,
    "source_hash": "153e7dbd"
   },
   "outputs": [
    {
     "data": {
      "application/vnd.microsoft.datawrangler.viewer.v0+json": {
       "columns": [
        {
         "name": "index",
         "rawType": "int64",
         "type": "integer"
        },
        {
         "name": "Feature",
         "rawType": "object",
         "type": "string"
        },
        {
         "name": "MI_Score",
         "rawType": "float64",
         "type": "float"
        }
       ],
       "ref": "366de662-470a-44ba-814f-eccbc590680d",
       "rows": [
        [
         "4",
         "PageValues",
         "0.16625576013622845"
        ],
        [
         "3",
         "ExitRates",
         "0.04145312439972537"
        ],
        [
         "2",
         "ProductRelated_Duration",
         "0.033039025550108736"
        ],
        [
         "6",
         "Month",
         "0.015127881679808265"
        ],
        [
         "10",
         "TrafficType",
         "0.01460603478363763"
        ],
        [
         "0",
         "Administrative_Duration",
         "0.01416189270266055"
        ],
        [
         "1",
         "Informational_Duration",
         "0.00946186773616886"
        ],
        [
         "5",
         "SpecialDay",
         "0.005898983528864088"
        ],
        [
         "11",
         "VisitorType",
         "0.004198557540879062"
        ],
        [
         "7",
         "OperatingSystems",
         "0.003446359312536342"
        ],
        [
         "8",
         "Browser",
         "0.0005216396398781565"
        ],
        [
         "9",
         "Region",
         "0.0005007329460182501"
        ],
        [
         "12",
         "Weekend",
         "0.00043133061245917426"
        ]
       ],
       "shape": {
        "columns": 2,
        "rows": 13
       }
      },
      "text/html": [
       "<div>\n",
       "<style scoped>\n",
       "    .dataframe tbody tr th:only-of-type {\n",
       "        vertical-align: middle;\n",
       "    }\n",
       "\n",
       "    .dataframe tbody tr th {\n",
       "        vertical-align: top;\n",
       "    }\n",
       "\n",
       "    .dataframe thead th {\n",
       "        text-align: right;\n",
       "    }\n",
       "</style>\n",
       "<table border=\"1\" class=\"dataframe\">\n",
       "  <thead>\n",
       "    <tr style=\"text-align: right;\">\n",
       "      <th></th>\n",
       "      <th>Feature</th>\n",
       "      <th>MI_Score</th>\n",
       "    </tr>\n",
       "  </thead>\n",
       "  <tbody>\n",
       "    <tr>\n",
       "      <th>4</th>\n",
       "      <td>PageValues</td>\n",
       "      <td>0.166256</td>\n",
       "    </tr>\n",
       "    <tr>\n",
       "      <th>3</th>\n",
       "      <td>ExitRates</td>\n",
       "      <td>0.041453</td>\n",
       "    </tr>\n",
       "    <tr>\n",
       "      <th>2</th>\n",
       "      <td>ProductRelated_Duration</td>\n",
       "      <td>0.033039</td>\n",
       "    </tr>\n",
       "    <tr>\n",
       "      <th>6</th>\n",
       "      <td>Month</td>\n",
       "      <td>0.015128</td>\n",
       "    </tr>\n",
       "    <tr>\n",
       "      <th>10</th>\n",
       "      <td>TrafficType</td>\n",
       "      <td>0.014606</td>\n",
       "    </tr>\n",
       "    <tr>\n",
       "      <th>0</th>\n",
       "      <td>Administrative_Duration</td>\n",
       "      <td>0.014162</td>\n",
       "    </tr>\n",
       "    <tr>\n",
       "      <th>1</th>\n",
       "      <td>Informational_Duration</td>\n",
       "      <td>0.009462</td>\n",
       "    </tr>\n",
       "    <tr>\n",
       "      <th>5</th>\n",
       "      <td>SpecialDay</td>\n",
       "      <td>0.005899</td>\n",
       "    </tr>\n",
       "    <tr>\n",
       "      <th>11</th>\n",
       "      <td>VisitorType</td>\n",
       "      <td>0.004199</td>\n",
       "    </tr>\n",
       "    <tr>\n",
       "      <th>7</th>\n",
       "      <td>OperatingSystems</td>\n",
       "      <td>0.003446</td>\n",
       "    </tr>\n",
       "    <tr>\n",
       "      <th>8</th>\n",
       "      <td>Browser</td>\n",
       "      <td>0.000522</td>\n",
       "    </tr>\n",
       "    <tr>\n",
       "      <th>9</th>\n",
       "      <td>Region</td>\n",
       "      <td>0.000501</td>\n",
       "    </tr>\n",
       "    <tr>\n",
       "      <th>12</th>\n",
       "      <td>Weekend</td>\n",
       "      <td>0.000431</td>\n",
       "    </tr>\n",
       "  </tbody>\n",
       "</table>\n",
       "</div>"
      ],
      "text/plain": [
       "                    Feature  MI_Score\n",
       "4                PageValues  0.166256\n",
       "3                 ExitRates  0.041453\n",
       "2   ProductRelated_Duration  0.033039\n",
       "6                     Month  0.015128\n",
       "10              TrafficType  0.014606\n",
       "0   Administrative_Duration  0.014162\n",
       "1    Informational_Duration  0.009462\n",
       "5                SpecialDay  0.005899\n",
       "11              VisitorType  0.004199\n",
       "7          OperatingSystems  0.003446\n",
       "8                   Browser  0.000522\n",
       "9                    Region  0.000501\n",
       "12                  Weekend  0.000431"
      ]
     },
     "metadata": {},
     "output_type": "display_data"
    }
   ],
   "source": [
    "X_encoded = X_train.copy()\n",
    "\n",
    "categorical_cols = X_encoded.select_dtypes(exclude='number').columns\n",
    "\n",
    "encoder = OrdinalEncoder()\n",
    "X_encoded[categorical_cols] = encoder.fit_transform(X_encoded[categorical_cols])\n",
    "discrete_mask = [col in categorical_cols for col in X_encoded.columns]\n",
    "\n",
    "mi_scores = mutual_info_classif(X_encoded, y_train, discrete_features=discrete_mask, random_state=42)\n",
    "\n",
    "mi_scores_df = pd.DataFrame({\n",
    "    'Feature': X_encoded.columns,\n",
    "    'MI_Score': mi_scores\n",
    "}).sort_values(by='MI_Score', ascending=False)\n",
    "\n",
    "display(mi_scores_df)"
   ]
  },
  {
   "cell_type": "code",
   "execution_count": 21,
   "metadata": {
    "cell_id": "96dffc1d5546431c8d879d6d805cf615",
    "deepnote_cell_type": "code",
    "deepnote_to_be_reexecuted": true,
    "execution_context_id": "7eedb73a-de24-440b-9ed4-1df6acf98f0e",
    "execution_millis": 242,
    "execution_start": 1750015656402,
    "source_hash": "43817412"
   },
   "outputs": [
    {
     "data": {
      "image/png": "[encoded data removed]",
      "text/plain": [
       "<Figure size 1000x600 with 1 Axes>"
      ]
     },
     "metadata": {},
     "output_type": "display_data"
    }
   ],
   "source": [
    "mi_scores_values = mi_scores_df['MI_Score'].values\n",
    "features = mi_scores_df['Feature'].values\n",
    "\n",
    "plt.figure(figsize=(10, 6))\n",
    "plt.plot(range(1, len(mi_scores_values) + 1), mi_scores_values, marker='o')\n",
    "plt.xticks(ticks=range(1, len(features) + 1), labels=features, rotation=90)\n",
    "\n",
    "plt.axhline(y=0.01, color='red', linestyle='--', linewidth=1)\n",
    "\n",
    "plt.title('Wykres łokciowy - Mutual Information')\n",
    "plt.xlabel('Cechy')\n",
    "plt.ylabel('MI Score')\n",
    "plt.grid(True)\n",
    "plt.tight_layout()\n",
    "plt.show()"
   ]
  },
  {
   "cell_type": "markdown",
   "metadata": {
    "cell_id": "4390204c5249461c8a91a875370f4f36",
    "deepnote_cell_type": "text-cell-p",
    "formattedRanges": []
   },
   "source": [
    "Na podstawie uzyskanych wyników Mutual Information oraz wykresu łokciowego można zauważyć wyraźny spadek wartości informacyjnej po pierwszej cesze - `PageValues`, dla której wartość MI wynosi odpowiednio 0.1663. Oznacza to, że cecha ta ma istotny wpływ na przewidywanie zmiennej `Revenue`.\n",
    "\n",
    "Wartość Mutual Information dla kolejnych cech spada stopniowo (choć nadal powyżej przyjętego progu 0.01), co sugeruje ich ograniczony, ale niezerowy wkład w model predykcyjny. Z tego względu, do dalszej analizy wybrano sześć cech przekraczających ustalony próg istotności MI > 0.01."
   ]
  },
  {
   "cell_type": "code",
   "execution_count": 22,
   "metadata": {
    "cell_id": "9a5d266415d542a1bd982f8389033d0d",
    "deepnote_cell_type": "code",
    "deepnote_to_be_reexecuted": true,
    "execution_context_id": "7eedb73a-de24-440b-9ed4-1df6acf98f0e",
    "execution_millis": 1,
    "execution_start": 1750015656710,
    "source_hash": "57c24df2"
   },
   "outputs": [
    {
     "name": "stdout",
     "output_type": "stream",
     "text": [
      "Wybrane cechy: ['PageValues', 'ExitRates', 'ProductRelated_Duration', 'Month', 'TrafficType', 'Administrative_Duration']\n"
     ]
    }
   ],
   "source": [
    "selected_features = mi_scores_df['Feature'].head(6).tolist()\n",
    "print(\"Wybrane cechy:\", selected_features)"
   ]
  },
  {
   "cell_type": "markdown",
   "metadata": {
    "cell_id": "0b11f25f7bb043d29cf3751927882b0a",
    "deepnote_cell_type": "text-cell-p",
    "formattedRanges": []
   },
   "source": [
    "W kolejnym kroku cechy te zostaną poddane analizie zależności względem zmiennej `Revenue`, zarówno wizualnie, jak i statystycznie. Pozwoli to ocenić, które z nich faktycznie rozróżniają klasy oraz czy warto ograniczyć model do mniejszej liczby predyktorów o silniejszym wpływie, czy też zachować pełny zestaw cech."
   ]
  },
  {
   "cell_type": "code",
   "execution_count": 23,
   "metadata": {
    "cell_id": "26651b9864cc4dd6b2e2533979725934",
    "deepnote_cell_type": "code",
    "deepnote_to_be_reexecuted": true,
    "execution_context_id": "7eedb73a-de24-440b-9ed4-1df6acf98f0e",
    "execution_millis": 0,
    "execution_start": 1750015656770,
    "source_hash": "b1dc9288"
   },
   "outputs": [],
   "source": [
    "X_train = X_train[selected_features].copy()\n",
    "X_val = X_val[selected_features].copy()\n",
    "X_test = X_test[selected_features].copy()"
   ]
  },
  {
   "cell_type": "markdown",
   "metadata": {
    "cell_id": "db25edf1c7174254a5128f5c6d156fb8",
    "deepnote_cell_type": "text-cell-h2",
    "formattedRanges": []
   },
   "source": [
    "## Analiza zależności między zmiennymi numerycznymi a wynikiem sesji zakupowej"
   ]
  },
  {
   "cell_type": "code",
   "execution_count": 24,
   "metadata": {
    "cell_id": "2a85710229c049c6aa8de79d05582e9a",
    "deepnote_cell_type": "code",
    "deepnote_to_be_reexecuted": true,
    "execution_context_id": "7eedb73a-de24-440b-9ed4-1df6acf98f0e",
    "execution_millis": 1306,
    "execution_start": 1750015656820,
    "source_hash": "3ac78681"
   },
   "outputs": [
    {
     "data": {
      "image/png": "[encoded data removed]",
      "text/plain": [
       "<Figure size 1400x1000 with 4 Axes>"
      ]
     },
     "metadata": {},
     "output_type": "display_data"
    }
   ],
   "source": [
    "# X_train_plot jest definiowane dlatego, że sns wymaga ramki danych ze zmienną zależną `Revenue`.\n",
    "X_train_plot = X_train.copy()\n",
    "X_train_plot[\"Revenue\"] = y_train\n",
    "\n",
    "# Lista zmiennych numerycznych\n",
    "numeric_features = ['PageValues', 'ExitRates', 'ProductRelated_Duration', 'Administrative_Duration']\n",
    "\n",
    "# Ustawienia stylu\n",
    "sns.set(style=\"whitegrid\")\n",
    "plt.figure(figsize=(14, 10))\n",
    "palette_colors = {True: \"#4CAF50\", False: \"#F44336\"}\n",
    "\n",
    "# Tworzenie boxplotów na podstawie X_train_plot (a nie df!)\n",
    "for i, feature in enumerate(numeric_features):\n",
    "    plt.subplot(2, 2, i + 1)\n",
    "    sns.boxplot(data=X_train_plot, x=\"Revenue\", y=feature, hue=\"Revenue\",\n",
    "                palette=palette_colors, dodge=False, legend=False)\n",
    "    plt.title(f'{feature} vs Revenue')\n",
    "\n",
    "plt.tight_layout()\n",
    "plt.show()"
   ]
  },
  {
   "cell_type": "markdown",
   "metadata": {
    "cell_id": "462fe75a7efe4ff5acb25024fa84a8cd",
    "deepnote_cell_type": "text-cell-bullet",
    "formattedRanges": []
   },
   "source": [
    "- `PageValues` - widocznie wyższe wartości dla sesji zakończonych zakupem – sugeruje silny związek z `Revenue`.\n",
    "- `ExitRates` - widocznie niższe w przypadku zakupów – przypuszczamy, że zmienna ta istotnie różnicuje zmienną zależną.\n",
    "- `ProductRelated_Duration` - osoby dokonujące zakupu spędzają widocznie więcej czasu na stronach produktowych.\n",
    "- `Administrative_Duration` - również nieco wyższe w sesjach zakończonych zakupem, ale różnica wizualnie mniejsza niż w przypadku `PageValues`."
   ]
  },
  {
   "cell_type": "markdown",
   "metadata": {
    "cell_id": "8ebbf7a421b444dc80cd8eb81fd145cd",
    "deepnote_cell_type": "text-cell-p",
    "formattedRanges": []
   },
   "source": [
    "Można zatem przypuszczać, że zmienne `PageValues`, `ExitRates`, `ProductRelated_Duration` oraz `Administrative_Duration` mają istotny wpływ na zmienną zależną `Revenue`. Zostanie to sprawdzone statystycznie zaczynając od testu normalności, a następnie testu t-Studenta lub Manna-Whitneya."
   ]
  },
  {
   "cell_type": "code",
   "execution_count": 25,
   "metadata": {
    "cell_id": "0e0240f676b141e99c92c6a1cd2ebd84",
    "deepnote_cell_type": "code",
    "deepnote_to_be_reexecuted": true,
    "execution_context_id": "7eedb73a-de24-440b-9ed4-1df6acf98f0e",
    "execution_millis": 0,
    "execution_start": 1750015658181,
    "source_hash": "4783114"
   },
   "outputs": [
    {
     "name": "stdout",
     "output_type": "stream",
     "text": [
      "PageValues:\n",
      "  Revenue = True:  stat = 0.7302, p = 0.0000\n",
      "  Revenue = False: stat = 0.2263, p = 0.0000\n",
      "\n",
      "ExitRates:\n",
      "  Revenue = True:  stat = 0.8736, p = 0.0000\n",
      "  Revenue = False: stat = 0.7150, p = 0.0000\n",
      "\n",
      "ProductRelated_Duration:\n",
      "  Revenue = True:  stat = 0.7939, p = 0.0000\n",
      "  Revenue = False: stat = 0.7447, p = 0.0000\n",
      "\n",
      "Administrative_Duration:\n",
      "  Revenue = True:  stat = 0.7305, p = 0.0000\n",
      "  Revenue = False: stat = 0.5670, p = 0.0000\n",
      "\n"
     ]
    }
   ],
   "source": [
    "for feature in numeric_features:\n",
    "    group_true = X_train[y_train == True][feature]\n",
    "    group_false = X_train[y_train == False][feature]\n",
    "\n",
    "    stat_true, pval_true = shapiro(group_true.sample(500, random_state=1))  # próbka, bo ograniczenie 5000 w Shapiro\n",
    "    stat_false, pval_false = shapiro(group_false.sample(500, random_state=1))\n",
    "\n",
    "    print(f\"{feature}:\")\n",
    "    print(f\"  Revenue = True:  stat = {stat_true:.4f}, p = {pval_true:.4f}\")\n",
    "    print(f\"  Revenue = False: stat = {stat_false:.4f}, p = {pval_false:.4f}\\n\")"
   ]
  },
  {
   "cell_type": "markdown",
   "metadata": {
    "cell_id": "b2b2abc73b8a445abc1c9825bea7c214",
    "deepnote_cell_type": "text-cell-p",
    "formattedRanges": []
   },
   "source": [
    "Dla wszystkich analizowanych zmiennych (`PageValues`, `ExitRates`, `ProductRelated_Duration`, `Administrative_Duration`) otrzymano p-value < 0.05 zarówno dla grupy `Revenue = True`, jak i `Revenue = False`, zatem odrzucamy hipotezę o normalności rozkładu we wszystkich przypadkach.  Zamiast testu t-Studenta zastosujemy nieparametryczny test Manna-Whitneya, który nie zakłada normalności."
   ]
  },
  {
   "cell_type": "code",
   "execution_count": 26,
   "metadata": {
    "cell_id": "7ea05c749e8246249c53e055b6b714a8",
    "deepnote_cell_type": "code",
    "deepnote_to_be_reexecuted": true,
    "execution_context_id": "7eedb73a-de24-440b-9ed4-1df6acf98f0e",
    "execution_millis": 1,
    "execution_start": 1750015658234,
    "source_hash": "c4058e76"
   },
   "outputs": [
    {
     "name": "stdout",
     "output_type": "stream",
     "text": [
      " PageValues | Revenue: p = 0.0000\n",
      " ExitRates | Revenue: p = 0.0000\n",
      " ProductRelated_Duration | Revenue: p = 0.0000\n",
      " Administrative_Duration | Revenue: p = 0.0000\n"
     ]
    }
   ],
   "source": [
    "for feature in numeric_features:\n",
    "    group_true = X_train[y_train == True][feature]\n",
    "    group_false = X_train[y_train == False][feature]\n",
    "\n",
    "    stat, pval = mannwhitneyu(group_true, group_false, alternative='two-sided')\n",
    "\n",
    "    print(f\" {feature} | Revenue: p = {pval:.4f}\")"
   ]
  },
  {
   "cell_type": "markdown",
   "metadata": {
    "cell_id": "8ce3937f376a46369e1b3d50eb3dd440",
    "deepnote_cell_type": "text-cell-p",
    "formattedRanges": []
   },
   "source": [
    "Dla wszystkich zmiennych numerycznych przeprowadzono test nieparametryczny Manna-Whitneya w celu porównania rozkładów tych cech pomiędzy grupami:\n",
    "`Revenue = True` (zakup) oraz `Revenue = False` (brak zakupu).\n",
    "W każdym przypadku uzyskano wartość p < 0.05, co oznacza, że:\n",
    "**Istnieją statystycznie istotne różnice w rozkładach tych cech między sesjami zakończonymi zakupem a tymi bez zakupu**."
   ]
  },
  {
   "cell_type": "markdown",
   "metadata": {
    "cell_id": "4478f800f13d496595d2917e7929a24d",
    "deepnote_cell_type": "text-cell-h2",
    "formattedRanges": []
   },
   "source": [
    "## Analiza zależności między zmiennymi kategorycznymi a wynikiem sesji zakupowej"
   ]
  },
  {
   "cell_type": "code",
   "execution_count": 27,
   "metadata": {
    "cell_id": "dd1a35d3fd204eefbe6828e1cc5509ec",
    "deepnote_cell_type": "code",
    "deepnote_to_be_reexecuted": true,
    "execution_context_id": "7eedb73a-de24-440b-9ed4-1df6acf98f0e",
    "execution_millis": 873,
    "execution_start": 1750015658291,
    "source_hash": "14acc02c"
   },
   "outputs": [
    {
     "data": {
      "image/png": "[encoded data removed]",
      "text/plain": [
       "<Figure size 1400x600 with 2 Axes>"
      ]
     },
     "metadata": {},
     "output_type": "display_data"
    }
   ],
   "source": [
    "categorical_features = ['Month', 'TrafficType']\n",
    "\n",
    "plt.figure(figsize=(14, 6))\n",
    "\n",
    "for i, feature in enumerate(categorical_features):\n",
    "    plt.subplot(1, 2, i + 1)\n",
    "    sns.countplot(data=X_train_plot, x=feature, hue=\"Revenue\")\n",
    "    plt.title(f'{feature} vs Revenue')\n",
    "    plt.xticks(rotation=45)\n",
    "\n",
    "plt.tight_layout()\n",
    "plt.show()"
   ]
  },
  {
   "cell_type": "markdown",
   "metadata": {
    "cell_id": "9eb3a8b4f40e4675846a68fe27a36652",
    "deepnote_cell_type": "text-cell-bullet",
    "formattedRanges": []
   },
   "source": [
    "-  zauważalne są większe odsetki zakupów w listopadzie i maju porównując z pozostałymi miesiącami\n",
    "- najwięcej transakcji pochodzi z typu 2 oraz 1 - może to wskazywać na skuteczniejsze kanały marketingowe."
   ]
  },
  {
   "cell_type": "markdown",
   "metadata": {
    "cell_id": "89bd3968fa5748e5b6eebc7996c6b9a0",
    "deepnote_cell_type": "text-cell-p",
    "formattedRanges": []
   },
   "source": [
    "Można zatem przypuszcza, że zmienne `Month` i `TrafficType` mają istotny wpływ na decyzję o dokonaniu zakupu. Zostanie to zweryfikowane testem niezależności chi-kwadrat."
   ]
  },
  {
   "cell_type": "code",
   "execution_count": 28,
   "metadata": {
    "cell_id": "705061177d9e425bada2a4d340c025b4",
    "deepnote_cell_type": "code",
    "deepnote_to_be_reexecuted": true,
    "execution_context_id": "7eedb73a-de24-440b-9ed4-1df6acf98f0e",
    "execution_millis": 1,
    "execution_start": 1750015659220,
    "source_hash": "cb113e0f"
   },
   "outputs": [
    {
     "name": "stdout",
     "output_type": "stream",
     "text": [
      "Month | Revenue:\n",
      " p = 1.0978e-50\n",
      "TrafficType | Revenue:\n",
      " p = 2.3464e-48\n"
     ]
    }
   ],
   "source": [
    "for feature in categorical_features:\n",
    "    contingency = pd.crosstab(X_train_plot[feature], X_train_plot[\"Revenue\"])\n",
    "    chi2, p, dof, expected = chi2_contingency(contingency)\n",
    "\n",
    "    print(f\"{feature} | Revenue:\")\n",
    "    print(f\" p = {p:.4e}\")"
   ]
  },
  {
   "cell_type": "markdown",
   "metadata": {
    "cell_id": "1fad009418a841a099b37fa3a8c6510e",
    "deepnote_cell_type": "text-cell-p",
    "formattedRanges": []
   },
   "source": [
    "Dla obu analizowanych zmiennych kategorycznych otrzymano bardzo niskie wartości p (p < 0.05) w teście niezależności chi-kwadrat. Oznacza to, że **istnieje statystycznie istotna zależność** między zmienną `Revenue` a zmiennymi `Month` i `TrafficType`. W związku z tym odrzucamy hipotezę o niezależności. Można więc przypuszczać, że miesiąc, w którym miała miejsce sesja, oraz źródło ruchu użytkownika wpływają na decyzję o dokonaniu zakupu."
   ]
  },
  {
   "cell_type": "markdown",
   "metadata": {
    "cell_id": "cdd99f69dee24602bd947ce4c2d0fef5",
    "deepnote_cell_type": "text-cell-h2",
    "formattedRanges": []
   },
   "source": [
    "## Ostateczny wniosek - wybór cech do dalszego modelowania"
   ]
  },
  {
   "cell_type": "markdown",
   "metadata": {
    "cell_id": "e87f17b2efc54526ad384bf5a680011d",
    "deepnote_cell_type": "text-cell-p",
    "formattedRanges": []
   },
   "source": [
    "Na podstawie przeprowadzonych testów statystycznych wykazano, że wszystkie sześć cech wybranych wcześniej na podstawie Mutual Information:"
   ]
  },
  {
   "cell_type": "markdown",
   "metadata": {
    "cell_id": "91b68ab7b6aa42fbaf985065e51f0333",
    "deepnote_cell_type": "text-cell-bullet",
    "formattedRanges": []
   },
   "source": [
    "- `PageValues`\n",
    "- `ExitRates`\n",
    "- `ProductRelated_Duration`\n",
    "- `Administrative_Duration`\n",
    "- `Month`\n",
    "- `TrafficType`\n",
    "\n",
    "**są statystycznie istotnie zróżnicowane względem zmiennej docelowej** `Revenue`.\n",
    "W związku z tym **wszystkie te cechy zostaną uwzględnione w dalszym etapie trenowania modeli klasyfikacyjnych**."
   ]
  },
  {
   "cell_type": "markdown",
   "metadata": {
    "cell_id": "60bd492b65a442fab1240de621fd4785",
    "deepnote_cell_type": "text-cell-h2",
    "formattedRanges": []
   },
   "source": [
    "## Standaryzacja zmiennych numerycznych"
   ]
  },
  {
   "cell_type": "code",
   "execution_count": 29,
   "metadata": {
    "cell_id": "a5a041964c7e4e4aaaf99dcbf9153c5c",
    "deepnote_cell_type": "code",
    "deepnote_to_be_reexecuted": true,
    "execution_context_id": "7eedb73a-de24-440b-9ed4-1df6acf98f0e",
    "execution_millis": 0,
    "execution_start": 1750015659280,
    "source_hash": "ce3af76"
   },
   "outputs": [],
   "source": [
    "num_cols = X_train.select_dtypes(include=['float64', 'int64']).columns\n",
    "\n",
    "scaler = StandardScaler()\n",
    "\n",
    "X_train_scaled = scaler.fit_transform(X_train[num_cols])\n",
    "X_val_scaled = scaler.transform(X_val[num_cols])\n",
    "X_test_scaled = scaler.transform(X_test[num_cols])\n",
    "\n",
    "X_train_final = pd.concat([\n",
    "    pd.DataFrame(X_train_scaled, columns=num_cols, index=X_train.index),\n",
    "    X_train.drop(columns=num_cols)\n",
    "], axis=1)\n",
    "\n",
    "X_val_final = pd.concat([\n",
    "    pd.DataFrame(X_val_scaled, columns=num_cols, index=X_val.index),\n",
    "    X_val.drop(columns=num_cols)\n",
    "], axis=1)\n",
    "\n",
    "X_test_final = pd.concat([\n",
    "    pd.DataFrame(X_test_scaled, columns=num_cols, index=X_test.index),\n",
    "    X_test.drop(columns=num_cols)\n",
    "], axis=1)"
   ]
  },
  {
   "cell_type": "markdown",
   "metadata": {
    "cell_id": "f6d2b8c4898c4f1fa92d748956a5be00",
    "deepnote_cell_type": "text-cell-p",
    "formattedRanges": []
   },
   "source": [
    "Zmiennym numerycznym nadano standaryzowaną postać za pomocą transformatora `StandardScaler`, przekształcającego dane do rozkładu o średniej 0 i odchyleniu standardowym 1.\n",
    "\n",
    "Parametry skalowania (średnia i odchylenie) wyznaczono wyłącznie na zbiorze treningowym, a następnie zastosowano je do zbiorów walidacyjnego i testowego. Pozwoliło to uniknąć zjawiska przecieku danych (data leakage)."
   ]
  },
  {
   "cell_type": "markdown",
   "metadata": {
    "cell_id": "e1732fc576aa4480aee2ff39cfb2f9d4",
    "deepnote_cell_type": "text-cell-h2",
    "formattedRanges": []
   },
   "source": [
    "## Kodowanie one-hot zmiennych kategorycznych"
   ]
  },
  {
   "cell_type": "code",
   "execution_count": 30,
   "metadata": {
    "cell_id": "4e0816dd8af645cda92e8046bf773eb0",
    "deepnote_cell_type": "code",
    "deepnote_to_be_reexecuted": true,
    "execution_context_id": "7eedb73a-de24-440b-9ed4-1df6acf98f0e",
    "execution_millis": 1,
    "execution_start": 1750015659355,
    "source_hash": "870c810a"
   },
   "outputs": [],
   "source": [
    "X_train_final = pd.get_dummies(X_train_final, columns=['Month', 'TrafficType'], drop_first=True, dtype=int)\n",
    "X_val_final = pd.get_dummies(X_val_final, columns=['Month', 'TrafficType'], drop_first=True, dtype=int)\n",
    "X_test_final = pd.get_dummies(X_test_final, columns=['Month', 'TrafficType'], drop_first=True, dtype=int)"
   ]
  },
  {
   "cell_type": "markdown",
   "metadata": {
    "cell_id": "1444ead4a51d4e7d800c29774780bcb5",
    "deepnote_cell_type": "text-cell-p",
    "formattedRanges": []
   },
   "source": [
    "Zmiennym kategorycznym przypisano reprezentację numeryczną za pomocą kodowania one-hot. W ramach tej transformacji każda kategoria została przekształcona w osobną kolumnę binarną (0/1), przy czym zastosowano parametr `drop_first=True`, aby uniknąć kolinearności.\n",
    "\n",
    "Kodowanie przeprowadzono osobno dla zbiorów treningowego, walidacyjnego oraz testowego, z zachowaniem tych samych kategorii. Typ danych kolumn wynikowych został jawnie ustawiony jako `int`, co zapewnia pełną kompatybilność z algorytmami uczenia maszynowego."
   ]
  },
  {
   "cell_type": "code",
   "execution_count": 31,
   "metadata": {
    "cell_id": "cc14c068d27a4a2281c111c02ac29b5b",
    "deepnote_cell_type": "code",
    "deepnote_to_be_reexecuted": true,
    "execution_context_id": "7eedb73a-de24-440b-9ed4-1df6acf98f0e",
    "execution_millis": 0,
    "execution_start": 1750015659420,
    "source_hash": "b14b27c"
   },
   "outputs": [],
   "source": [
    "y_train = y_train.astype(int)\n",
    "y_val = y_val.astype(int)\n",
    "y_test = y_test.astype(int)"
   ]
  },
  {
   "cell_type": "markdown",
   "metadata": {
    "cell_id": "c0011cdf796b4778b4d39cd03ab44855",
    "deepnote_cell_type": "text-cell-p",
    "formattedRanges": []
   },
   "source": [
    "Zmienna docelowa `Revenue`, pierwotnie zapisana jako wartość logiczna (True/False), została przekształcona na format numeryczny (0/1):\n",
    "`False = 0`, `True = 1`.\n",
    "Taka postać zmiennej jest wymagana przez większość algorytmów klasyfikacyjnych, które oczekują etykiet w postaci liczb całkowitych."
   ]
  },
  {
   "cell_type": "markdown",
   "metadata": {
    "cell_id": "789b883d7ef04bfb9ab5d13b00fee10c",
    "deepnote_cell_type": "text-cell-h2",
    "formattedRanges": []
   },
   "source": [
    "## Balansowanie klas w zbiorze treningowym"
   ]
  },
  {
   "cell_type": "code",
   "execution_count": 32,
   "metadata": {
    "cell_id": "54608e908ca24f2a902c68a7089fb9ea",
    "deepnote_cell_type": "code",
    "deepnote_to_be_reexecuted": true,
    "execution_context_id": "7eedb73a-de24-440b-9ed4-1df6acf98f0e",
    "execution_millis": 1228,
    "execution_start": 1750015659500,
    "source_hash": "166ad47b"
   },
   "outputs": [
    {
     "name": "stdout",
     "output_type": "stream",
     "text": [
      "Oryginalny zbiór (bez resamplingu): {0: 7207, 1: 1336}\n",
      "SMOTE: {0: 7207, 1: 7207}\n",
      "ADASYN: {0: 7207, 1: 7203}\n",
      "Random Oversampling: {0: 7207, 1: 7207}\n",
      "Random Undersampling: {0: 1336, 1: 1336}\n"
     ]
    }
   ],
   "source": [
    "samplers = {\n",
    "    \"random_oversampling\": RandomOverSampler(random_state=42),\n",
    "    \"smote\": SMOTE(random_state=42),\n",
    "    \"adasyn\": ADASYN(random_state=42),\n",
    "    \"random_undersampling\": RandomUnderSampler(random_state=42)\n",
    "}\n",
    "\n",
    "X_train_smote, y_train_smote = samplers[\"smote\"].fit_resample(X_train_final, y_train)\n",
    "X_train_adasyn, y_train_adasyn = samplers[\"adasyn\"].fit_resample(X_train_final, y_train)\n",
    "X_train_over, y_train_over = samplers[\"random_oversampling\"].fit_resample(X_train_final, y_train)\n",
    "X_train_under, y_train_under = samplers[\"random_undersampling\"].fit_resample(X_train_final, y_train)\n",
    "\n",
    "print(\"Oryginalny zbiór (bez resamplingu):\", y_train.value_counts().to_dict())\n",
    "print(\"SMOTE:\", y_train_smote.value_counts().to_dict())\n",
    "print(\"ADASYN:\", y_train_adasyn.value_counts().to_dict())\n",
    "print(\"Random Oversampling:\", y_train_over.value_counts().to_dict())\n",
    "print(\"Random Undersampling:\", y_train_under.value_counts().to_dict())"
   ]
  },
  {
   "cell_type": "markdown",
   "metadata": {
    "cell_id": "74b03a00dfd74d3cbbd99f2a3193a489",
    "deepnote_cell_type": "text-cell-p",
    "formattedRanges": []
   },
   "source": [
    "W związku z dużą nierównowagą klas w zbiorze danych (znaczna przewaga obserwacji z `Revenue = 0` nad `Revenue = 1`), zastosowano techniki balansowania klas wyłącznie na zbiorze treningowym. Celem było zwiększenie skuteczności klasyfikatorów w wykrywaniu przypadków zakończonych zakupem.\n",
    "\n",
    "Wykorzystano następujące metody balansowania:\n",
    "\n",
    "- **Random Oversampling** – losowe powielanie obserwacji klasy mniejszościowej do poziomu klasy większościowej\n",
    "- **SMOTE (Synthetic Minority Over-sampling Technique)** – generowanie syntetycznych obserwacji klasy mniejszościowej na podstawie sąsiadów\n",
    "- **ADASYN (Adaptive Synthetic Sampling)** – odmiana SMOTE ukierunkowana na trudniejsze przypadki\n",
    "- **Random Undersampling** – losowe usunięcie obserwacji klasy większościowej, tak aby liczebność klas była równa\n",
    "\n",
    "Dla każdej z wymienionych metod przygotowano osobne zbiory treningowe. Dane walidacyjne i testowe pozostały bez zmian, zgodnie z zasadą, że balansowanie stosuje się wyłącznie na etapie trenowania modeli."
   ]
  },
  {
   "cell_type": "markdown",
   "metadata": {
    "cell_id": "4d5f0c55dfe64096ada13a58bae4dd13",
    "deepnote_cell_type": "text-cell-h2",
    "formattedRanges": []
   },
   "source": [
    "## Porównanie modeli klasyfikacyjnych w zależności od metody balansowania danych"
   ]
  },
  {
   "cell_type": "markdown",
   "metadata": {
    "cell_id": "ec0dfa2a085e40c49774a74827f43b01",
    "deepnote_cell_type": "text-cell-p",
    "formattedRanges": []
   },
   "source": [
    "Każdy z przygotowanych zbalansowanych zbiorów zostanie wykorzystany do trenowania pięciu wybranych modeli klasyfikacyjnych:\n",
    "\n",
    "- lasu losowego (Random Forest)\n",
    "- regresji logistycznej\n",
    "- maszyny wektorów nośnych (SVM)\n",
    "- naiwnego klasyfikatora Bayesa\n",
    "- modelu XGBoost\n",
    "\n",
    "Dla każdego połączenia metody balansowania i modelu obliczone zostaną metryki klasyfikacji, a następnie wybrana zostanie najlepsza kombinacja."
   ]
  },
  {
   "cell_type": "code",
   "execution_count": 33,
   "metadata": {
    "cell_id": "a79098ab824e47e7be14fb8f35b3b959",
    "deepnote_cell_type": "code",
    "deepnote_to_be_reexecuted": true,
    "execution_context_id": "7eedb73a-de24-440b-9ed4-1df6acf98f0e",
    "execution_millis": 1,
    "execution_start": 1750015660780,
    "source_hash": "30e0fb70"
   },
   "outputs": [],
   "source": [
    "datasets = {\n",
    "    \"Oryginalny\": (X_train_final, y_train),\n",
    "    \"SMOTE\": (X_train_smote, y_train_smote),\n",
    "    \"ADASYN\": (X_train_adasyn, y_train_adasyn),\n",
    "    \"Random Oversampling\": (X_train_over, y_train_over),\n",
    "    \"Random Undersampling\": (X_train_under, y_train_under)\n",
    "}"
   ]
  },
  {
   "cell_type": "code",
   "execution_count": 34,
   "metadata": {
    "cell_id": "96157545dda8440791aea44b314e0448",
    "deepnote_cell_type": "code",
    "deepnote_to_be_reexecuted": true,
    "execution_context_id": "7eedb73a-de24-440b-9ed4-1df6acf98f0e",
    "execution_millis": 0,
    "execution_start": 1750015660840,
    "source_hash": "d477756f"
   },
   "outputs": [],
   "source": [
    "def test_balancing_methods(model, model_name, datasets, X_val_final, y_val):\n",
    "    results = {model_name: {}}\n",
    "\n",
    "    for name, (X_tr, y_tr) in datasets.items():\n",
    "        clf = clone(model)\n",
    "        clf.fit(X_tr, y_tr)\n",
    "\n",
    "        y_pred = clf.predict(X_val_final)\n",
    "        cm = confusion_matrix(y_val, y_pred)\n",
    "\n",
    "        results[model_name][name] = {\n",
    "            \"F1-Score_Val\": f1_score(y_val, y_pred, average=\"binary\", zero_division=0),\n",
    "            \"Recall_Val\": recall_score(y_val, y_pred, average=\"binary\", zero_division=0),\n",
    "            \"Precision_Val\": precision_score(y_val, y_pred, average=\"binary\", zero_division=0),\n",
    "            \"Accuracy_Val\": accuracy_score(y_val, y_pred),\n",
    "            \"Confusion_Matrix_Val\": cm\n",
    "        }\n",
    "\n",
    "    return results"
   ]
  },
  {
   "cell_type": "markdown",
   "metadata": {
    "cell_id": "5f933f548dd24c80b4992031395d33a1",
    "deepnote_cell_type": "text-cell-h2",
    "formattedRanges": []
   },
   "source": [
    "## Random Forest"
   ]
  },
  {
   "cell_type": "code",
   "execution_count": 35,
   "metadata": {
    "cell_id": "8e4d05db07a24707baccf4b662531d17",
    "deepnote_cell_type": "code",
    "deepnote_to_be_reexecuted": true,
    "execution_context_id": "7eedb73a-de24-440b-9ed4-1df6acf98f0e",
    "execution_millis": 7268,
    "execution_start": 1750015660890,
    "source_hash": "2ceeb66"
   },
   "outputs": [],
   "source": [
    "model = RandomForestClassifier(random_state=42)\n",
    "model_name = \"Random Forest\"\n",
    "\n",
    "results_rf = test_balancing_methods(model, model_name, datasets, X_val_final, y_val)"
   ]
  },
  {
   "cell_type": "code",
   "execution_count": 36,
   "metadata": {
    "cell_id": "3fc21846620b4be2b65d395b96fb254f",
    "deepnote_cell_type": "code",
    "deepnote_to_be_reexecuted": true,
    "execution_context_id": "7eedb73a-de24-440b-9ed4-1df6acf98f0e",
    "execution_millis": 13,
    "execution_start": 1750015668210,
    "source_hash": "38312fed"
   },
   "outputs": [
    {
     "data": {
      "text/html": [
       "<style type=\"text/css\">\n",
       "#T_5734b_row3_col0, #T_5734b_row3_col1, #T_5734b_row3_col2, #T_5734b_row3_col3 {\n",
       "  background-color: #dff0d8;\n",
       "  font-weight: bold;\n",
       "}\n",
       "</style>\n",
       "<table id=\"T_5734b\">\n",
       "  <thead>\n",
       "    <tr>\n",
       "      <th class=\"blank level0\" >&nbsp;</th>\n",
       "      <th id=\"T_5734b_level0_col0\" class=\"col_heading level0 col0\" >F1-Score_Val</th>\n",
       "      <th id=\"T_5734b_level0_col1\" class=\"col_heading level0 col1\" >Recall_Val</th>\n",
       "      <th id=\"T_5734b_level0_col2\" class=\"col_heading level0 col2\" >Precision_Val</th>\n",
       "      <th id=\"T_5734b_level0_col3\" class=\"col_heading level0 col3\" >Accuracy_Val</th>\n",
       "    </tr>\n",
       "  </thead>\n",
       "  <tbody>\n",
       "    <tr>\n",
       "      <th id=\"T_5734b_level0_row0\" class=\"row_heading level0 row0\" >Oryginalny</th>\n",
       "      <td id=\"T_5734b_row0_col0\" class=\"data row0 col0\" >0.617</td>\n",
       "      <td id=\"T_5734b_row0_col1\" class=\"data row0 col1\" >0.556</td>\n",
       "      <td id=\"T_5734b_row0_col2\" class=\"data row0 col2\" >0.694</td>\n",
       "      <td id=\"T_5734b_row0_col3\" class=\"data row0 col3\" >0.892</td>\n",
       "    </tr>\n",
       "    <tr>\n",
       "      <th id=\"T_5734b_level0_row1\" class=\"row_heading level0 row1\" >SMOTE</th>\n",
       "      <td id=\"T_5734b_row1_col0\" class=\"data row1 col0\" >0.648</td>\n",
       "      <td id=\"T_5734b_row1_col1\" class=\"data row1 col1\" >0.766</td>\n",
       "      <td id=\"T_5734b_row1_col2\" class=\"data row1 col2\" >0.562</td>\n",
       "      <td id=\"T_5734b_row1_col3\" class=\"data row1 col3\" >0.870</td>\n",
       "    </tr>\n",
       "    <tr>\n",
       "      <th id=\"T_5734b_level0_row2\" class=\"row_heading level0 row2\" >ADASYN</th>\n",
       "      <td id=\"T_5734b_row2_col0\" class=\"data row2 col0\" >0.631</td>\n",
       "      <td id=\"T_5734b_row2_col1\" class=\"data row2 col1\" >0.773</td>\n",
       "      <td id=\"T_5734b_row2_col2\" class=\"data row2 col2\" >0.534</td>\n",
       "      <td id=\"T_5734b_row2_col3\" class=\"data row2 col3\" >0.859</td>\n",
       "    </tr>\n",
       "    <tr>\n",
       "      <th id=\"T_5734b_level0_row3\" class=\"row_heading level0 row3\" >Random Oversampling</th>\n",
       "      <td id=\"T_5734b_row3_col0\" class=\"data row3 col0\" >0.660</td>\n",
       "      <td id=\"T_5734b_row3_col1\" class=\"data row3 col1\" >0.675</td>\n",
       "      <td id=\"T_5734b_row3_col2\" class=\"data row3 col2\" >0.645</td>\n",
       "      <td id=\"T_5734b_row3_col3\" class=\"data row3 col3\" >0.891</td>\n",
       "    </tr>\n",
       "    <tr>\n",
       "      <th id=\"T_5734b_level0_row4\" class=\"row_heading level0 row4\" >Random Undersampling</th>\n",
       "      <td id=\"T_5734b_row4_col0\" class=\"data row4 col0\" >0.626</td>\n",
       "      <td id=\"T_5734b_row4_col1\" class=\"data row4 col1\" >0.867</td>\n",
       "      <td id=\"T_5734b_row4_col2\" class=\"data row4 col2\" >0.490</td>\n",
       "      <td id=\"T_5734b_row4_col3\" class=\"data row4 col3\" >0.838</td>\n",
       "    </tr>\n",
       "  </tbody>\n",
       "</table>\n"
      ],
      "text/plain": [
       "<pandas.io.formats.style.Styler at 0x1df7b5b3490>"
      ]
     },
     "execution_count": 36,
     "metadata": {},
     "output_type": "execute_result"
    }
   ],
   "source": [
    "df_results_rf = pd.DataFrame(results_rf[\"Random Forest\"]).T\n",
    "df_results_rf = df_results_rf.drop(columns=[\"Confusion_Matrix_Val\"])\n",
    "df_results_rf.style.apply(\n",
    "    lambda row: [\n",
    "        'background-color: #dff0d8; font-weight: bold' if row.name == 'Random Oversampling' else ''\n",
    "        for _ in row\n",
    "    ], axis=1\n",
    ").format(precision=3)"
   ]
  },
  {
   "cell_type": "markdown",
   "metadata": {
    "cell_id": "d2d6f86889d74e6bafb5466b0fd1e5bc",
    "deepnote_cell_type": "text-cell-p",
    "formattedRanges": []
   },
   "source": [
    "W celu oceny wpływu różnych metod balansowania klas na skuteczność klasyfikatora Random Forest porównano pięć wariantów balansowania zbioru treningowego. Skuteczność oceniano na zbiorze walidacyjnym, wykorzystując cztery metryki: `F1-Score`, `Recall`, `Precision` oraz `Accuracy`.\n",
    "\n",
    "Najlepsze rezultaty osiągnięto przy zastosowaniu metody **Random Oversampling**, która uzyskała najwyższe wartości w niemal wszystkich metrykach (`F1-Score` = 0.660, `Recall` = 0.675, `Precision` = 0.645, `Accuracy` = 0.891).\n",
    "\n",
    "Na podstawie otrzymanych wyników można stwierdzić, że że dla modelu Random Forest najlepszą metodą balansowania klas okazał się **Random Oversampling**, który pozwolił uzyskać najwyższą skuteczność klasyfikacji przy zachowaniu równowagi pomiędzy precyzją a czułością."
   ]
  },
  {
   "cell_type": "markdown",
   "metadata": {
    "cell_id": "a5a4331a020d461b8e3009d0d3a4234a",
    "deepnote_cell_type": "text-cell-h2",
    "formattedRanges": []
   },
   "source": [
    "## Regresja logistyczna"
   ]
  },
  {
   "cell_type": "code",
   "execution_count": 37,
   "metadata": {
    "cell_id": "85a712e5da0447419a335459a9233a63",
    "deepnote_cell_type": "code",
    "deepnote_to_be_reexecuted": true,
    "execution_context_id": "7eedb73a-de24-440b-9ed4-1df6acf98f0e",
    "execution_millis": 23655,
    "execution_start": 1750015668270,
    "source_hash": "2958fdf1"
   },
   "outputs": [],
   "source": [
    "model = LogisticRegression(max_iter=1000)\n",
    "model_name = \"Logistic Regression\"\n",
    "\n",
    "results_lr = test_balancing_methods(model, model_name, datasets, X_val_final, y_val)"
   ]
  },
  {
   "cell_type": "code",
   "execution_count": 38,
   "metadata": {
    "cell_id": "0b212b7c17ca44b7992a25da0969e17f",
    "deepnote_cell_type": "code",
    "deepnote_to_be_reexecuted": true,
    "execution_context_id": "7eedb73a-de24-440b-9ed4-1df6acf98f0e",
    "execution_millis": 1,
    "execution_start": 1750015691970,
    "source_hash": "a74d4a09"
   },
   "outputs": [
    {
     "data": {
      "text/html": [
       "<style type=\"text/css\">\n",
       "#T_e58b3_row4_col0, #T_e58b3_row4_col1, #T_e58b3_row4_col2, #T_e58b3_row4_col3 {\n",
       "  background-color: #dff0d8;\n",
       "  font-weight: bold;\n",
       "}\n",
       "</style>\n",
       "<table id=\"T_e58b3\">\n",
       "  <thead>\n",
       "    <tr>\n",
       "      <th class=\"blank level0\" >&nbsp;</th>\n",
       "      <th id=\"T_e58b3_level0_col0\" class=\"col_heading level0 col0\" >F1-Score_Val</th>\n",
       "      <th id=\"T_e58b3_level0_col1\" class=\"col_heading level0 col1\" >Recall_Val</th>\n",
       "      <th id=\"T_e58b3_level0_col2\" class=\"col_heading level0 col2\" >Precision_Val</th>\n",
       "      <th id=\"T_e58b3_level0_col3\" class=\"col_heading level0 col3\" >Accuracy_Val</th>\n",
       "    </tr>\n",
       "  </thead>\n",
       "  <tbody>\n",
       "    <tr>\n",
       "      <th id=\"T_e58b3_level0_row0\" class=\"row_heading level0 row0\" >Oryginalny</th>\n",
       "      <td id=\"T_e58b3_row0_col0\" class=\"data row0 col0\" >0.502</td>\n",
       "      <td id=\"T_e58b3_row0_col1\" class=\"data row0 col1\" >0.367</td>\n",
       "      <td id=\"T_e58b3_row0_col2\" class=\"data row0 col2\" >0.795</td>\n",
       "      <td id=\"T_e58b3_row0_col3\" class=\"data row0 col3\" >0.886</td>\n",
       "    </tr>\n",
       "    <tr>\n",
       "      <th id=\"T_e58b3_level0_row1\" class=\"row_heading level0 row1\" >SMOTE</th>\n",
       "      <td id=\"T_e58b3_row1_col0\" class=\"data row1 col0\" >0.609</td>\n",
       "      <td id=\"T_e58b3_row1_col1\" class=\"data row1 col1\" >0.790</td>\n",
       "      <td id=\"T_e58b3_row1_col2\" class=\"data row1 col2\" >0.496</td>\n",
       "      <td id=\"T_e58b3_row1_col3\" class=\"data row1 col3\" >0.842</td>\n",
       "    </tr>\n",
       "    <tr>\n",
       "      <th id=\"T_e58b3_level0_row2\" class=\"row_heading level0 row2\" >ADASYN</th>\n",
       "      <td id=\"T_e58b3_row2_col0\" class=\"data row2 col0\" >0.555</td>\n",
       "      <td id=\"T_e58b3_row2_col1\" class=\"data row2 col1\" >0.850</td>\n",
       "      <td id=\"T_e58b3_row2_col2\" class=\"data row2 col2\" >0.413</td>\n",
       "      <td id=\"T_e58b3_row2_col3\" class=\"data row2 col3\" >0.788</td>\n",
       "    </tr>\n",
       "    <tr>\n",
       "      <th id=\"T_e58b3_level0_row3\" class=\"row_heading level0 row3\" >Random Oversampling</th>\n",
       "      <td id=\"T_e58b3_row3_col0\" class=\"data row3 col0\" >0.611</td>\n",
       "      <td id=\"T_e58b3_row3_col1\" class=\"data row3 col1\" >0.780</td>\n",
       "      <td id=\"T_e58b3_row3_col2\" class=\"data row3 col2\" >0.502</td>\n",
       "      <td id=\"T_e58b3_row3_col3\" class=\"data row3 col3\" >0.845</td>\n",
       "    </tr>\n",
       "    <tr>\n",
       "      <th id=\"T_e58b3_level0_row4\" class=\"row_heading level0 row4\" >Random Undersampling</th>\n",
       "      <td id=\"T_e58b3_row4_col0\" class=\"data row4 col0\" >0.627</td>\n",
       "      <td id=\"T_e58b3_row4_col1\" class=\"data row4 col1\" >0.783</td>\n",
       "      <td id=\"T_e58b3_row4_col2\" class=\"data row4 col2\" >0.523</td>\n",
       "      <td id=\"T_e58b3_row4_col3\" class=\"data row4 col3\" >0.855</td>\n",
       "    </tr>\n",
       "  </tbody>\n",
       "</table>\n"
      ],
      "text/plain": [
       "<pandas.io.formats.style.Styler at 0x1df7b5b2b60>"
      ]
     },
     "execution_count": 38,
     "metadata": {},
     "output_type": "execute_result"
    }
   ],
   "source": [
    "df_results_lr = pd.DataFrame(results_lr[\"Logistic Regression\"]).T\n",
    "df_results_lr = df_results_lr.drop(columns=[\"Confusion_Matrix_Val\"])\n",
    "df_results_lr.style.apply(\n",
    "    lambda row: [\n",
    "        'background-color: #dff0d8; font-weight: bold' if row.name == 'Random Undersampling' else ''\n",
    "        for _ in row\n",
    "    ], axis=1\n",
    ").format(precision=3)"
   ]
  },
  {
   "cell_type": "markdown",
   "metadata": {
    "cell_id": "448ceae56766413ebe490acb20a96104",
    "deepnote_cell_type": "text-cell-p",
    "formattedRanges": []
   },
   "source": [
    "W przypadku regresji logistycznej najlepsze wyniki osiągnięto przy zastosowaniu metody **Random Undersampling**, która uzyskała najwyższe wartości w praktycznie wszystkich kluczowych metrykach: `F1-Score` = 0.627, `Recall` = 0.783, `Precision` = 0.523 oraz `Accuracy` = 0.855. Oznacza to, że mimo ograniczenia liczby przykładów z klasy dominującej, model był w stanie zachować dobrą równowagę między precyzją a czułością.\n",
    "\n",
    "W przypadku pozostałych metod balansowania, takich jak SMOTE i Random Oversampling, uzyskano zbliżone, choć nieco słabsze rezultaty. Najsłabsze wyniki osiągnięto dla danych oryginalnych – pomimo wysokiej `Precision` (0.795), pozostałe metryki, w tym `Recall` (0.367), były wyraźnie niższe, co wskazuje na problem z wykrywaniem klasy mniejszościowej (czyli użytkowników dokonujących zakupu).\n",
    "\n",
    "Na podstawie uzyskanych wyników można stwierdzić, że **dla modelu regresji logistycznej najlepszą metodą balansowania klas okazał się Random Undersampling**, który pozwolił osiągnąć najwyższą skuteczność klasyfikacji przy relatywnie dobrej precyzji oraz wyraźnie poprawionej czułości względem zbioru oryginalnego."
   ]
  },
  {
   "cell_type": "markdown",
   "metadata": {
    "cell_id": "7b4205dc29004f609d4ca3b96d3278ea",
    "deepnote_cell_type": "text-cell-h2",
    "formattedRanges": []
   },
   "source": [
    "## SVM"
   ]
  },
  {
   "cell_type": "code",
   "execution_count": 39,
   "metadata": {
    "cell_id": "e8a909d04a124777b379469dd191d48c",
    "deepnote_cell_type": "code",
    "deepnote_to_be_reexecuted": true,
    "execution_context_id": "7eedb73a-de24-440b-9ed4-1df6acf98f0e",
    "execution_millis": 121189,
    "execution_start": 1750015692041,
    "source_hash": "6087a795"
   },
   "outputs": [],
   "source": [
    "model = SVC(probability=True)\n",
    "model_name = \"SVM\"\n",
    "\n",
    "results_svm = test_balancing_methods(model, model_name, datasets, X_val_final, y_val)"
   ]
  },
  {
   "cell_type": "code",
   "execution_count": 40,
   "metadata": {
    "cell_id": "7e397582ab2e431bb46ec9b053048f4d",
    "deepnote_cell_type": "code",
    "deepnote_to_be_reexecuted": true,
    "execution_context_id": "7eedb73a-de24-440b-9ed4-1df6acf98f0e",
    "execution_millis": 1,
    "execution_start": 1750015813287,
    "source_hash": "9f05428e"
   },
   "outputs": [
    {
     "data": {
      "text/html": [
       "<style type=\"text/css\">\n",
       "#T_171e9_row1_col0, #T_171e9_row1_col1, #T_171e9_row1_col2, #T_171e9_row1_col3 {\n",
       "  background-color: #dff0d8;\n",
       "  font-weight: bold;\n",
       "}\n",
       "</style>\n",
       "<table id=\"T_171e9\">\n",
       "  <thead>\n",
       "    <tr>\n",
       "      <th class=\"blank level0\" >&nbsp;</th>\n",
       "      <th id=\"T_171e9_level0_col0\" class=\"col_heading level0 col0\" >F1-Score_Val</th>\n",
       "      <th id=\"T_171e9_level0_col1\" class=\"col_heading level0 col1\" >Recall_Val</th>\n",
       "      <th id=\"T_171e9_level0_col2\" class=\"col_heading level0 col2\" >Precision_Val</th>\n",
       "      <th id=\"T_171e9_level0_col3\" class=\"col_heading level0 col3\" >Accuracy_Val</th>\n",
       "    </tr>\n",
       "  </thead>\n",
       "  <tbody>\n",
       "    <tr>\n",
       "      <th id=\"T_171e9_level0_row0\" class=\"row_heading level0 row0\" >Oryginalny</th>\n",
       "      <td id=\"T_171e9_row0_col0\" class=\"data row0 col0\" >0.607</td>\n",
       "      <td id=\"T_171e9_row0_col1\" class=\"data row0 col1\" >0.535</td>\n",
       "      <td id=\"T_171e9_row0_col2\" class=\"data row0 col2\" >0.702</td>\n",
       "      <td id=\"T_171e9_row0_col3\" class=\"data row0 col3\" >0.892</td>\n",
       "    </tr>\n",
       "    <tr>\n",
       "      <th id=\"T_171e9_level0_row1\" class=\"row_heading level0 row1\" >SMOTE</th>\n",
       "      <td id=\"T_171e9_row1_col0\" class=\"data row1 col0\" >0.655</td>\n",
       "      <td id=\"T_171e9_row1_col1\" class=\"data row1 col1\" >0.804</td>\n",
       "      <td id=\"T_171e9_row1_col2\" class=\"data row1 col2\" >0.553</td>\n",
       "      <td id=\"T_171e9_row1_col3\" class=\"data row1 col3\" >0.868</td>\n",
       "    </tr>\n",
       "    <tr>\n",
       "      <th id=\"T_171e9_level0_row2\" class=\"row_heading level0 row2\" >ADASYN</th>\n",
       "      <td id=\"T_171e9_row2_col0\" class=\"data row2 col0\" >0.581</td>\n",
       "      <td id=\"T_171e9_row2_col1\" class=\"data row2 col1\" >0.874</td>\n",
       "      <td id=\"T_171e9_row2_col2\" class=\"data row2 col2\" >0.436</td>\n",
       "      <td id=\"T_171e9_row2_col3\" class=\"data row2 col3\" >0.803</td>\n",
       "    </tr>\n",
       "    <tr>\n",
       "      <th id=\"T_171e9_level0_row3\" class=\"row_heading level0 row3\" >Random Oversampling</th>\n",
       "      <td id=\"T_171e9_row3_col0\" class=\"data row3 col0\" >0.646</td>\n",
       "      <td id=\"T_171e9_row3_col1\" class=\"data row3 col1\" >0.804</td>\n",
       "      <td id=\"T_171e9_row3_col2\" class=\"data row3 col2\" >0.540</td>\n",
       "      <td id=\"T_171e9_row3_col3\" class=\"data row3 col3\" >0.862</td>\n",
       "    </tr>\n",
       "    <tr>\n",
       "      <th id=\"T_171e9_level0_row4\" class=\"row_heading level0 row4\" >Random Undersampling</th>\n",
       "      <td id=\"T_171e9_row4_col0\" class=\"data row4 col0\" >0.647</td>\n",
       "      <td id=\"T_171e9_row4_col1\" class=\"data row4 col1\" >0.787</td>\n",
       "      <td id=\"T_171e9_row4_col2\" class=\"data row4 col2\" >0.549</td>\n",
       "      <td id=\"T_171e9_row4_col3\" class=\"data row4 col3\" >0.866</td>\n",
       "    </tr>\n",
       "  </tbody>\n",
       "</table>\n"
      ],
      "text/plain": [
       "<pandas.io.formats.style.Styler at 0x1df7b553880>"
      ]
     },
     "execution_count": 40,
     "metadata": {},
     "output_type": "execute_result"
    }
   ],
   "source": [
    "df_results_svm = pd.DataFrame(results_svm[\"SVM\"]).T\n",
    "df_results_svm = df_results_svm.drop(columns=[\"Confusion_Matrix_Val\"])\n",
    "df_results_svm.style.apply(\n",
    "    lambda row: [\n",
    "        'background-color: #dff0d8; font-weight: bold' if row.name == 'SMOTE' else ''\n",
    "        for _ in row\n",
    "    ], axis=1\n",
    ").format(precision=3)"
   ]
  },
  {
   "cell_type": "markdown",
   "metadata": {
    "cell_id": "d4ea9bc3def4490fbb31ed47bb14711f",
    "deepnote_cell_type": "text-cell-p",
    "formattedRanges": []
   },
   "source": [
    "W przypadku klasyfikatora SVM najwyższe wartości metryk uzyskano przy balansowaniu danych z wykorzystaniem metody **SMOTE** – `F1-Score` = 0.655, `Recall` = 0.804, `Precision` = 0.553 oraz `Accuracy` = 0.868. Metoda ta pozwoliła uzyskać najlepszy kompromis pomiędzy skutecznością wykrywania klasy mniejszościowej a ogólną jakością predykcji.\n",
    "\n",
    "W porównaniu do wcześniejszych modeli, takich jak Random Forest czy regresja logistyczna, model SVM osiągnął wyraźnie wyższy poziom czułości (`Recall`), jednak kosztem niższej precyzji. Ogólna skuteczność klasyfikacji (`Accuracy`) była nieco niższa niż w przypadku Random Forest, ale porównywalna z regresją logistyczną.\n",
    "\n",
    "**Dla modelu SVM najlepszą metodą balansowania okazał się SMOTE**, który zapewnił znaczną poprawę wykrywania przypadków klasy mniejszościowej (czyli sesji zakończonych zakupem) w stosunku do danych oryginalnych."
   ]
  },
  {
   "cell_type": "markdown",
   "metadata": {
    "cell_id": "1edc33dc33c947fc8b0005da7b201a03",
    "deepnote_cell_type": "text-cell-h2",
    "formattedRanges": []
   },
   "source": [
    "## Naive Bayes"
   ]
  },
  {
   "cell_type": "code",
   "execution_count": 41,
   "metadata": {
    "cell_id": "d23d5f453f62460295a960fcba21ac21",
    "deepnote_cell_type": "code",
    "deepnote_to_be_reexecuted": true,
    "execution_context_id": "7eedb73a-de24-440b-9ed4-1df6acf98f0e",
    "execution_millis": 66,
    "execution_start": 1750015813340,
    "source_hash": "4439f007"
   },
   "outputs": [],
   "source": [
    "model = GaussianNB()\n",
    "model_name = \"Naive Bayes\"\n",
    "\n",
    "results_nb = test_balancing_methods(model, model_name, datasets, X_val_final, y_val)"
   ]
  },
  {
   "cell_type": "code",
   "execution_count": 42,
   "metadata": {
    "cell_id": "7cb7316259224d39aa1eaed89750f395",
    "deepnote_cell_type": "code",
    "deepnote_to_be_reexecuted": true,
    "execution_context_id": "7eedb73a-de24-440b-9ed4-1df6acf98f0e",
    "execution_millis": 1,
    "execution_start": 1750015813470,
    "source_hash": "5eb7c615"
   },
   "outputs": [
    {
     "data": {
      "text/html": [
       "<style type=\"text/css\">\n",
       "#T_1c507_row4_col0, #T_1c507_row4_col1, #T_1c507_row4_col2, #T_1c507_row4_col3 {\n",
       "  background-color: #dff0d8;\n",
       "  font-weight: bold;\n",
       "}\n",
       "</style>\n",
       "<table id=\"T_1c507\">\n",
       "  <thead>\n",
       "    <tr>\n",
       "      <th class=\"blank level0\" >&nbsp;</th>\n",
       "      <th id=\"T_1c507_level0_col0\" class=\"col_heading level0 col0\" >F1-Score_Val</th>\n",
       "      <th id=\"T_1c507_level0_col1\" class=\"col_heading level0 col1\" >Recall_Val</th>\n",
       "      <th id=\"T_1c507_level0_col2\" class=\"col_heading level0 col2\" >Precision_Val</th>\n",
       "      <th id=\"T_1c507_level0_col3\" class=\"col_heading level0 col3\" >Accuracy_Val</th>\n",
       "    </tr>\n",
       "  </thead>\n",
       "  <tbody>\n",
       "    <tr>\n",
       "      <th id=\"T_1c507_level0_row0\" class=\"row_heading level0 row0\" >Oryginalny</th>\n",
       "      <td id=\"T_1c507_row0_col0\" class=\"data row0 col0\" >0.470</td>\n",
       "      <td id=\"T_1c507_row0_col1\" class=\"data row0 col1\" >0.748</td>\n",
       "      <td id=\"T_1c507_row0_col2\" class=\"data row0 col2\" >0.342</td>\n",
       "      <td id=\"T_1c507_row0_col3\" class=\"data row0 col3\" >0.736</td>\n",
       "    </tr>\n",
       "    <tr>\n",
       "      <th id=\"T_1c507_level0_row1\" class=\"row_heading level0 row1\" >SMOTE</th>\n",
       "      <td id=\"T_1c507_row1_col0\" class=\"data row1 col0\" >0.361</td>\n",
       "      <td id=\"T_1c507_row1_col1\" class=\"data row1 col1\" >0.892</td>\n",
       "      <td id=\"T_1c507_row1_col2\" class=\"data row1 col2\" >0.226</td>\n",
       "      <td id=\"T_1c507_row1_col3\" class=\"data row1 col3\" >0.507</td>\n",
       "    </tr>\n",
       "    <tr>\n",
       "      <th id=\"T_1c507_level0_row2\" class=\"row_heading level0 row2\" >ADASYN</th>\n",
       "      <td id=\"T_1c507_row2_col0\" class=\"data row2 col0\" >0.365</td>\n",
       "      <td id=\"T_1c507_row2_col1\" class=\"data row2 col1\" >0.906</td>\n",
       "      <td id=\"T_1c507_row2_col2\" class=\"data row2 col2\" >0.228</td>\n",
       "      <td id=\"T_1c507_row2_col3\" class=\"data row2 col3\" >0.507</td>\n",
       "    </tr>\n",
       "    <tr>\n",
       "      <th id=\"T_1c507_level0_row3\" class=\"row_heading level0 row3\" >Random Oversampling</th>\n",
       "      <td id=\"T_1c507_row3_col0\" class=\"data row3 col0\" >0.429</td>\n",
       "      <td id=\"T_1c507_row3_col1\" class=\"data row3 col1\" >0.860</td>\n",
       "      <td id=\"T_1c507_row3_col2\" class=\"data row3 col2\" >0.285</td>\n",
       "      <td id=\"T_1c507_row3_col3\" class=\"data row3 col3\" >0.642</td>\n",
       "    </tr>\n",
       "    <tr>\n",
       "      <th id=\"T_1c507_level0_row4\" class=\"row_heading level0 row4\" >Random Undersampling</th>\n",
       "      <td id=\"T_1c507_row4_col0\" class=\"data row4 col0\" >0.457</td>\n",
       "      <td id=\"T_1c507_row4_col1\" class=\"data row4 col1\" >0.843</td>\n",
       "      <td id=\"T_1c507_row4_col2\" class=\"data row4 col2\" >0.313</td>\n",
       "      <td id=\"T_1c507_row4_col3\" class=\"data row4 col3\" >0.687</td>\n",
       "    </tr>\n",
       "  </tbody>\n",
       "</table>\n"
      ],
      "text/plain": [
       "<pandas.io.formats.style.Styler at 0x1df00071f90>"
      ]
     },
     "execution_count": 42,
     "metadata": {},
     "output_type": "execute_result"
    }
   ],
   "source": [
    "df_results_nb = pd.DataFrame(results_nb[\"Naive Bayes\"]).T\n",
    "df_results_nb = df_results_nb.drop(columns=[\"Confusion_Matrix_Val\"])\n",
    "df_results_nb.style.apply(\n",
    "    lambda row: [\n",
    "        'background-color: #dff0d8; font-weight: bold' if row.name == 'Random Undersampling' else ''\n",
    "        for _ in row\n",
    "    ], axis=1\n",
    ").format(precision=3)"
   ]
  },
  {
   "cell_type": "markdown",
   "metadata": {
    "cell_id": "8797534564044994b5c6e7d228cdd6d0",
    "deepnote_cell_type": "text-cell-p",
    "formattedRanges": []
   },
   "source": [
    "W przypadku klasyfikatora Naive Bayes najwyższe wartości metryk uzyskano przy balansowaniu danych z wykorzystaniem metody **Random Undersampling** – `F1-Score` = 0.457, `Recall` = 0.843, `Precision` = 0.313 oraz `Accuracy` = 0.687. Metoda ta pozwoliła uzyskać najkorzystniejsze rezultaty wśród testowanych wariantów, poprawiając równowagę między czułością a precyzją względem pozostałych podejść.\n",
    "\n",
    "W porównaniu do innych metod balansowania, w metodach takich jak SMOTE czy ADASYN, zauważono wyraźny spadek precyzji oraz skuteczności ogólnej (`Accuracy`). Mimo bardzo wysokiego `Recall`, SMOTE i ADASYN osiągnęły znacznie gorsze wyniki ogólne, co wskazuje na tendencję modelu do nadmiernego przypisywania przykładów do klasy mniejszościowej. Z kolei dane oryginalne, choć zapewniły wyższe `Accuracy` (0.736), charakteryzowały się gorszym zrównoważeniem metryk.\n",
    "\n",
    "Na podstawie wyników można stwierdzić, że **dla modelu Naive Bayes najlepszą metodą balansowania danych okazał się Random Undersampling**, który umożliwił uzyskanie najbardziej stabilnych wyników klasyfikacji w kontekście wykrywania zakupów."
   ]
  },
  {
   "cell_type": "markdown",
   "metadata": {
    "cell_id": "1da06a6067664971b0895b3ee0833f31",
    "deepnote_cell_type": "text-cell-h2",
    "formattedRanges": []
   },
   "source": [
    "## CatBoost"
   ]
  },
  {
   "cell_type": "code",
   "execution_count": 43,
   "metadata": {
    "cell_id": "e4f35926ad8449f3ba015b415f2f8d56",
    "deepnote_cell_type": "code",
    "deepnote_to_be_reexecuted": true,
    "execution_context_id": "7eedb73a-de24-440b-9ed4-1df6acf98f0e",
    "execution_millis": 22026,
    "execution_start": 1750015813599,
    "source_hash": "d7c577c5"
   },
   "outputs": [],
   "source": [
    "model = CatBoostClassifier(verbose=0, random_seed=42, allow_writing_files=False)\n",
    "model_name = \"CatBoost\"\n",
    "\n",
    "results_cat = test_balancing_methods(model, model_name, datasets, X_val_final, y_val)"
   ]
  },
  {
   "cell_type": "code",
   "execution_count": 44,
   "metadata": {
    "cell_id": "1df85bd8578445848eb8ea1254bc7307",
    "deepnote_cell_type": "code",
    "deepnote_to_be_reexecuted": true,
    "execution_context_id": "7eedb73a-de24-440b-9ed4-1df6acf98f0e",
    "execution_millis": 1,
    "execution_start": 1750015835687,
    "source_hash": "93a9ff99"
   },
   "outputs": [
    {
     "data": {
      "text/html": [
       "<style type=\"text/css\">\n",
       "#T_b19ca_row1_col0, #T_b19ca_row1_col1, #T_b19ca_row1_col2, #T_b19ca_row1_col3 {\n",
       "  background-color: #dff0d8;\n",
       "  font-weight: bold;\n",
       "}\n",
       "</style>\n",
       "<table id=\"T_b19ca\">\n",
       "  <thead>\n",
       "    <tr>\n",
       "      <th class=\"blank level0\" >&nbsp;</th>\n",
       "      <th id=\"T_b19ca_level0_col0\" class=\"col_heading level0 col0\" >F1-Score_Val</th>\n",
       "      <th id=\"T_b19ca_level0_col1\" class=\"col_heading level0 col1\" >Recall_Val</th>\n",
       "      <th id=\"T_b19ca_level0_col2\" class=\"col_heading level0 col2\" >Precision_Val</th>\n",
       "      <th id=\"T_b19ca_level0_col3\" class=\"col_heading level0 col3\" >Accuracy_Val</th>\n",
       "    </tr>\n",
       "  </thead>\n",
       "  <tbody>\n",
       "    <tr>\n",
       "      <th id=\"T_b19ca_level0_row0\" class=\"row_heading level0 row0\" >Oryginalny</th>\n",
       "      <td id=\"T_b19ca_row0_col0\" class=\"data row0 col0\" >0.649</td>\n",
       "      <td id=\"T_b19ca_row0_col1\" class=\"data row0 col1\" >0.587</td>\n",
       "      <td id=\"T_b19ca_row0_col2\" class=\"data row0 col2\" >0.724</td>\n",
       "      <td id=\"T_b19ca_row0_col3\" class=\"data row0 col3\" >0.901</td>\n",
       "    </tr>\n",
       "    <tr>\n",
       "      <th id=\"T_b19ca_level0_row1\" class=\"row_heading level0 row1\" >SMOTE</th>\n",
       "      <td id=\"T_b19ca_row1_col0\" class=\"data row1 col0\" >0.668</td>\n",
       "      <td id=\"T_b19ca_row1_col1\" class=\"data row1 col1\" >0.783</td>\n",
       "      <td id=\"T_b19ca_row1_col2\" class=\"data row1 col2\" >0.582</td>\n",
       "      <td id=\"T_b19ca_row1_col3\" class=\"data row1 col3\" >0.878</td>\n",
       "    </tr>\n",
       "    <tr>\n",
       "      <th id=\"T_b19ca_level0_row2\" class=\"row_heading level0 row2\" >ADASYN</th>\n",
       "      <td id=\"T_b19ca_row2_col0\" class=\"data row2 col0\" >0.626</td>\n",
       "      <td id=\"T_b19ca_row2_col1\" class=\"data row2 col1\" >0.797</td>\n",
       "      <td id=\"T_b19ca_row2_col2\" class=\"data row2 col2\" >0.515</td>\n",
       "      <td id=\"T_b19ca_row2_col3\" class=\"data row2 col3\" >0.851</td>\n",
       "    </tr>\n",
       "    <tr>\n",
       "      <th id=\"T_b19ca_level0_row3\" class=\"row_heading level0 row3\" >Random Oversampling</th>\n",
       "      <td id=\"T_b19ca_row3_col0\" class=\"data row3 col0\" >0.649</td>\n",
       "      <td id=\"T_b19ca_row3_col1\" class=\"data row3 col1\" >0.766</td>\n",
       "      <td id=\"T_b19ca_row3_col2\" class=\"data row3 col2\" >0.563</td>\n",
       "      <td id=\"T_b19ca_row3_col3\" class=\"data row3 col3\" >0.871</td>\n",
       "    </tr>\n",
       "    <tr>\n",
       "      <th id=\"T_b19ca_level0_row4\" class=\"row_heading level0 row4\" >Random Undersampling</th>\n",
       "      <td id=\"T_b19ca_row4_col0\" class=\"data row4 col0\" >0.644</td>\n",
       "      <td id=\"T_b19ca_row4_col1\" class=\"data row4 col1\" >0.853</td>\n",
       "      <td id=\"T_b19ca_row4_col2\" class=\"data row4 col2\" >0.517</td>\n",
       "      <td id=\"T_b19ca_row4_col3\" class=\"data row4 col3\" >0.853</td>\n",
       "    </tr>\n",
       "  </tbody>\n",
       "</table>\n"
      ],
      "text/plain": [
       "<pandas.io.formats.style.Styler at 0x1df0d7fcfa0>"
      ]
     },
     "execution_count": 44,
     "metadata": {},
     "output_type": "execute_result"
    }
   ],
   "source": [
    "df_results_cat = pd.DataFrame(results_cat[\"CatBoost\"]).T\n",
    "df_results_cat = df_results_cat.drop(columns=[\"Confusion_Matrix_Val\"])\n",
    "df_results_cat.style.apply(\n",
    "    lambda row: [\n",
    "        'background-color: #dff0d8; font-weight: bold' if row.name == 'SMOTE' else ''\n",
    "        for _ in row\n",
    "    ], axis=1\n",
    ").format(precision=3)"
   ]
  },
  {
   "cell_type": "markdown",
   "metadata": {
    "cell_id": "ed0a7431e00f4ffc89b0aee528e66175",
    "deepnote_cell_type": "text-cell-p",
    "formattedRanges": []
   },
   "source": [
    "Dla modelu CatBoost najlepsze wyniki uzyskano przy zastosowaniu metody **SMOTE**, która osiągnęła wysokie wartości we wszystkich kluczowych metrykach: `F1-Score` = 0.668, `Recall` = 0.783, `Precision` = 0.582 oraz `Accuracy` = 0.878. Oznacza to, że model ten był naprawdę skuteczny w identyfikowaniu klasy mniejszościowej, przy jednoczesnym utrzymaniu wysokiej ogólnej jakości predykcji.\n",
    "\n",
    "Wariant z danymi oryginalnymi osiągnął nieco wyższe `Accuracy` (0.901), ale przy zauważalnie niższej czułości (`Recall` = 0.587), co wskazuje na trudność w wykrywaniu przypadków zakończonych zakupem. Pozostałe metody balansowania – ADASYN, Random Oversampling oraz Undersampling – uzyskały dobre wyniki pod względem `Recall`, jednak wiązało się to ze znacznym spadkiem `Precision`, a w konsekwencji – również niższym `F1-Score`.\n",
    "\n",
    "Podsumowując, **dla modelu CatBoost najlepszą skuteczność zapewniła metoda SMOTE**, która umożliwiła uzyskanie zrównoważonych wyników i wysokiej trafności klasyfikacji przypadków pozytywnych."
   ]
  },
  {
   "cell_type": "markdown",
   "metadata": {
    "cell_id": "f3c04b6a05634d15821a79aed7412c86",
    "deepnote_cell_type": "text-cell-h2",
    "formattedRanges": []
   },
   "source": [
    "## XGBoost"
   ]
  },
  {
   "cell_type": "code",
   "execution_count": 45,
   "metadata": {
    "cell_id": "52c4bffaed614979884c10eab432b31a",
    "deepnote_cell_type": "code",
    "deepnote_to_be_reexecuted": true,
    "execution_context_id": "7eedb73a-de24-440b-9ed4-1df6acf98f0e",
    "execution_millis": 1193,
    "execution_start": 1750015835750,
    "source_hash": "91b95d95"
   },
   "outputs": [],
   "source": [
    "model = XGBClassifier(random_state=42)\n",
    "model_name = \"XGBoost\"\n",
    "\n",
    "results_xgb = test_balancing_methods(model, model_name, datasets, X_val_final, y_val)"
   ]
  },
  {
   "cell_type": "code",
   "execution_count": 46,
   "metadata": {
    "cell_id": "e8a5634579ca42b6bd50eea94633124e",
    "deepnote_cell_type": "code",
    "deepnote_to_be_reexecuted": true,
    "execution_context_id": "7eedb73a-de24-440b-9ed4-1df6acf98f0e",
    "execution_millis": 0,
    "execution_start": 1750015837003,
    "source_hash": "6a1d6b32"
   },
   "outputs": [
    {
     "data": {
      "text/html": [
       "<style type=\"text/css\">\n",
       "#T_a9c7f_row3_col0, #T_a9c7f_row3_col1, #T_a9c7f_row3_col2, #T_a9c7f_row3_col3 {\n",
       "  background-color: #dff0d8;\n",
       "  font-weight: bold;\n",
       "}\n",
       "</style>\n",
       "<table id=\"T_a9c7f\">\n",
       "  <thead>\n",
       "    <tr>\n",
       "      <th class=\"blank level0\" >&nbsp;</th>\n",
       "      <th id=\"T_a9c7f_level0_col0\" class=\"col_heading level0 col0\" >F1-Score_Val</th>\n",
       "      <th id=\"T_a9c7f_level0_col1\" class=\"col_heading level0 col1\" >Recall_Val</th>\n",
       "      <th id=\"T_a9c7f_level0_col2\" class=\"col_heading level0 col2\" >Precision_Val</th>\n",
       "      <th id=\"T_a9c7f_level0_col3\" class=\"col_heading level0 col3\" >Accuracy_Val</th>\n",
       "    </tr>\n",
       "  </thead>\n",
       "  <tbody>\n",
       "    <tr>\n",
       "      <th id=\"T_a9c7f_level0_row0\" class=\"row_heading level0 row0\" >Oryginalny</th>\n",
       "      <td id=\"T_a9c7f_row0_col0\" class=\"data row0 col0\" >0.651</td>\n",
       "      <td id=\"T_a9c7f_row0_col1\" class=\"data row0 col1\" >0.598</td>\n",
       "      <td id=\"T_a9c7f_row0_col2\" class=\"data row0 col2\" >0.715</td>\n",
       "      <td id=\"T_a9c7f_row0_col3\" class=\"data row0 col3\" >0.900</td>\n",
       "    </tr>\n",
       "    <tr>\n",
       "      <th id=\"T_a9c7f_level0_row1\" class=\"row_heading level0 row1\" >SMOTE</th>\n",
       "      <td id=\"T_a9c7f_row1_col0\" class=\"data row1 col0\" >0.654</td>\n",
       "      <td id=\"T_a9c7f_row1_col1\" class=\"data row1 col1\" >0.776</td>\n",
       "      <td id=\"T_a9c7f_row1_col2\" class=\"data row1 col2\" >0.565</td>\n",
       "      <td id=\"T_a9c7f_row1_col3\" class=\"data row1 col3\" >0.872</td>\n",
       "    </tr>\n",
       "    <tr>\n",
       "      <th id=\"T_a9c7f_level0_row2\" class=\"row_heading level0 row2\" >ADASYN</th>\n",
       "      <td id=\"T_a9c7f_row2_col0\" class=\"data row2 col0\" >0.618</td>\n",
       "      <td id=\"T_a9c7f_row2_col1\" class=\"data row2 col1\" >0.759</td>\n",
       "      <td id=\"T_a9c7f_row2_col2\" class=\"data row2 col2\" >0.522</td>\n",
       "      <td id=\"T_a9c7f_row2_col3\" class=\"data row2 col3\" >0.854</td>\n",
       "    </tr>\n",
       "    <tr>\n",
       "      <th id=\"T_a9c7f_level0_row3\" class=\"row_heading level0 row3\" >Random Oversampling</th>\n",
       "      <td id=\"T_a9c7f_row3_col0\" class=\"data row3 col0\" >0.661</td>\n",
       "      <td id=\"T_a9c7f_row3_col1\" class=\"data row3 col1\" >0.734</td>\n",
       "      <td id=\"T_a9c7f_row3_col2\" class=\"data row3 col2\" >0.602</td>\n",
       "      <td id=\"T_a9c7f_row3_col3\" class=\"data row3 col3\" >0.883</td>\n",
       "    </tr>\n",
       "    <tr>\n",
       "      <th id=\"T_a9c7f_level0_row4\" class=\"row_heading level0 row4\" >Random Undersampling</th>\n",
       "      <td id=\"T_a9c7f_row4_col0\" class=\"data row4 col0\" >0.603</td>\n",
       "      <td id=\"T_a9c7f_row4_col1\" class=\"data row4 col1\" >0.846</td>\n",
       "      <td id=\"T_a9c7f_row4_col2\" class=\"data row4 col2\" >0.469</td>\n",
       "      <td id=\"T_a9c7f_row4_col3\" class=\"data row4 col3\" >0.826</td>\n",
       "    </tr>\n",
       "  </tbody>\n",
       "</table>\n"
      ],
      "text/plain": [
       "<pandas.io.formats.style.Styler at 0x1df7bff4b50>"
      ]
     },
     "execution_count": 46,
     "metadata": {},
     "output_type": "execute_result"
    }
   ],
   "source": [
    "df_results_xgb = pd.DataFrame(results_xgb[\"XGBoost\"]).T\n",
    "df_results_xgb = df_results_xgb.drop(columns=[\"Confusion_Matrix_Val\"])\n",
    "df_results_xgb.style.apply(\n",
    "    lambda row: [\n",
    "        'background-color: #dff0d8; font-weight: bold' if row.name == 'Random Oversampling' else ''\n",
    "        for _ in row\n",
    "    ], axis=1\n",
    ").format(precision=3)"
   ]
  },
  {
   "cell_type": "markdown",
   "metadata": {
    "cell_id": "a97cb82477e2494da7cff10579060e4d",
    "deepnote_cell_type": "text-cell-p",
    "formattedRanges": []
   },
   "source": [
    "Dla klasyfikatora XGBoost najlepsze rezultaty uzyskano przy balansowaniu danych metodą **Random Oversampling**, która pozwoliła osiągnąć \n",
    "najlepszy balans między `F1-Score` i `Recall`. \n",
    "\n",
    "Wartości ocenianych metryk: `F1-Score` = 0.661, `Recall` = 0.734, `Precision` = 0.602 oraz `Accuracy` = 0.883. Metoda ta zapewniła najlepszy kompromis pomiędzy czułością a precyzją klasyfikatora.\n",
    "\n",
    "Balansowanie za pomocą SMOTE i ADASYN poprawiło `Recall`, ale doprowadziło do spadku `Precision` i ogólnej jakości predykcji. Z kolei metoda Random Undersampling osiągnęła wysoką czułość (`Recall` = 0.846), ale przy wyraźnym obniżeniu pozostałych metryk.\n",
    "\n",
    "Podsumowując, **dla modelu XGBoost najlepszym wariantem okazał się Random Oversampling**, który pozwolił zachować dobrą równowagę pomiędzy skutecznością klasyfikacji a zdolnością do rozpoznawania przypadków klasy mniejszościowej."
   ]
  },
  {
   "cell_type": "markdown",
   "metadata": {
    "cell_id": "db58e395d0c64fd8b21772c815469c51",
    "deepnote_cell_type": "text-cell-h2",
    "formattedRanges": []
   },
   "source": [
    "## MLPClassifier"
   ]
  },
  {
   "cell_type": "code",
   "execution_count": 47,
   "metadata": {
    "cell_id": "5c1e8c51900d44fbacf6e2588604258e",
    "deepnote_cell_type": "code",
    "deepnote_to_be_reexecuted": true,
    "execution_context_id": "7eedb73a-de24-440b-9ed4-1df6acf98f0e",
    "execution_millis": 50120,
    "execution_start": 1750015837060,
    "source_hash": "69a71ee9"
   },
   "outputs": [],
   "source": [
    "model = MLPClassifier(hidden_layer_sizes=(10, 5), activation='relu', solver='adam', random_state=42, max_iter=1000)\n",
    "model_name = \"MLPClassifier\"\n",
    "\n",
    "results_mlp = test_balancing_methods(model, model_name, datasets, X_val_final, y_val)"
   ]
  },
  {
   "cell_type": "code",
   "execution_count": 48,
   "metadata": {
    "cell_id": "a4017e3350c243e5821dc44bcd479f30",
    "deepnote_cell_type": "code",
    "deepnote_to_be_reexecuted": true,
    "execution_context_id": "7eedb73a-de24-440b-9ed4-1df6acf98f0e",
    "execution_millis": 2,
    "execution_start": 1750015887250,
    "source_hash": "60566311"
   },
   "outputs": [
    {
     "data": {
      "text/html": [
       "<style type=\"text/css\">\n",
       "#T_5e01f_row1_col0, #T_5e01f_row1_col1, #T_5e01f_row1_col2, #T_5e01f_row1_col3 {\n",
       "  background-color: #dff0d8;\n",
       "  font-weight: bold;\n",
       "}\n",
       "</style>\n",
       "<table id=\"T_5e01f\">\n",
       "  <thead>\n",
       "    <tr>\n",
       "      <th class=\"blank level0\" >&nbsp;</th>\n",
       "      <th id=\"T_5e01f_level0_col0\" class=\"col_heading level0 col0\" >F1-Score_Val</th>\n",
       "      <th id=\"T_5e01f_level0_col1\" class=\"col_heading level0 col1\" >Recall_Val</th>\n",
       "      <th id=\"T_5e01f_level0_col2\" class=\"col_heading level0 col2\" >Precision_Val</th>\n",
       "      <th id=\"T_5e01f_level0_col3\" class=\"col_heading level0 col3\" >Accuracy_Val</th>\n",
       "    </tr>\n",
       "  </thead>\n",
       "  <tbody>\n",
       "    <tr>\n",
       "      <th id=\"T_5e01f_level0_row0\" class=\"row_heading level0 row0\" >Oryginalny</th>\n",
       "      <td id=\"T_5e01f_row0_col0\" class=\"data row0 col0\" >0.637</td>\n",
       "      <td id=\"T_5e01f_row0_col1\" class=\"data row0 col1\" >0.591</td>\n",
       "      <td id=\"T_5e01f_row0_col2\" class=\"data row0 col2\" >0.690</td>\n",
       "      <td id=\"T_5e01f_row0_col3\" class=\"data row0 col3\" >0.895</td>\n",
       "    </tr>\n",
       "    <tr>\n",
       "      <th id=\"T_5e01f_level0_row1\" class=\"row_heading level0 row1\" >SMOTE</th>\n",
       "      <td id=\"T_5e01f_row1_col0\" class=\"data row1 col0\" >0.656</td>\n",
       "      <td id=\"T_5e01f_row1_col1\" class=\"data row1 col1\" >0.839</td>\n",
       "      <td id=\"T_5e01f_row1_col2\" class=\"data row1 col2\" >0.538</td>\n",
       "      <td id=\"T_5e01f_row1_col3\" class=\"data row1 col3\" >0.862</td>\n",
       "    </tr>\n",
       "    <tr>\n",
       "      <th id=\"T_5e01f_level0_row2\" class=\"row_heading level0 row2\" >ADASYN</th>\n",
       "      <td id=\"T_5e01f_row2_col0\" class=\"data row2 col0\" >0.606</td>\n",
       "      <td id=\"T_5e01f_row2_col1\" class=\"data row2 col1\" >0.867</td>\n",
       "      <td id=\"T_5e01f_row2_col2\" class=\"data row2 col2\" >0.466</td>\n",
       "      <td id=\"T_5e01f_row2_col3\" class=\"data row2 col3\" >0.824</td>\n",
       "    </tr>\n",
       "    <tr>\n",
       "      <th id=\"T_5e01f_level0_row3\" class=\"row_heading level0 row3\" >Random Oversampling</th>\n",
       "      <td id=\"T_5e01f_row3_col0\" class=\"data row3 col0\" >0.651</td>\n",
       "      <td id=\"T_5e01f_row3_col1\" class=\"data row3 col1\" >0.850</td>\n",
       "      <td id=\"T_5e01f_row3_col2\" class=\"data row3 col2\" >0.527</td>\n",
       "      <td id=\"T_5e01f_row3_col3\" class=\"data row3 col3\" >0.857</td>\n",
       "    </tr>\n",
       "    <tr>\n",
       "      <th id=\"T_5e01f_level0_row4\" class=\"row_heading level0 row4\" >Random Undersampling</th>\n",
       "      <td id=\"T_5e01f_row4_col0\" class=\"data row4 col0\" >0.649</td>\n",
       "      <td id=\"T_5e01f_row4_col1\" class=\"data row4 col1\" >0.860</td>\n",
       "      <td id=\"T_5e01f_row4_col2\" class=\"data row4 col2\" >0.521</td>\n",
       "      <td id=\"T_5e01f_row4_col3\" class=\"data row4 col3\" >0.855</td>\n",
       "    </tr>\n",
       "  </tbody>\n",
       "</table>\n"
      ],
      "text/plain": [
       "<pandas.io.formats.style.Styler at 0x1df0d7ff3d0>"
      ]
     },
     "execution_count": 48,
     "metadata": {},
     "output_type": "execute_result"
    }
   ],
   "source": [
    "df_results_mlp = pd.DataFrame(results_mlp[\"MLPClassifier\"]).T\n",
    "df_results_mlp = df_results_mlp.drop(columns=[\"Confusion_Matrix_Val\"])\n",
    "df_results_mlp.style.apply(\n",
    "    lambda row: [\n",
    "        'background-color: #dff0d8; font-weight: bold' if row.name == 'SMOTE' else ''\n",
    "        for _ in row\n",
    "    ], axis=1\n",
    ").format(precision=3)"
   ]
  },
  {
   "cell_type": "markdown",
   "metadata": {
    "cell_id": "06dab3e1ceb84a6a821ecf69a8057526",
    "deepnote_cell_type": "text-cell-p",
    "formattedRanges": []
   },
   "source": [
    "Dla modelu MLPClassifier z uproszczoną, płytką architekturą dwóch warstw ukrytych (10 i 5 neuronów), najlepsze wyniki osiągnięto przy zastosowaniu metody **SMOTE** – `F1-Score` = 0.656, `Recall` = 0.839, `Precision` = 0.538 oraz ``Accuracy = 0.862. Zastosowanie tej techniki balansowania pozwoliło na znaczną poprawę wykrywalności klasy mniejszościowej (Recall), przy jednoczesnym utrzymaniu wysokiej ogólnej skuteczności klasyfikacji.\n",
    "\n",
    "W badaniu architektura MLP została celowo uproszczona, aby skupić się na porównaniu skuteczności różnych metod balansowania klas."
   ]
  },
  {
   "cell_type": "markdown",
   "metadata": {
    "cell_id": "2dc230461ba947efa99b704235174e26",
    "deepnote_cell_type": "text-cell-h2",
    "formattedRanges": []
   },
   "source": [
    "## Zestawienie najlepszych wyników klasyfikatorów z uwzględnieniem metod balansowania"
   ]
  },
  {
   "cell_type": "code",
   "execution_count": 49,
   "metadata": {
    "cell_id": "fa7eae718f564f298cf022b89a106edc",
    "deepnote_cell_type": "code",
    "deepnote_to_be_reexecuted": true,
    "execution_context_id": "7eedb73a-de24-440b-9ed4-1df6acf98f0e",
    "execution_millis": 1,
    "execution_start": 1750015887310,
    "source_hash": "3ffc6349"
   },
   "outputs": [
    {
     "data": {
      "text/html": [
       "<style type=\"text/css\">\n",
       "#T_1f681_row2_col0, #T_1f681_row2_col1, #T_1f681_row2_col2, #T_1f681_row2_col3, #T_1f681_row2_col4, #T_1f681_row2_col5 {\n",
       "  background-color: #dff0d8;\n",
       "  font-weight: bold;\n",
       "}\n",
       "</style>\n",
       "<table id=\"T_1f681\">\n",
       "  <thead>\n",
       "    <tr>\n",
       "      <th id=\"T_1f681_level0_col0\" class=\"col_heading level0 col0\" >Model</th>\n",
       "      <th id=\"T_1f681_level0_col1\" class=\"col_heading level0 col1\" >Balansowanie</th>\n",
       "      <th id=\"T_1f681_level0_col2\" class=\"col_heading level0 col2\" >F1-Score_Val</th>\n",
       "      <th id=\"T_1f681_level0_col3\" class=\"col_heading level0 col3\" >Recall_Val</th>\n",
       "      <th id=\"T_1f681_level0_col4\" class=\"col_heading level0 col4\" >Precision_Val</th>\n",
       "      <th id=\"T_1f681_level0_col5\" class=\"col_heading level0 col5\" >Accuracy_Val</th>\n",
       "    </tr>\n",
       "  </thead>\n",
       "  <tbody>\n",
       "    <tr>\n",
       "      <td id=\"T_1f681_row0_col0\" class=\"data row0 col0\" >Random Forest</td>\n",
       "      <td id=\"T_1f681_row0_col1\" class=\"data row0 col1\" >Random Oversampling</td>\n",
       "      <td id=\"T_1f681_row0_col2\" class=\"data row0 col2\" >0.660</td>\n",
       "      <td id=\"T_1f681_row0_col3\" class=\"data row0 col3\" >0.675</td>\n",
       "      <td id=\"T_1f681_row0_col4\" class=\"data row0 col4\" >0.645</td>\n",
       "      <td id=\"T_1f681_row0_col5\" class=\"data row0 col5\" >0.891</td>\n",
       "    </tr>\n",
       "    <tr>\n",
       "      <td id=\"T_1f681_row1_col0\" class=\"data row1 col0\" >CatBoost</td>\n",
       "      <td id=\"T_1f681_row1_col1\" class=\"data row1 col1\" >SMOTE</td>\n",
       "      <td id=\"T_1f681_row1_col2\" class=\"data row1 col2\" >0.668</td>\n",
       "      <td id=\"T_1f681_row1_col3\" class=\"data row1 col3\" >0.783</td>\n",
       "      <td id=\"T_1f681_row1_col4\" class=\"data row1 col4\" >0.582</td>\n",
       "      <td id=\"T_1f681_row1_col5\" class=\"data row1 col5\" >0.878</td>\n",
       "    </tr>\n",
       "    <tr>\n",
       "      <td id=\"T_1f681_row2_col0\" class=\"data row2 col0\" >XGBoost</td>\n",
       "      <td id=\"T_1f681_row2_col1\" class=\"data row2 col1\" >Random Oversampling</td>\n",
       "      <td id=\"T_1f681_row2_col2\" class=\"data row2 col2\" >0.661</td>\n",
       "      <td id=\"T_1f681_row2_col3\" class=\"data row2 col3\" >0.734</td>\n",
       "      <td id=\"T_1f681_row2_col4\" class=\"data row2 col4\" >0.602</td>\n",
       "      <td id=\"T_1f681_row2_col5\" class=\"data row2 col5\" >0.883</td>\n",
       "    </tr>\n",
       "    <tr>\n",
       "      <td id=\"T_1f681_row3_col0\" class=\"data row3 col0\" >Logistic Regression</td>\n",
       "      <td id=\"T_1f681_row3_col1\" class=\"data row3 col1\" >Random Undersampling</td>\n",
       "      <td id=\"T_1f681_row3_col2\" class=\"data row3 col2\" >0.627</td>\n",
       "      <td id=\"T_1f681_row3_col3\" class=\"data row3 col3\" >0.783</td>\n",
       "      <td id=\"T_1f681_row3_col4\" class=\"data row3 col4\" >0.523</td>\n",
       "      <td id=\"T_1f681_row3_col5\" class=\"data row3 col5\" >0.855</td>\n",
       "    </tr>\n",
       "    <tr>\n",
       "      <td id=\"T_1f681_row4_col0\" class=\"data row4 col0\" >SVM</td>\n",
       "      <td id=\"T_1f681_row4_col1\" class=\"data row4 col1\" >SMOTE</td>\n",
       "      <td id=\"T_1f681_row4_col2\" class=\"data row4 col2\" >0.655</td>\n",
       "      <td id=\"T_1f681_row4_col3\" class=\"data row4 col3\" >0.804</td>\n",
       "      <td id=\"T_1f681_row4_col4\" class=\"data row4 col4\" >0.553</td>\n",
       "      <td id=\"T_1f681_row4_col5\" class=\"data row4 col5\" >0.868</td>\n",
       "    </tr>\n",
       "    <tr>\n",
       "      <td id=\"T_1f681_row5_col0\" class=\"data row5 col0\" >MLPClassifier</td>\n",
       "      <td id=\"T_1f681_row5_col1\" class=\"data row5 col1\" >SMOTE</td>\n",
       "      <td id=\"T_1f681_row5_col2\" class=\"data row5 col2\" >0.656</td>\n",
       "      <td id=\"T_1f681_row5_col3\" class=\"data row5 col3\" >0.839</td>\n",
       "      <td id=\"T_1f681_row5_col4\" class=\"data row5 col4\" >0.538</td>\n",
       "      <td id=\"T_1f681_row5_col5\" class=\"data row5 col5\" >0.862</td>\n",
       "    </tr>\n",
       "    <tr>\n",
       "      <td id=\"T_1f681_row6_col0\" class=\"data row6 col0\" >Naive Bayes</td>\n",
       "      <td id=\"T_1f681_row6_col1\" class=\"data row6 col1\" >Random Undersampling</td>\n",
       "      <td id=\"T_1f681_row6_col2\" class=\"data row6 col2\" >0.457</td>\n",
       "      <td id=\"T_1f681_row6_col3\" class=\"data row6 col3\" >0.843</td>\n",
       "      <td id=\"T_1f681_row6_col4\" class=\"data row6 col4\" >0.313</td>\n",
       "      <td id=\"T_1f681_row6_col5\" class=\"data row6 col5\" >0.687</td>\n",
       "    </tr>\n",
       "  </tbody>\n",
       "</table>\n"
      ],
      "text/plain": [
       "<pandas.io.formats.style.Styler at 0x1df7af21750>"
      ]
     },
     "execution_count": 49,
     "metadata": {},
     "output_type": "execute_result"
    }
   ],
   "source": [
    "model_names = ['Random Forest', 'CatBoost', 'XGBoost', 'Logistic Regression', 'SVM', 'MLPClassifier']\n",
    "dataframes = [df_results_rf, df_results_cat, df_results_xgb, df_results_lr, df_results_svm, df_results_mlp]\n",
    "\n",
    "best_models = []\n",
    "\n",
    "for model_name, df in zip(model_names, dataframes):\n",
    "    best = df.loc[df['F1-Score_Val'].idxmax()]\n",
    "    row = {\n",
    "        'Model': model_name,\n",
    "        'Balansowanie': best.name,\n",
    "        **best.to_dict()\n",
    "    }\n",
    "    best_models.append(row)\n",
    "\n",
    "best_manual = df_results_nb.loc[\"Random Undersampling\"]\n",
    "row_manual = {\n",
    "    'Model': \"Naive Bayes\",\n",
    "    'Balansowanie': \"Random Undersampling\",\n",
    "    **best_manual.to_dict()\n",
    "}\n",
    "best_models.append(row_manual)\n",
    "\n",
    "df_best_models = pd.DataFrame(best_models)\n",
    "df_best_models = df_best_models.reset_index(drop=True)\n",
    "\n",
    "df_best_models.style.apply(\n",
    "    lambda row: [\n",
    "        'background-color: #dff0d8; font-weight: bold' if row[\"Model\"] == 'XGBoost' else ''\n",
    "        for _ in row\n",
    "    ],\n",
    "    axis=1\n",
    ").format(precision=3).hide(axis=\"index\")"
   ]
  },
  {
   "cell_type": "markdown",
   "metadata": {
    "cell_id": "2ada1ea73ba54251a36099bec86b0a41",
    "deepnote_cell_type": "text-cell-p",
    "formattedRanges": []
   },
   "source": [
    "Na podstawie porównania skuteczności modeli z uwzględnieniem różnych metod balansowania klas, do dalszego etapu wybrano model **XGBoost**.\n",
    "\n",
    "Model XGBoost wykazał się wysoką wartością `F1-Score` (0.661) oraz dobrym poziomem precyzji (0.602) i ogólnej trafności (`Accuracy` = 0.883) już przy domyślnych ustawieniach parametrów. Wyniki te świadczą o dużej skuteczności klasyfikacji.\n",
    "\n",
    "W dalszej części projektu przeprowadzony zostanie tuning hiperparametrów dla modelu XGBoost w celu maksymalizacji skuteczności klasyfikacji sesji zakończonych zakupem."
   ]
  },
  {
   "cell_type": "markdown",
   "metadata": {
    "cell_id": "a906d7e3cabb48c082d06a50d344f415",
    "deepnote_cell_type": "text-cell-h2",
    "formattedRanges": []
   },
   "source": [
    "## Funkcja do ewaluacji modelu"
   ]
  },
  {
   "cell_type": "code",
   "execution_count": 50,
   "metadata": {
    "cell_id": "879978dc604947418f9151283f0a6397",
    "deepnote_cell_type": "code",
    "deepnote_to_be_reexecuted": true,
    "execution_context_id": "7eedb73a-de24-440b-9ed4-1df6acf98f0e",
    "execution_millis": 1,
    "execution_start": 1750015887380,
    "source_hash": "a18e5982"
   },
   "outputs": [],
   "source": [
    "def train_and_evaluate_model(model, model_name, X_tr, y_tr, X_v, y_v):\n",
    "    results = {}\n",
    "\n",
    "    clf = clone(model)\n",
    "    clf.fit(X_tr, y_tr)\n",
    "\n",
    "    y_pred_train = clf.predict(X_tr)\n",
    "\n",
    "    y_pred = clf.predict(X_v)\n",
    "    cm = confusion_matrix(y_v, y_pred)\n",
    "\n",
    "    results[model_name] = {\n",
    "        \"F1-Score_Train\": f1_score(y_tr, y_pred_train, average=\"binary\", zero_division=0),\n",
    "        \"Recall_Train\": recall_score(y_tr, y_pred_train, average=\"binary\", zero_division=0),\n",
    "        \"Precision_Train\": precision_score(y_tr, y_pred_train, average=\"binary\", zero_division=0),\n",
    "        \"Accuracy_Train\": accuracy_score(y_tr, y_pred_train),\n",
    "\n",
    "        \"F1-Score_Val\": f1_score(y_v, y_pred, average=\"binary\", zero_division=0),\n",
    "        \"Recall_Val\": recall_score(y_v, y_pred, average=\"binary\", zero_division=0),\n",
    "        \"Precision_Val\": precision_score(y_v, y_pred, average=\"binary\", zero_division=0),\n",
    "        \"Accuracy_Val\": accuracy_score(y_v, y_pred),\n",
    "        \"Confusion_Matrix_Val\": cm\n",
    "    }\n",
    "\n",
    "    return results, clf"
   ]
  },
  {
   "cell_type": "code",
   "execution_count": 51,
   "metadata": {
    "cell_id": "0f428590e8f9417b84f5da9f160d9d49",
    "deepnote_cell_type": "code",
    "deepnote_to_be_reexecuted": true,
    "execution_context_id": "7eedb73a-de24-440b-9ed4-1df6acf98f0e",
    "execution_millis": 308,
    "execution_start": 1750015887444,
    "source_hash": "37cb55fe"
   },
   "outputs": [],
   "source": [
    "model = XGBClassifier(random_state=42)\n",
    "model_name = \"XGBoost\"\n",
    "\n",
    "results, trained_model = train_and_evaluate_model(model, model_name, X_train_over, y_train_over, X_val_final, y_val)"
   ]
  },
  {
   "cell_type": "code",
   "execution_count": 52,
   "metadata": {
    "cell_id": "ae1327c1a5a3420a998dd514124d2073",
    "deepnote_cell_type": "code",
    "deepnote_to_be_reexecuted": true,
    "execution_context_id": "7eedb73a-de24-440b-9ed4-1df6acf98f0e",
    "execution_millis": 1,
    "execution_start": 1750015887810,
    "source_hash": "a818939f"
   },
   "outputs": [
    {
     "data": {
      "text/html": [
       "<style type=\"text/css\">\n",
       "#T_5cb16_row0_col0, #T_5cb16_row0_col1, #T_5cb16_row0_col2, #T_5cb16_row0_col3, #T_5cb16_row0_col4, #T_5cb16_row0_col5, #T_5cb16_row0_col6, #T_5cb16_row0_col7 {\n",
       "  background-color: #dff0d8;\n",
       "  font-weight: bold;\n",
       "}\n",
       "</style>\n",
       "<table id=\"T_5cb16\">\n",
       "  <thead>\n",
       "    <tr>\n",
       "      <th id=\"T_5cb16_level0_col0\" class=\"col_heading level0 col0\" >F1-Score_Train</th>\n",
       "      <th id=\"T_5cb16_level0_col1\" class=\"col_heading level0 col1\" >Recall_Train</th>\n",
       "      <th id=\"T_5cb16_level0_col2\" class=\"col_heading level0 col2\" >Precision_Train</th>\n",
       "      <th id=\"T_5cb16_level0_col3\" class=\"col_heading level0 col3\" >Accuracy_Train</th>\n",
       "      <th id=\"T_5cb16_level0_col4\" class=\"col_heading level0 col4\" >F1-Score_Val</th>\n",
       "      <th id=\"T_5cb16_level0_col5\" class=\"col_heading level0 col5\" >Recall_Val</th>\n",
       "      <th id=\"T_5cb16_level0_col6\" class=\"col_heading level0 col6\" >Precision_Val</th>\n",
       "      <th id=\"T_5cb16_level0_col7\" class=\"col_heading level0 col7\" >Accuracy_Val</th>\n",
       "    </tr>\n",
       "  </thead>\n",
       "  <tbody>\n",
       "    <tr>\n",
       "      <td id=\"T_5cb16_row0_col0\" class=\"data row0 col0\" >0.980</td>\n",
       "      <td id=\"T_5cb16_row0_col1\" class=\"data row0 col1\" >0.995</td>\n",
       "      <td id=\"T_5cb16_row0_col2\" class=\"data row0 col2\" >0.966</td>\n",
       "      <td id=\"T_5cb16_row0_col3\" class=\"data row0 col3\" >0.980</td>\n",
       "      <td id=\"T_5cb16_row0_col4\" class=\"data row0 col4\" >0.661</td>\n",
       "      <td id=\"T_5cb16_row0_col5\" class=\"data row0 col5\" >0.734</td>\n",
       "      <td id=\"T_5cb16_row0_col6\" class=\"data row0 col6\" >0.602</td>\n",
       "      <td id=\"T_5cb16_row0_col7\" class=\"data row0 col7\" >0.883</td>\n",
       "    </tr>\n",
       "  </tbody>\n",
       "</table>\n"
      ],
      "text/plain": [
       "<pandas.io.formats.style.Styler at 0x1df0d7fe530>"
      ]
     },
     "execution_count": 52,
     "metadata": {},
     "output_type": "execute_result"
    }
   ],
   "source": [
    "metrics_only = results[\"XGBoost\"].copy()\n",
    "metrics_only.pop(\"Confusion_Matrix_Val\", None)\n",
    "df_results = pd.DataFrame([metrics_only], index=[\"XGBoost\"])\n",
    "df_results.style.apply(\n",
    "    lambda row: ['background-color: #dff0d8; font-weight: bold'] * len(row),\n",
    "    axis=1\n",
    ").format(precision=3).hide(axis=\"index\")"
   ]
  },
  {
   "cell_type": "markdown",
   "metadata": {
    "cell_id": "19bc33ad641c46f796c5a30a9af66c8d",
    "deepnote_cell_type": "text-cell-p",
    "formattedRanges": []
   },
   "source": [
    "Dla modelu **XGBoost z zastosowaniem Random Oversampling** zaobserwowano wyraźne różnice pomiędzy wynikami na zbiorze treningowym a walidacyjnym. Na zbiorze treningowym model osiągnął bardzo wysokie wartości wszystkich metryk (`F1-Score` = 0.980, `Recall` = 0.995, `Precision` = 0.966, `Accuracy` = 0.980), co może świadczyć o jego przeuczeniu (overfitting).\n",
    "\n",
    "Na zbiorze walidacyjnym rezultaty były istotnie niższe: `F1-Score` = 0.661, `Recall` = 0.734, `Precision` = 0.602, `Accuracy` = 0.883, co wskazuje, że model gorzej radzi sobie z generalizacją do nowych, nieznanych danych.\n",
    "\n",
    "W celu **poprawy zdolności generalizacji modelu** oraz ograniczenia przeuczenia, planowane jest przeprowadzenie feature importance oraz tuningu hiperparametrów. Dzięki odpowiedniemu doborowi istotnych cech oraz parametrów (takich jak liczba drzew, głębokość drzewa, learning rate czy regularizacja), model może osiągnąć lepszą równowagę między dopasowaniem do danych treningowych a skutecznością na zbiorze walidacyjnym."
   ]
  },
  {
   "cell_type": "markdown",
   "metadata": {
    "cell_id": "55a933fa866841528ded0620c053e9fa",
    "deepnote_cell_type": "text-cell-h2",
    "formattedRanges": []
   },
   "source": [
    "## Macierz pomyłek dla modelu XGBoost po balansowaniu"
   ]
  },
  {
   "cell_type": "code",
   "execution_count": 53,
   "metadata": {
    "cell_id": "dbb382527db64f15b54066daadf8b4eb",
    "deepnote_cell_type": "code",
    "deepnote_to_be_reexecuted": true,
    "execution_context_id": "7eedb73a-de24-440b-9ed4-1df6acf98f0e",
    "execution_millis": 192,
    "execution_start": 1750015887900,
    "source_hash": "a7139f57"
   },
   "outputs": [
    {
     "data": {
      "image/png": "[encoded data removed]",
      "text/plain": [
       "<Figure size 640x480 with 2 Axes>"
      ]
     },
     "metadata": {},
     "output_type": "display_data"
    }
   ],
   "source": [
    "cm = results_xgb[\"XGBoost\"][\"Random Oversampling\"][\"Confusion_Matrix_Val\"]\n",
    "\n",
    "disp = ConfusionMatrixDisplay(confusion_matrix=cm)\n",
    "fig, ax = plt.subplots()\n",
    "disp.plot(cmap=\"Blues\", ax=ax)\n",
    "ax.grid(False)\n",
    "plt.title(\"XGBoost - Random Oversampling\")\n",
    "plt.show()"
   ]
  },
  {
   "cell_type": "markdown",
   "metadata": {
    "cell_id": "86a7f821ccbc4840bd2072278c975701",
    "deepnote_cell_type": "text-cell-p",
    "formattedRanges": []
   },
   "source": [
    "Powyżej zaprezentowano macierz pomyłek dla modelu **XGBoost** po zastosowaniu metody balansowania **Random Oversampling**. Na zbiorze walidacyjnym otrzymano następujące wyniki\n",
    "\n",
    "- prawidłowo sklasyfikowano 1406 przypadków klasy 0 (brak zakupu) – True Negatives (TN)\n",
    "\n",
    "- prawidłowo sklasyfikowano 210 przypadków klasy 1 (zakup) – True Positives (TP)\n",
    "\n",
    "- 139 przypadków klasy 0 błędnie zaklasyfikowano jako 1 – False Positives (FP)\n",
    "\n",
    "- 76 przypadków klasy 1 błędnie sklasyfikowano jako 0 – False Negatives (FN)\n",
    "\n",
    "Macierz ta świadczy o dobrej skuteczności modelu, zwłaszcza w zakresie rozpoznawania klasy mniejszościowej (zakupu). Liczba błędnych klasyfikacji (FN = 76 i FP = 139) jest stosunkowo niska, co oznacza, że model dobrze równoważy między precyzją a czułością. Szczególnie istotne jest ograniczenie liczby FN, ponieważ w kontekście predykcji zakupów pominięcie klienta, który rzeczywiście dokona zakupu, może prowadzić do straty potencjalnego zysku.\n",
    "\n",
    "Należy jednak zaznaczyć, że przedstawione wyniki mogą być zawyżone, ponieważ model wykazuje oznaki przeuczenia na zbiorze treningowym, co ogranicza jego zdolność do generalizacji na nowych danych."
   ]
  },
  {
   "cell_type": "markdown",
   "metadata": {
    "cell_id": "6553ed06cad0475fa8561698151e22c0",
    "deepnote_cell_type": "text-cell-h2",
    "formattedRanges": []
   },
   "source": [
    "## Feature Importance"
   ]
  },
  {
   "cell_type": "code",
   "execution_count": 54,
   "metadata": {
    "cell_id": "d75888f314a04ab7b7006ed5cf147e11",
    "deepnote_cell_type": "code",
    "deepnote_to_be_reexecuted": true,
    "execution_context_id": "7eedb73a-de24-440b-9ed4-1df6acf98f0e",
    "execution_millis": 482,
    "execution_start": 1750015888150,
    "source_hash": "a9f8f282"
   },
   "outputs": [
    {
     "data": {
      "image/png": "[encoded data removed]",
      "text/plain": [
       "<Figure size 1000x800 with 1 Axes>"
      ]
     },
     "metadata": {},
     "output_type": "display_data"
    }
   ],
   "source": [
    "fig, ax = plt.subplots(figsize=(10, 8))\n",
    "\n",
    "plot_importance(\n",
    "    trained_model,\n",
    "    importance_type='gain',\n",
    "    max_num_features=20,\n",
    "    height=0.6,\n",
    "    ax=ax,\n",
    "    grid=False,\n",
    "    show_values=False\n",
    ")\n",
    "\n",
    "ax.set_title(\"Feature Importance (by Gain)\", fontsize=14, fontweight='bold')\n",
    "ax.set_xlabel(\"Gain\", fontsize=12)\n",
    "ax.set_ylabel(\"Feature\", fontsize=12)\n",
    "\n",
    "plt.xticks(fontsize=10)\n",
    "plt.yticks(fontsize=10)\n",
    "plt.tight_layout()\n",
    "plt.show()"
   ]
  },
  {
   "cell_type": "code",
   "execution_count": 55,
   "metadata": {
    "cell_id": "2bfb4e89c64b4e608123fa4d79e4cebe",
    "deepnote_cell_type": "code",
    "deepnote_to_be_reexecuted": true,
    "execution_context_id": "7eedb73a-de24-440b-9ed4-1df6acf98f0e",
    "execution_millis": 1,
    "execution_start": 1750015888690,
    "source_hash": "d71c24c6"
   },
   "outputs": [],
   "source": [
    "importance = trained_model.feature_importances_\n",
    "feature_names = X_train_over.columns\n",
    "\n",
    "importance_df = pd.DataFrame({\n",
    "    'Feature': feature_names,\n",
    "    'Importance': importance\n",
    "}).sort_values(by='Importance', ascending=False)\n",
    "\n",
    "top_features = importance_df['Feature'].head(5).tolist()\n",
    "\n",
    "X_train_top = X_train_over[top_features].copy(deep=True)\n",
    "X_val_top = X_val_final[top_features].copy(deep=True)\n",
    "y_train_top = y_train_over.copy(deep=True)\n",
    "y_val_top = y_val.copy(deep=True)\n",
    "X_train_final_top = X_train_final[top_features].copy(deep=True)\n",
    "y_train_topp = y_train.copy(deep=True)\n",
    "X_test_top = X_test_final[top_features].copy(deep=True)\n",
    "y_test_top = y_test.copy(deep=True)"
   ]
  },
  {
   "cell_type": "markdown",
   "metadata": {
    "cell_id": "a482038ebdb44860bfb77e13ba9b62c4",
    "deepnote_cell_type": "text-cell-p",
    "formattedRanges": []
   },
   "source": [
    "W celu identyfikacji najbardziej istotnych zmiennych dla modelu XGBoost skorzystano z metody obliczania ważności cech opartej na wartości `Gain`. Metoda ta mierzy średni wzrost dokładności (zmniejszenie błędu) uzyskiwany przy rozdzielaniu danych według danej cechy w drzewach decyzyjnych. Wyższa wartość `Gain` oznacza większy wkład danej zmiennej w budowę modelu.\n",
    "\n",
    "W dalszej części projektu zastosowano podejście iteracyjne, polegające na testowaniu skuteczności klasyfikatora XGBoost przy różnych liczbach wybranych cech. Metodą prób i błędów na podstawie metryk oceniono kilka wariantów od kilku do kilkunastu zmiennych. Najlepszy kompromis pomiędzy jakością predykcji a złożonością modelu uzyskano przy wyborze **5 cech o najwyższej wartości Gain**. W celu zachowania przejrzystości raportu, w kodzie uwzględniono jedynie finalny, optymalny wariant – fragmenty dotyczące pozostałych konfiguracji zostały pominięte.\n",
    "\n",
    "Największy wpływ na klasyfikację mają cechy:\n",
    "\n",
    "- `PageValues`\n",
    "- `Month_Mar`\n",
    "- `Month_May`\n",
    "- `Month_Nov`\n",
    "- `Month_Sep`\n",
    "\n",
    "Tym samym przygotowano nowe zbiory treningowe, walidacyjne i testowe zawierające tylko wskazane cechy. Celem tej operacji jest redukcja wymiarowości oraz zwiększenie interpretowalności modelu przy zachowaniu wysokich wartości metryk klasyfikacyjnych."
   ]
  },
  {
   "cell_type": "code",
   "execution_count": 56,
   "metadata": {
    "cell_id": "c902a546ea3846b5800794be4200f6a2",
    "deepnote_cell_type": "code",
    "deepnote_to_be_reexecuted": true,
    "execution_context_id": "7eedb73a-de24-440b-9ed4-1df6acf98f0e",
    "execution_millis": 203,
    "execution_start": 1750015888760,
    "source_hash": "c20d1737"
   },
   "outputs": [],
   "source": [
    "model = XGBClassifier(random_state=42)\n",
    "model_name = \"XGBoost\"\n",
    "\n",
    "results, trained_model = train_and_evaluate_model(model, model_name, X_train_top, y_train_top, X_val_top, y_val_top)"
   ]
  },
  {
   "cell_type": "code",
   "execution_count": 57,
   "metadata": {
    "cell_id": "a074b34fec79481cbd6dbb29ca93f84e",
    "deepnote_cell_type": "code",
    "deepnote_to_be_reexecuted": true,
    "execution_context_id": "7eedb73a-de24-440b-9ed4-1df6acf98f0e",
    "execution_millis": 0,
    "execution_start": 1750015889026,
    "source_hash": "a818939f"
   },
   "outputs": [
    {
     "data": {
      "text/html": [
       "<style type=\"text/css\">\n",
       "#T_28947_row0_col0, #T_28947_row0_col1, #T_28947_row0_col2, #T_28947_row0_col3, #T_28947_row0_col4, #T_28947_row0_col5, #T_28947_row0_col6, #T_28947_row0_col7 {\n",
       "  background-color: #dff0d8;\n",
       "  font-weight: bold;\n",
       "}\n",
       "</style>\n",
       "<table id=\"T_28947\">\n",
       "  <thead>\n",
       "    <tr>\n",
       "      <th id=\"T_28947_level0_col0\" class=\"col_heading level0 col0\" >F1-Score_Train</th>\n",
       "      <th id=\"T_28947_level0_col1\" class=\"col_heading level0 col1\" >Recall_Train</th>\n",
       "      <th id=\"T_28947_level0_col2\" class=\"col_heading level0 col2\" >Precision_Train</th>\n",
       "      <th id=\"T_28947_level0_col3\" class=\"col_heading level0 col3\" >Accuracy_Train</th>\n",
       "      <th id=\"T_28947_level0_col4\" class=\"col_heading level0 col4\" >F1-Score_Val</th>\n",
       "      <th id=\"T_28947_level0_col5\" class=\"col_heading level0 col5\" >Recall_Val</th>\n",
       "      <th id=\"T_28947_level0_col6\" class=\"col_heading level0 col6\" >Precision_Val</th>\n",
       "      <th id=\"T_28947_level0_col7\" class=\"col_heading level0 col7\" >Accuracy_Val</th>\n",
       "    </tr>\n",
       "  </thead>\n",
       "  <tbody>\n",
       "    <tr>\n",
       "      <td id=\"T_28947_row0_col0\" class=\"data row0 col0\" >0.845</td>\n",
       "      <td id=\"T_28947_row0_col1\" class=\"data row0 col1\" >0.799</td>\n",
       "      <td id=\"T_28947_row0_col2\" class=\"data row0 col2\" >0.896</td>\n",
       "      <td id=\"T_28947_row0_col3\" class=\"data row0 col3\" >0.853</td>\n",
       "      <td id=\"T_28947_row0_col4\" class=\"data row0 col4\" >0.648</td>\n",
       "      <td id=\"T_28947_row0_col5\" class=\"data row0 col5\" >0.727</td>\n",
       "      <td id=\"T_28947_row0_col6\" class=\"data row0 col6\" >0.584</td>\n",
       "      <td id=\"T_28947_row0_col7\" class=\"data row0 col7\" >0.877</td>\n",
       "    </tr>\n",
       "  </tbody>\n",
       "</table>\n"
      ],
      "text/plain": [
       "<pandas.io.formats.style.Styler at 0x1df0d8cdba0>"
      ]
     },
     "execution_count": 57,
     "metadata": {},
     "output_type": "execute_result"
    }
   ],
   "source": [
    "metrics_only = results[\"XGBoost\"].copy()\n",
    "metrics_only.pop(\"Confusion_Matrix_Val\", None)\n",
    "df_results = pd.DataFrame([metrics_only], index=[\"XGBoost\"])\n",
    "df_results.style.apply(\n",
    "    lambda row: ['background-color: #dff0d8; font-weight: bold'] * len(row),\n",
    "    axis=1\n",
    ").format(precision=3).hide(axis=\"index\")"
   ]
  },
  {
   "cell_type": "markdown",
   "metadata": {
    "cell_id": "0d50991e0a5e4e55b37d3e2d6c085b04",
    "deepnote_cell_type": "text-cell-p",
    "formattedRanges": []
   },
   "source": [
    "Po ograniczeniu zbioru do **5 najważniejszych zmiennych** nastąpiła zauważalna **poprawa równowagi pomiędzy metrykami dla zbioru treningowego i walidacyjnego, co świadczy o zmniejszeniu przeuczenia modelu** (overfittingu).\n",
    "\n",
    "Podczas gdy wcześniej metryki na zbiorze treningowym były znacznie wyższe niż na walidacyjnym, natomiast obecnie różnice te uległy zmniejszeniu. Na zbiorze walidacyjnym model uzyskał następujące wyniki:\n",
    "\n",
    "- `F1-Score` = 0.648\n",
    "- `Recall` = 0.727\n",
    "- `Precision` = 0.584\n",
    "- `Accuracy` = 0.877\n",
    "\n",
    "Wskaźniki te są bardziej zrównoważone względem zbioru treningowego (`F1-Score` = 0.845, `Recall` = 0.799, `Precision` = 0.896, `Accuracy` = 0.853), co sugeruje, że model lepiej generalizuje na danych niewidzianych.\n",
    "\n",
    "Dodatkowo, ograniczenie liczby cech do pięciu zmniejszyło złożoność obliczeniową modelu. W kontekście dalszego tuningu hiperparametrów oznacza to krótszy czas uczenia i mniejsze ryzyko nadmiernego dopasowania, przy zachowaniu wysokiej skuteczności predykcji."
   ]
  },
  {
   "cell_type": "markdown",
   "metadata": {
    "cell_id": "6a2920beb681483187e7bebcd7bb2676",
    "deepnote_cell_type": "text-cell-h2",
    "formattedRanges": []
   },
   "source": [
    "## Optymalizacja hiperparametrów"
   ]
  },
  {
   "cell_type": "code",
   "execution_count": 58,
   "metadata": {
    "cell_id": "1695e9f7b84e4708ac2ce76b91d24f0b",
    "deepnote_cell_type": "code",
    "deepnote_to_be_reexecuted": true,
    "execution_context_id": "7eedb73a-de24-440b-9ed4-1df6acf98f0e",
    "execution_millis": 1,
    "execution_start": 1750015889080,
    "source_hash": "b7994861"
   },
   "outputs": [],
   "source": [
    "pipe = Pipeline(steps=[\n",
    "    ('sampler', RandomOverSampler(random_state=42)),\n",
    "    (\"model\", XGBClassifier(\n",
    "        objective=\"binary:logistic\",\n",
    "        random_state=42,\n",
    "    ))\n",
    "])"
   ]
  },
  {
   "cell_type": "markdown",
   "metadata": {
    "cell_id": "2b9ff087731742b89d0212b3ae51f69d",
    "deepnote_cell_type": "text-cell-p",
    "formattedRanges": []
   },
   "source": [
    "Powyższy pipeline składa się z dwóch kroków: najpierw zastosowano Random Oversampling, aby zbalansować klasy w zbiorze treningowym przez losowe duplikowanie obserwacji klasy mniejszościowej. Następnie wykorzystano model XGBoost z ustawieniem `binary:logistic` do klasyfikacji binarnej. Pipeline pozwala na zintegrowanie przetwarzania danych i trenowania modelu w jednym obiekcie, co ułatwia późniejszy tuning hiperparametrów z użyciem kroswalidacji."
   ]
  },
  {
   "cell_type": "code",
   "execution_count": 59,
   "metadata": {
    "cell_id": "80677f52554c47ff8b7c1814da7da19c",
    "deepnote_cell_type": "code",
    "deepnote_to_be_reexecuted": true,
    "execution_context_id": "7eedb73a-de24-440b-9ed4-1df6acf98f0e",
    "execution_millis": 1,
    "execution_start": 1750015889140,
    "source_hash": "68103824"
   },
   "outputs": [],
   "source": [
    "param_grid = {\n",
    "    \"model__n_estimators\": [100, 200, 300],\n",
    "    \"model__learning_rate\": [0.05, 0.1],\n",
    "    \"model__max_depth\": [3, 4, 5],\n",
    "    \"model__subsample\": [0.8, 1.0],\n",
    "    \"model__colsample_bytree\": [0.8, 1.0],\n",
    "    \"model__reg_alpha\": [0, 0.1],\n",
    "    \"model__reg_lambda\": [1.0, 5.0]\n",
    "}"
   ]
  },
  {
   "cell_type": "markdown",
   "metadata": {
    "cell_id": "991a0c302fe24a0f99fca99a27d23728",
    "deepnote_cell_type": "text-cell-p",
    "formattedRanges": []
   },
   "source": [
    "Zdefiniowana siatka param_grid zawiera zestawy hiperparametrów, które mają zostać przetestowane w procesie tuningu modelu XGBoost. Uwzględniono:\n",
    "\n",
    "- `n_estimators`: liczba drzew w modelu (100, 200, 300)\n",
    "- `learning_rate`: tempo uczenia (0.05, 0.1)\n",
    "- `max_depth`: maksymalna głębokość drzewa (3, 4, 5)\n",
    "- `subsample`: proporcja próbek używana do budowy każdego drzewa (0.8, 1.0)\n",
    "- `colsample_bytree`: proporcja cech używana przy budowie drzewa (0.8, 1.0)\n",
    "- `reg_alpha`: współczynnik regularyzacji L1 (0, 0.1)\n",
    "- `reg_lambda`: współczynnik regularyzacji L2 (1.0, 5.0)\n",
    "\n",
    "Parametry te wpływają na złożoność modelu, jego zdolność generalizacji oraz kontrolują ryzyko przeuczenia."
   ]
  },
  {
   "cell_type": "code",
   "execution_count": 60,
   "metadata": {
    "cell_id": "08dea799c554409891eac850eee8fc06",
    "deepnote_cell_type": "code",
    "deepnote_to_be_reexecuted": true,
    "execution_context_id": "7eedb73a-de24-440b-9ed4-1df6acf98f0e",
    "execution_millis": 0,
    "execution_start": 1750015889201,
    "source_hash": "2eecc25"
   },
   "outputs": [],
   "source": [
    "cv = StratifiedKFold(n_splits=5, shuffle=True, random_state=42)\n",
    "\n",
    "f1_custom = make_scorer(f1_score, average=\"binary\", zero_division=0)\n",
    "\n",
    "search = RandomizedSearchCV(\n",
    "    estimator=pipe,\n",
    "    param_distributions=param_grid,\n",
    "    n_iter=75,           \n",
    "    scoring=f1_custom,   \n",
    "    cv=cv,\n",
    "    n_jobs=-1,\n",
    "    verbose=1,\n",
    "    random_state=42\n",
    ")"
   ]
  },
  {
   "cell_type": "markdown",
   "metadata": {
    "cell_id": "c850ec49a81442b8a3a87a493266a2a1",
    "deepnote_cell_type": "text-cell-p",
    "formattedRanges": []
   },
   "source": [
    "Skonfigurowano proces tuningu hiperparametrów modelu XGBoost z użyciem losowego przeszukiwania (`RandomizedSearchCV`) oraz 5-krotnej kroswalidacji (`StratifiedKFold`).\n",
    "\n",
    "- `StratifiedKFold` zapewnia podział danych na 5 części z zachowaniem proporcji klas, co pozwala na bardziej wiarygodną ocenę skuteczności modelu.\n",
    "- `make_scorer(f1_score)` definiuje metrykę, według której oceniane są kombinacje hiperparametrów – w tym przypadku jest to `F1-Score`, szczególnie istotna przy niezrównoważonych klasach.\n",
    "- `RandomizedSearchCV` losowo wybiera 75 kombinacji z podanej siatki parametrów (`n_iter=75`) i dla każdej z nich przeprowadza 5-krotną walidację krzyżową.\n",
    "- Ustawienie `n_jobs=-1` pozwala wykorzystać wszystkie dostępne rdzenie procesora, a `verbose=1` umożliwia śledzenie postępu tuningu.\n",
    "\n",
    "Dzięki tej konfiguracji możliwe jest znalezienie zestawu parametrów, który maksymalizuje jakość klasyfikacji przy jednoczesnym ograniczeniu czasu obliczeń."
   ]
  },
  {
   "cell_type": "code",
   "execution_count": 61,
   "metadata": {
    "cell_id": "58310790b5b741c696851854741f5b0e",
    "deepnote_cell_type": "code",
    "deepnote_to_be_reexecuted": true,
    "execution_context_id": "7eedb73a-de24-440b-9ed4-1df6acf98f0e",
    "execution_millis": 50820,
    "execution_start": 1750015889250,
    "source_hash": "70250f5e"
   },
   "outputs": [
    {
     "name": "stdout",
     "output_type": "stream",
     "text": [
      "Fitting 5 folds for each of 75 candidates, totalling 375 fits\n",
      "Najlepsze parametry: {'model__subsample': 0.8, 'model__reg_lambda': 5.0, 'model__reg_alpha': 0, 'model__n_estimators': 200, 'model__max_depth': 4, 'model__learning_rate': 0.1, 'model__colsample_bytree': 1.0}\n",
      "Wynik CV (F1): 0.6728996963246364\n"
     ]
    }
   ],
   "source": [
    "search.fit(X_train_final_top, y_train_topp)\n",
    "\n",
    "print(\"Najlepsze parametry:\", search.best_params_)\n",
    "print(\"Wynik CV (F1):\", search.best_score_)"
   ]
  },
  {
   "cell_type": "markdown",
   "metadata": {
    "cell_id": "d6d7e093aa754517a74d65ab8d05efae",
    "deepnote_cell_type": "text-cell-p",
    "formattedRanges": []
   },
   "source": [
    "Wykonano dopasowanie modelu do danych treningowych z użyciem ``RandomizedSearchCV. Wybrano najlepszy zestaw hiperparametrów maksymalizujący `F1-Score` na podstawie 5-krotnej kroswalidacji. Wyniki zawierają zarówno najlepsze parametry, jak i odpowiadający im średni wynik `F1`."
   ]
  },
  {
   "cell_type": "code",
   "execution_count": 62,
   "metadata": {
    "cell_id": "049ab2fb91a84cc6956661630f6a08b0",
    "deepnote_cell_type": "code",
    "deepnote_to_be_reexecuted": true,
    "execution_context_id": "7eedb73a-de24-440b-9ed4-1df6acf98f0e",
    "execution_millis": 0,
    "execution_start": 1750015940124,
    "source_hash": "67e7913b"
   },
   "outputs": [],
   "source": [
    "best_model = search.best_estimator_"
   ]
  },
  {
   "cell_type": "code",
   "execution_count": 63,
   "metadata": {
    "cell_id": "e1b298a13141402fbe3a0bef820cabc4",
    "deepnote_cell_type": "code",
    "deepnote_to_be_reexecuted": true,
    "execution_context_id": "7eedb73a-de24-440b-9ed4-1df6acf98f0e",
    "execution_millis": 168,
    "execution_start": 1750015940186,
    "source_hash": "ec6cce29"
   },
   "outputs": [],
   "source": [
    "model = best_model\n",
    "model_name = \"XGBoost_tuned\"\n",
    "results = train_and_evaluate_model(model, model_name, X_train_final_top, y_train_topp, X_val_top, y_val_top)"
   ]
  },
  {
   "cell_type": "markdown",
   "metadata": {
    "cell_id": "c11a077aea2b41d7908c0f331207da74",
    "deepnote_cell_type": "text-cell-p",
    "formattedRanges": []
   },
   "source": [
    "Uzyskany najlepszy model (`best_model`) został ponownie dopasowany do danych treningowych i oceniony na zbiorze walidacyjnym. Do oceny wykorzystano funkcję `train_and_evaluate_model`, która oblicza kluczowe metryki skuteczności (m.in. F1-Score, Recall, Precision, Accuracy) osobno dla zbioru treningowego i walidacyjnego."
   ]
  },
  {
   "cell_type": "code",
   "execution_count": 64,
   "metadata": {
    "cell_id": "602fd39d5dfd49b0a078942a0bab7e56",
    "deepnote_cell_type": "code",
    "deepnote_to_be_reexecuted": true,
    "execution_context_id": "7eedb73a-de24-440b-9ed4-1df6acf98f0e",
    "execution_millis": 1,
    "execution_start": 1750015940420,
    "source_hash": "d464291b"
   },
   "outputs": [
    {
     "data": {
      "text/html": [
       "<style type=\"text/css\">\n",
       "#T_ccb4d_row0_col0, #T_ccb4d_row0_col1, #T_ccb4d_row0_col2, #T_ccb4d_row0_col3, #T_ccb4d_row0_col4, #T_ccb4d_row0_col5, #T_ccb4d_row0_col6, #T_ccb4d_row0_col7 {\n",
       "  background-color: #dff0d8;\n",
       "  font-weight: bold;\n",
       "}\n",
       "</style>\n",
       "<table id=\"T_ccb4d\">\n",
       "  <thead>\n",
       "    <tr>\n",
       "      <th id=\"T_ccb4d_level0_col0\" class=\"col_heading level0 col0\" >F1-Score_Train</th>\n",
       "      <th id=\"T_ccb4d_level0_col1\" class=\"col_heading level0 col1\" >Recall_Train</th>\n",
       "      <th id=\"T_ccb4d_level0_col2\" class=\"col_heading level0 col2\" >Precision_Train</th>\n",
       "      <th id=\"T_ccb4d_level0_col3\" class=\"col_heading level0 col3\" >Accuracy_Train</th>\n",
       "      <th id=\"T_ccb4d_level0_col4\" class=\"col_heading level0 col4\" >F1-Score_Val</th>\n",
       "      <th id=\"T_ccb4d_level0_col5\" class=\"col_heading level0 col5\" >Recall_Val</th>\n",
       "      <th id=\"T_ccb4d_level0_col6\" class=\"col_heading level0 col6\" >Precision_Val</th>\n",
       "      <th id=\"T_ccb4d_level0_col7\" class=\"col_heading level0 col7\" >Accuracy_Val</th>\n",
       "    </tr>\n",
       "  </thead>\n",
       "  <tbody>\n",
       "    <tr>\n",
       "      <td id=\"T_ccb4d_row0_col0\" class=\"data row0 col0\" >0.680</td>\n",
       "      <td id=\"T_ccb4d_row0_col1\" class=\"data row0 col1\" >0.800</td>\n",
       "      <td id=\"T_ccb4d_row0_col2\" class=\"data row0 col2\" >0.591</td>\n",
       "      <td id=\"T_ccb4d_row0_col3\" class=\"data row0 col3\" >0.882</td>\n",
       "      <td id=\"T_ccb4d_row0_col4\" class=\"data row0 col4\" >0.670</td>\n",
       "      <td id=\"T_ccb4d_row0_col5\" class=\"data row0 col5\" >0.780</td>\n",
       "      <td id=\"T_ccb4d_row0_col6\" class=\"data row0 col6\" >0.587</td>\n",
       "      <td id=\"T_ccb4d_row0_col7\" class=\"data row0 col7\" >0.880</td>\n",
       "    </tr>\n",
       "  </tbody>\n",
       "</table>\n"
      ],
      "text/plain": [
       "<pandas.io.formats.style.Styler at 0x1df0d7ffbb0>"
      ]
     },
     "execution_count": 64,
     "metadata": {},
     "output_type": "execute_result"
    }
   ],
   "source": [
    "metrics_dict = results[0]\n",
    "metrics_only = metrics_dict[\"XGBoost_tuned\"].copy()\n",
    "metrics_only.pop(\"Confusion_Matrix_Val\", None)\n",
    "df_results = pd.DataFrame([metrics_only], index=[\"XGBoost_tuned\"])\n",
    "df_results.style.apply(\n",
    "    lambda row: ['background-color: #dff0d8; font-weight: bold'] * len(row),\n",
    "    axis=1\n",
    ").format(precision=3).hide(axis=\"index\")"
   ]
  },
  {
   "cell_type": "markdown",
   "metadata": {
    "cell_id": "06fa387bf6bc426dbc69ce0ae6a03526",
    "deepnote_cell_type": "text-cell-p",
    "formattedRanges": []
   },
   "source": [
    "Model XGBoost po tuningu hiperparametrów wykazał znaczącą poprawę w zakresie dopasowania do zbioru walidacyjnego. Przeuczenie modelu, obserwowane wcześniej (gdy różnice między metrykami na zbiorze treningowym i walidacyjnym były bardzo duże), zostało wyraźnie zredukowane — metryki na obu zbiorach są teraz bardziej zbliżone.\n",
    "\n",
    "Po optymalizacji hiperparametrów model osiągnął następujące wyniki:\n",
    "\n",
    "- `F1-Score (train)` = 0.680, `F1-Score (val)` = 0.670\n",
    "- `Recall (train)` = 0.800, `Recall (val)` = 0.780\n",
    "- `Precision (train)` = 0.591, `Precision (val)` = 0.587\n",
    "- `Accuracy (train)` = 0.882, `Accuracy (val)` = 0.880\n",
    "\n",
    "Warto podkreślić, że model zachował wysoką czułość (`Recall`) – istotną przy identyfikowaniu przypadków pozytywnych (np. zakupów), a jednocześnie poprawił ogólną równowagę między metrykami. Fakt, że metryki na zbiorze walidacyjnym są bardzo zbliżone do wyników na treningowym, świadczy o **lepszej generalizacji modelu**, czyli jego większej odporności na przeuczenie.\n",
    "\n",
    "Uzyskane rezultaty potwierdzają skuteczność procesu tuningu – dopasowany model XGBoost dobrze radzi sobie z klasyfikacją, zachowując przy tym odpowiedni balans między precyzją a czułością."
   ]
  },
  {
   "cell_type": "markdown",
   "metadata": {
    "cell_id": "3eb3871874da4afdb65d00ae7d7488a7",
    "deepnote_cell_type": "text-cell-h2",
    "formattedRanges": []
   },
   "source": [
    "## Interakcje"
   ]
  },
  {
   "cell_type": "code",
   "execution_count": 65,
   "metadata": {
    "cell_id": "7b98edae58f44640bcb0436a0b483d3e",
    "deepnote_cell_type": "code",
    "deepnote_to_be_reexecuted": true,
    "execution_context_id": "7eedb73a-de24-440b-9ed4-1df6acf98f0e",
    "execution_millis": 1,
    "execution_start": 1750015940480,
    "source_hash": "a1299595"
   },
   "outputs": [],
   "source": [
    "poly = PolynomialFeatures(degree=2, include_bias=False, interaction_only=False)\n",
    "X_poly = poly.fit_transform(X_train_final_top)\n",
    "\n",
    "poly_features = poly.get_feature_names_out(X_train_final_top.columns)\n",
    "\n",
    "X_train_poly = pd.DataFrame(X_poly, columns=poly_features, index=X_train_final_top.index)\n",
    "X_val_poly = pd.DataFrame(poly.transform(X_val_top), columns=poly_features, index=X_val_top.index)"
   ]
  },
  {
   "cell_type": "markdown",
   "metadata": {
    "cell_id": "11eaffdd36d4466aba9f366a90549918",
    "deepnote_cell_type": "text-cell-p",
    "formattedRanges": []
   },
   "source": [
    "W celu sprawdzenia, czy uwzględnienie nieliniowych zależności między zmiennymi może poprawić skuteczność modelu, zastosowano automatyczne generowanie interakcji drugiego stopnia z wykorzystaniem klasy `PolynomialFeatures`. Użyto opcji `degree=2` oraz `interaction_only=False`, co oznacza, że wygenerowane zostały zarówno interakcje między zmiennymi, jak i ich kwadraty.\n",
    "\n",
    "Nowym cechom (interakcje i potęgi) nadano odpowiednie nazwy i przeniesiono do ramki danych, a następnie zbudowano zbiór walidacyjny w analogiczny sposób."
   ]
  },
  {
   "cell_type": "code",
   "execution_count": 66,
   "metadata": {
    "cell_id": "87958a69ffec402c886cfd069ab7696c",
    "deepnote_cell_type": "code",
    "deepnote_to_be_reexecuted": true,
    "execution_context_id": "7eedb73a-de24-440b-9ed4-1df6acf98f0e",
    "execution_millis": 278,
    "execution_start": 1750015940547,
    "source_hash": "95e4e9fa"
   },
   "outputs": [],
   "source": [
    "model = best_model\n",
    "model_name = \"XGBoost_tuned\"\n",
    "results = train_and_evaluate_model(model, model_name, X_train_poly, y_train_topp, X_val_poly, y_val_top)"
   ]
  },
  {
   "cell_type": "markdown",
   "metadata": {
    "cell_id": "a244e11db63243508b85f746315b0e33",
    "deepnote_cell_type": "text-cell-p",
    "formattedRanges": []
   },
   "source": [
    "Model XGBoost po tuningu został ponownie wytrenowany, tym razem z nowym rozszerzonym zbiorem treningowym zawierającym interakcje:"
   ]
  },
  {
   "cell_type": "code",
   "execution_count": 67,
   "metadata": {
    "cell_id": "1c336b63459245fcb8af993296a53086",
    "deepnote_cell_type": "code",
    "deepnote_to_be_reexecuted": true,
    "execution_context_id": "7eedb73a-de24-440b-9ed4-1df6acf98f0e",
    "execution_millis": 1,
    "execution_start": 1750015940895,
    "source_hash": "d464291b"
   },
   "outputs": [
    {
     "data": {
      "text/html": [
       "<style type=\"text/css\">\n",
       "#T_35ad9_row0_col0, #T_35ad9_row0_col1, #T_35ad9_row0_col2, #T_35ad9_row0_col3, #T_35ad9_row0_col4, #T_35ad9_row0_col5, #T_35ad9_row0_col6, #T_35ad9_row0_col7 {\n",
       "  background-color: #dff0d8;\n",
       "  font-weight: bold;\n",
       "}\n",
       "</style>\n",
       "<table id=\"T_35ad9\">\n",
       "  <thead>\n",
       "    <tr>\n",
       "      <th id=\"T_35ad9_level0_col0\" class=\"col_heading level0 col0\" >F1-Score_Train</th>\n",
       "      <th id=\"T_35ad9_level0_col1\" class=\"col_heading level0 col1\" >Recall_Train</th>\n",
       "      <th id=\"T_35ad9_level0_col2\" class=\"col_heading level0 col2\" >Precision_Train</th>\n",
       "      <th id=\"T_35ad9_level0_col3\" class=\"col_heading level0 col3\" >Accuracy_Train</th>\n",
       "      <th id=\"T_35ad9_level0_col4\" class=\"col_heading level0 col4\" >F1-Score_Val</th>\n",
       "      <th id=\"T_35ad9_level0_col5\" class=\"col_heading level0 col5\" >Recall_Val</th>\n",
       "      <th id=\"T_35ad9_level0_col6\" class=\"col_heading level0 col6\" >Precision_Val</th>\n",
       "      <th id=\"T_35ad9_level0_col7\" class=\"col_heading level0 col7\" >Accuracy_Val</th>\n",
       "    </tr>\n",
       "  </thead>\n",
       "  <tbody>\n",
       "    <tr>\n",
       "      <td id=\"T_35ad9_row0_col0\" class=\"data row0 col0\" >0.684</td>\n",
       "      <td id=\"T_35ad9_row0_col1\" class=\"data row0 col1\" >0.804</td>\n",
       "      <td id=\"T_35ad9_row0_col2\" class=\"data row0 col2\" >0.595</td>\n",
       "      <td id=\"T_35ad9_row0_col3\" class=\"data row0 col3\" >0.884</td>\n",
       "      <td id=\"T_35ad9_row0_col4\" class=\"data row0 col4\" >0.665</td>\n",
       "      <td id=\"T_35ad9_row0_col5\" class=\"data row0 col5\" >0.773</td>\n",
       "      <td id=\"T_35ad9_row0_col6\" class=\"data row0 col6\" >0.583</td>\n",
       "      <td id=\"T_35ad9_row0_col7\" class=\"data row0 col7\" >0.878</td>\n",
       "    </tr>\n",
       "  </tbody>\n",
       "</table>\n"
      ],
      "text/plain": [
       "<pandas.io.formats.style.Styler at 0x1df0db01ed0>"
      ]
     },
     "execution_count": 67,
     "metadata": {},
     "output_type": "execute_result"
    }
   ],
   "source": [
    "metrics_dict = results[0]\n",
    "metrics_only = metrics_dict[\"XGBoost_tuned\"].copy()\n",
    "metrics_only.pop(\"Confusion_Matrix_Val\", None)\n",
    "df_results = pd.DataFrame([metrics_only], index=[\"XGBoost_tuned\"])\n",
    "df_results.style.apply(\n",
    "    lambda row: ['background-color: #dff0d8; font-weight: bold'] * len(row),\n",
    "    axis=1\n",
    ").format(precision=3).hide(axis=\"index\")"
   ]
  },
  {
   "cell_type": "markdown",
   "metadata": {
    "cell_id": "31f9460f7aa64d029f22c2162c31b483",
    "deepnote_cell_type": "text-cell-p",
    "formattedRanges": []
   },
   "source": [
    "Pomimo zwiększenia liczby cech poprzez wprowadzenie interakcji drugiego stopnia, **nie zaobserwowano poprawy skuteczności modelu**. Metryki na zbiorze walidacyjnym uległy jedynie nieznacznym zmianom w porównaniu do modelu bez interakcji – w niektórych przypadkach nawet nieco się pogorszyły (np. spadek precyzji i F1-score).\n",
    "\n",
    "Ponadto, wprowadzenie dodatkowych zmiennych zwiększa złożoność obliczeniową modelu, co może prowadzić do dłuższego czasu trenowania i większego ryzyka przeuczenia przy dalszym tuningu.\n",
    "\n",
    "Podsumowując, testowanie interakcji nie przyniosło istotnych korzyści – najlepsze wyniki nadal osiągane są dla pięciu wybranych cech bez dodatkowych kombinacji."
   ]
  },
  {
   "cell_type": "markdown",
   "metadata": {
    "cell_id": "c02c119255cc42b496e95de4ff02724e",
    "deepnote_cell_type": "text-cell-h2",
    "formattedRanges": []
   },
   "source": [
    "## Optymalizacja progu klasyfikacji"
   ]
  },
  {
   "cell_type": "code",
   "execution_count": 68,
   "metadata": {
    "cell_id": "fe6b301c83c34bdb9853226367baaeaa",
    "deepnote_cell_type": "code",
    "deepnote_to_be_reexecuted": true,
    "execution_context_id": "7eedb73a-de24-440b-9ed4-1df6acf98f0e",
    "execution_millis": 497,
    "execution_start": 1750015940953,
    "source_hash": "f673d443"
   },
   "outputs": [
    {
     "name": "stdout",
     "output_type": "stream",
     "text": [
      "Najlepszy próg: 0.79, F1: 0.7010\n"
     ]
    }
   ],
   "source": [
    "y_proba = best_model.predict_proba(X_train_final_top)[:, 1]\n",
    "\n",
    "best_f1 = 0\n",
    "best_thresh = 0.5\n",
    "for t in np.arange(0.1, 0.9, 0.01):\n",
    "    y_pred_thresh = (y_proba >= t).astype(int)\n",
    "    score = f1_score(y_train_topp, y_pred_thresh, average=\"binary\", zero_division=0)\n",
    "    if score > best_f1:\n",
    "        best_f1 = score\n",
    "        best_thresh = t\n",
    "\n",
    "print(f\"Najlepszy próg: {best_thresh:.2f}, F1: {best_f1:.4f}\")"
   ]
  },
  {
   "cell_type": "markdown",
   "metadata": {
    "cell_id": "6aa03af3797b4c13981200f5cdb40ca1",
    "deepnote_cell_type": "text-cell-p",
    "formattedRanges": []
   },
   "source": [
    "Domyślnie modele klasyfikacyjne, takie jak XGBoost, stosują próg 0.5 do przypisywania klas na podstawie prawdopodobieństw. W praktyce jednak zmiana tego progu może poprawić działanie modelu, szczególnie jeśli zależy nam na maksymalizacji konkretnej metryki – w tym przypadku F1-Score, który uwzględnia kompromis między precyzją a czułością.\n",
    "\n",
    "Zmiana domyślnego progu klasyfikacji może znacząco wpłynąć na jakość predykcji, szczególnie w nierównomiernie rozłożonych klasach."
   ]
  },
  {
   "cell_type": "code",
   "execution_count": 69,
   "metadata": {
    "cell_id": "792022cd49bc4717bbf03b66cbb45eb1",
    "deepnote_cell_type": "code",
    "deepnote_to_be_reexecuted": true,
    "execution_context_id": "7eedb73a-de24-440b-9ed4-1df6acf98f0e",
    "execution_millis": 79,
    "execution_start": 1750015941512,
    "source_hash": "8902e9ab"
   },
   "outputs": [
    {
     "data": {
      "text/html": [
       "<style type=\"text/css\">\n",
       "#T_f694b_row0_col0, #T_f694b_row0_col1, #T_f694b_row0_col2, #T_f694b_row0_col3, #T_f694b_row0_col4, #T_f694b_row0_col5, #T_f694b_row0_col6, #T_f694b_row0_col7 {\n",
       "  background-color: #dff0d8;\n",
       "  font-weight: bold;\n",
       "}\n",
       "</style>\n",
       "<table id=\"T_f694b\">\n",
       "  <thead>\n",
       "    <tr>\n",
       "      <th id=\"T_f694b_level0_col0\" class=\"col_heading level0 col0\" >F1-Score_Train</th>\n",
       "      <th id=\"T_f694b_level0_col1\" class=\"col_heading level0 col1\" >Recall_Train</th>\n",
       "      <th id=\"T_f694b_level0_col2\" class=\"col_heading level0 col2\" >Precision_Train</th>\n",
       "      <th id=\"T_f694b_level0_col3\" class=\"col_heading level0 col3\" >Accuracy_Train</th>\n",
       "      <th id=\"T_f694b_level0_col4\" class=\"col_heading level0 col4\" >F1-Score_Val</th>\n",
       "      <th id=\"T_f694b_level0_col5\" class=\"col_heading level0 col5\" >Recall_Val</th>\n",
       "      <th id=\"T_f694b_level0_col6\" class=\"col_heading level0 col6\" >Precision_Val</th>\n",
       "      <th id=\"T_f694b_level0_col7\" class=\"col_heading level0 col7\" >Accuracy_Val</th>\n",
       "    </tr>\n",
       "  </thead>\n",
       "  <tbody>\n",
       "    <tr>\n",
       "      <td id=\"T_f694b_row0_col0\" class=\"data row0 col0\" >0.701</td>\n",
       "      <td id=\"T_f694b_row0_col1\" class=\"data row0 col1\" >0.723</td>\n",
       "      <td id=\"T_f694b_row0_col2\" class=\"data row0 col2\" >0.680</td>\n",
       "      <td id=\"T_f694b_row0_col3\" class=\"data row0 col3\" >0.904</td>\n",
       "      <td id=\"T_f694b_row0_col4\" class=\"data row0 col4\" >0.655</td>\n",
       "      <td id=\"T_f694b_row0_col5\" class=\"data row0 col5\" >0.675</td>\n",
       "      <td id=\"T_f694b_row0_col6\" class=\"data row0 col6\" >0.637</td>\n",
       "      <td id=\"T_f694b_row0_col7\" class=\"data row0 col7\" >0.889</td>\n",
       "    </tr>\n",
       "  </tbody>\n",
       "</table>\n"
      ],
      "text/plain": [
       "<pandas.io.formats.style.Styler at 0x1df0d8cf220>"
      ]
     },
     "execution_count": 69,
     "metadata": {},
     "output_type": "execute_result"
    }
   ],
   "source": [
    "y_pred_train = (best_model.predict_proba(X_train_final_top)[:, 1] >= best_thresh).astype(int)\n",
    "y_pred = (best_model.predict_proba(X_val_top)[:, 1] >= best_thresh).astype(int)\n",
    "\n",
    "results = {\n",
    "            \"F1-Score_Train\": f1_score(y_train_topp, y_pred_train, average=\"binary\", zero_division=0),\n",
    "            \"Recall_Train\": recall_score(y_train_topp, y_pred_train, average=\"binary\", zero_division=0),\n",
    "            \"Precision_Train\": precision_score(y_train_topp, y_pred_train, average=\"binary\", zero_division=0),\n",
    "            \"Accuracy_Train\": accuracy_score(y_train_topp, y_pred_train),\n",
    "\n",
    "            \"F1-Score_Val\": f1_score(y_val_top, y_pred, average=\"binary\", zero_division=0),\n",
    "            \"Recall_Val\": recall_score(y_val_top, y_pred, average=\"binary\", zero_division=0),\n",
    "            \"Precision_Val\": precision_score(y_val_top, y_pred, average=\"binary\", zero_division=0),\n",
    "            \"Accuracy_Val\": accuracy_score(y_val_top, y_pred)\n",
    "}\n",
    "\n",
    "df = pd.DataFrame([results])\n",
    "df.style.apply(\n",
    "    lambda row: ['background-color: #dff0d8; font-weight: bold'] * len(row),\n",
    "    axis=1\n",
    ").format(precision=3).hide(axis=\"index\")"
   ]
  },
  {
   "cell_type": "markdown",
   "metadata": {
    "cell_id": "05cf61523a084a52b74085554a6493b7",
    "deepnote_cell_type": "text-cell-p",
    "formattedRanges": []
   },
   "source": [
    "Na podstawie przedstawionych wyników można zauważyć, że po zastosowaniu niestandardowego progu klasyfikacji (0.79), metryki modelu XGBoost uległy pogorszeniu – szczególnie na zbiorze walidacyjnym.\n",
    "\n",
    "Metryki po optymalizacji progu:\n",
    "\n",
    "- `F1-Score_Val`: spadek z 0.670 do 0.655\n",
    "- `Recall_Val`: spadek z 0.780 do 0.675\n",
    "- `Precision_Val`: wzrost z 0.587 do 0.637\n",
    "- `Accuracy_Val`: wzrost z 0.880 do 0.889\n",
    "\n",
    "Chociaż precyzja (`Precision`) na zbiorze walidacyjnym nieznacznie wzrosła (z 0.587 do 0.637), to czułość (`Recall`) istotnie spadła (z 0.780 do 0.675), co spowodowało delikatne obniżenie ogólnej wartości `F1-Score`. Oznacza to, że model po zmianie progu lepiej unika fałszywych alarmów (FP), ale częściej pomija rzeczywistą klasę pozytywną (FN)."
   ]
  },
  {
   "cell_type": "markdown",
   "metadata": {
    "cell_id": "ca7c142eddd748469198f4485b5c8e2b",
    "deepnote_cell_type": "text-cell-h2",
    "formattedRanges": []
   },
   "source": [
    "## Ewaluacja najlepszego modelu na zbiorze testowym"
   ]
  },
  {
   "cell_type": "code",
   "execution_count": 70,
   "metadata": {
    "cell_id": "838fd3f91199435d86d77c8ddb48127a",
    "deepnote_cell_type": "code",
    "deepnote_to_be_reexecuted": true,
    "execution_context_id": "7eedb73a-de24-440b-9ed4-1df6acf98f0e",
    "execution_millis": 464,
    "execution_start": 1750015941681,
    "source_hash": "657a1c1b"
   },
   "outputs": [],
   "source": [
    "model = best_model\n",
    "model_name = \"XGBoost_tuned\"\n",
    "results = train_and_evaluate_model(model, model_name, X_train_final_top, y_train_topp, X_test_top, y_test_top)"
   ]
  },
  {
   "cell_type": "code",
   "execution_count": 71,
   "metadata": {
    "cell_id": "e9b525da410340a8bb66b0c32825456a",
    "deepnote_cell_type": "code",
    "deepnote_to_be_reexecuted": true,
    "execution_context_id": "7eedb73a-de24-440b-9ed4-1df6acf98f0e",
    "execution_millis": 1,
    "execution_start": 1750015942201,
    "source_hash": "1d236b51"
   },
   "outputs": [
    {
     "data": {
      "text/html": [
       "<style type=\"text/css\">\n",
       "#T_44611_row0_col0, #T_44611_row0_col1, #T_44611_row0_col2, #T_44611_row0_col3, #T_44611_row0_col4, #T_44611_row0_col5, #T_44611_row0_col6, #T_44611_row0_col7 {\n",
       "  background-color: #dff0d8;\n",
       "  font-weight: bold;\n",
       "}\n",
       "</style>\n",
       "<table id=\"T_44611\">\n",
       "  <thead>\n",
       "    <tr>\n",
       "      <th id=\"T_44611_level0_col0\" class=\"col_heading level0 col0\" >F1-Score_Train</th>\n",
       "      <th id=\"T_44611_level0_col1\" class=\"col_heading level0 col1\" >Recall_Train</th>\n",
       "      <th id=\"T_44611_level0_col2\" class=\"col_heading level0 col2\" >Precision_Train</th>\n",
       "      <th id=\"T_44611_level0_col3\" class=\"col_heading level0 col3\" >Accuracy_Train</th>\n",
       "      <th id=\"T_44611_level0_col4\" class=\"col_heading level0 col4\" >F1-Score_Test</th>\n",
       "      <th id=\"T_44611_level0_col5\" class=\"col_heading level0 col5\" >Recall_Test</th>\n",
       "      <th id=\"T_44611_level0_col6\" class=\"col_heading level0 col6\" >Precision_Test</th>\n",
       "      <th id=\"T_44611_level0_col7\" class=\"col_heading level0 col7\" >Accuracy_Test</th>\n",
       "    </tr>\n",
       "  </thead>\n",
       "  <tbody>\n",
       "    <tr>\n",
       "      <td id=\"T_44611_row0_col0\" class=\"data row0 col0\" >0.680</td>\n",
       "      <td id=\"T_44611_row0_col1\" class=\"data row0 col1\" >0.800</td>\n",
       "      <td id=\"T_44611_row0_col2\" class=\"data row0 col2\" >0.591</td>\n",
       "      <td id=\"T_44611_row0_col3\" class=\"data row0 col3\" >0.882</td>\n",
       "      <td id=\"T_44611_row0_col4\" class=\"data row0 col4\" >0.680</td>\n",
       "      <td id=\"T_44611_row0_col5\" class=\"data row0 col5\" >0.794</td>\n",
       "      <td id=\"T_44611_row0_col6\" class=\"data row0 col6\" >0.594</td>\n",
       "      <td id=\"T_44611_row0_col7\" class=\"data row0 col7\" >0.883</td>\n",
       "    </tr>\n",
       "  </tbody>\n",
       "</table>\n"
      ],
      "text/plain": [
       "<pandas.io.formats.style.Styler at 0x1df0db02440>"
      ]
     },
     "execution_count": 71,
     "metadata": {},
     "output_type": "execute_result"
    }
   ],
   "source": [
    "metrics_dict = results[0]\n",
    "metrics_only = metrics_dict[\"XGBoost_tuned\"].copy()\n",
    "metrics_only.pop(\"Confusion_Matrix_Val\", None)\n",
    "metrics_only_renamed = {\n",
    "    key.replace('_Val', '_Test'): value\n",
    "    for key, value in metrics_only.items()\n",
    "}\n",
    "df_results = pd.DataFrame([metrics_only_renamed], index=[\"XGBoost_tuned\"])\n",
    "df_results.style.apply(\n",
    "    lambda row: ['background-color: #dff0d8; font-weight: bold'] * len(row),\n",
    "    axis=1\n",
    ").format(precision=3).hide(axis=\"index\")"
   ]
  },
  {
   "cell_type": "markdown",
   "metadata": {
    "cell_id": "711ec42b76774063999bb016ecd9138c",
    "deepnote_cell_type": "text-cell-p",
    "formattedRanges": []
   },
   "source": [
    "Na zakończenie przeprowadzono ocenę jakości działania najlepszego modelu (`XGBoost_tuned`) na niezależnym zbiorze testowym. Uzyskane wyniki przedstawiają się następująco:\n",
    "\n",
    "- `F1-Score` = 0.680  \n",
    "- `Recall (czułość)` = 0.794  \n",
    "- `Precision (precyzja)` = 0.594  \n",
    "- `Accuracy (dokładność)` = 0.883\n",
    "\n",
    "Warto zauważyć, że metryki uzyskane na zbiorze testowym są bardzo zbliżone do wyników walidacyjnych, co potwierdza dobrą zdolność modelu do generalizacji i brak przeuczenia. Szczególnie istotne jest utrzymanie wysokiej wartości czułości, co oznacza skuteczne wykrywanie przypadków klasy mniejszościowej (np. sesji zakończonych zakupem). Jednocześnie model zachowuje rozsądną precyzję, minimalizując liczbę fałszywych alarmów.\n",
    "\n",
    "Ostatecznie można uznać, że wytrenowany model XGBoost o dostrojonych hiperparametrach i z odpowiednio dobranym zestawem cech dobrze radzi sobie z predykcją również na danych nieuczestniczących w procesie trenowania ani walidacji."
   ]
  },
  {
   "cell_type": "markdown",
   "metadata": {
    "cell_id": "a02f67379bdd4e4db9fa122c233f271d",
    "deepnote_cell_type": "text-cell-h2",
    "formattedRanges": []
   },
   "source": [
    "## Macierz pomyłek – zbiór testowy"
   ]
  },
  {
   "cell_type": "markdown",
   "metadata": {
    "cell_id": "abdd95d638de4272b25f9d72437fde3d",
    "deepnote_cell_type": "text-cell-p",
    "formattedRanges": []
   },
   "source": [
    "Na poniższym wykresie przedstawiono macierz pomyłek dla najlepszego modelu (XGBoost po tuningu) zastosowanego na niezależnym zbiorze testowym.\n"
   ]
  },
  {
   "cell_type": "code",
   "execution_count": 72,
   "metadata": {
    "cell_id": "1a9e1a76041940ee9791a08a4cd344f1",
    "deepnote_cell_type": "code",
    "deepnote_to_be_reexecuted": true,
    "execution_context_id": "7eedb73a-de24-440b-9ed4-1df6acf98f0e",
    "execution_millis": 253,
    "execution_start": 1750015942267,
    "source_hash": "8b501630"
   },
   "outputs": [
    {
     "data": {
      "image/png": "[encoded data removed]",
      "text/plain": [
       "<Figure size 640x480 with 2 Axes>"
      ]
     },
     "metadata": {},
     "output_type": "display_data"
    }
   ],
   "source": [
    "cm = results[0][\"XGBoost_tuned\"][\"Confusion_Matrix_Val\"]\n",
    "\n",
    "disp = ConfusionMatrixDisplay(confusion_matrix=cm)\n",
    "fig, ax = plt.subplots()\n",
    "disp.plot(cmap=\"Blues\", ax=ax)\n",
    "ax.grid(False)\n",
    "plt.title(\"Finalny model - zbiór testowy\")\n",
    "plt.show()"
   ]
  },
  {
   "cell_type": "markdown",
   "metadata": {
    "cell_id": "e5fa7738ebee418fbc9f66c3142d8d08",
    "deepnote_cell_type": "text-cell-p",
    "formattedRanges": []
   },
   "source": [
    "Interpretacja:\n",
    "\n",
    "- **True Negatives (TN = 1390)** – przypadki bez zakupu prawidłowo zaklasyfikowane jako brak zakupu.\n",
    "- **False Positives (FP = 155)** – przypadki bez zakupu błędnie zaklasyfikowane jako zakup.\n",
    "- **True Positives (TP = 227)** – przypadki zakupu poprawnie rozpoznane jako zakup.\n",
    "- **False Negatives (FN = 59)** – przypadki zakupu błędnie sklasyfikowane jako brak zakupu.\n",
    "\n",
    "Macierz potwierdza dobre właściwości klasyfikacyjne modelu. Model skutecznie identyfikuje przypadki zakupowe (klasa 1), przy zachowaniu akceptowalnego poziomu błędów typu FP i FN. Szczególnie istotna jest stosunkowo niska liczba **False Negatives**, co oznacza, że model rzadko pomija użytkowników, którzy faktycznie dokonali zakupu – a to kluczowe w kontekście prognozowania zachowań zakupowych."
   ]
  },
  {
   "cell_type": "markdown",
   "metadata": {
    "cell_id": "2bf310ad25d24e649909575f69fb5d30",
    "deepnote_cell_type": "text-cell-h2",
    "formattedRanges": []
   },
   "source": [
    "## Eksport modelu"
   ]
  },
  {
   "cell_type": "code",
   "execution_count": 73,
   "metadata": {
    "cell_id": "e5f12e3052074c3f8efd815b6eeb2bcf",
    "deepnote_cell_type": "code",
    "deepnote_to_be_reexecuted": true,
    "execution_context_id": "7eedb73a-de24-440b-9ed4-1df6acf98f0e",
    "execution_millis": 651,
    "execution_start": 1750015942581,
    "source_hash": "6b6ff6e1"
   },
   "outputs": [
    {
     "data": {
      "text/plain": [
       "['best_model_xgboost.pkl']"
      ]
     },
     "execution_count": 73,
     "metadata": {},
     "output_type": "execute_result"
    }
   ],
   "source": [
    "joblib.dump(best_model, \"best_model_xgboost.pkl\")"
   ]
  },
  {
   "cell_type": "markdown",
   "metadata": {
    "cell_id": "51c0b7300eab423298efecaa4171ee1e",
    "deepnote_cell_type": "text-cell-p",
    "formattedRanges": []
   },
   "source": [
    "Najlepszy wytrenowany model został zapisany do pliku `best_model_xgboost.pkl`. Dzięki temu można go w łatwy sposób załadować w przyszłości i wykorzystać do predykcji nowych danych, bez konieczności ponownego trenowania."
   ]
  },
  {
   "cell_type": "markdown",
   "metadata": {
    "cell_id": "3d45d320b6ac4388ba5aec4fbcd94052",
    "deepnote_cell_type": "text-cell-h2",
    "formattedRanges": []
   },
   "source": [
    "## Podsumowanie i wnioski"
   ]
  },
  {
   "cell_type": "markdown",
   "metadata": {
    "cell_id": "87509fb995db4bf6a4a66efd6df3a22d",
    "deepnote_cell_type": "text-cell-p",
    "formattedRanges": []
   },
   "source": [
    "Celem projektu była budowa modelu klasyfikacyjnego w celu znalezienia najlepszego rozwiązania do **przewidywania, czy sesja użytkownika zakończy się zakupem**. Przeprowadzono kompleksowy proces przygotowania danych, balansowania klas, selekcji cech, trenowania wielu modeli, a także optymalizacji ich parametrów.\n",
    "\n",
    "W toku eksperymentów przetestowano wiele algorytmów klasyfikacyjnych, w tym Random Forest, CatBoost, XGBoost, regresję logistyczną, SVM, Naive Bayes oraz MLPClassifier. Dla każdego modelu oceniano skuteczność przy różnych metodach balansowania danych: SMOTE, ADASYN, Random Oversampling, Random Undersampling oraz bez balansowania. Następnie wybrano najlepsze kombinacje model–balansowanie na podstawie metryk walidacyjnych.\n",
    "\n",
    "Za najbardziej skuteczny i stabilny uznano model **XGBoost**, wykorzystujący **pięć najistotniejszych cech** wybranych na podstawie gain-based feature importance, a następnie dostrojony za pomocą **tuningowania hiperparametrów**. Model ten charakteryzował się dobrą ogólną jakością predykcji, wysoką stabilnością oraz brakiem przeuczenia.\n",
    "\n",
    "Metryki na zbiorze treningowym i testowym:\n",
    "\n",
    "| Metryka              | Train | Test |\n",
    "|------------------|-------|------|\n",
    "| **F1-Score**      | 0.680 | 0.680 |\n",
    "| **Recall**           | 0.800 | 0.794 |\n",
    "| **Precision**      | 0.591 | 0.594 |\n",
    "| **Accuracy**      | 0.882 | 0.883 |\n",
    "\n",
    "Wyniki te potwierdzają, że model dobrze **generalizuje** – radzi sobie z danymi, których nie widział podczas treningu. Niewielkie różnice między zbiorami treningowym i testowym sugerują brak przeuczenia. Choć precyzja (Precision) nie jest bardzo wysoka, model skutecznie wykrywa przypadki zakupu (Recall = 0.794), co w kontekście zastosowania (np. marketingowego targetowania użytkowników) może mieć istotne znaczenie – lepiej „trafnie podejrzewać” zakup, nawet kosztem części błędnych wskazań.\n",
    "\n",
    "**Ostateczne wnioski**:\n",
    "\n",
    "- Zastosowanie odpowiedniego **balansowania klas** (Random Oversampling) oraz selekcji cech znacząco poprawiło stabilność modelu.\n",
    "- Dzięki **tuningowi hiperparametrów**, udało się **zredukować przeuczenie** (różnica metryk między train i test jest niewielka).\n",
    "- Choć uzyskane metryki nie są idealne, model osiąga dobry kompromis między precyzją a czułością i wykazuje solidną skuteczność w klasyfikowaniu użytkowników dokonujących transakcji.\n",
    "- Finalny model może zostać wykorzystany jako podstawa do dalszego wdrożenia lub jako punkt wyjścia do kolejnych ulepszeń (np. eksploracji cech nieliniowych, analizy sekwencji odwiedzin czy zastosowania modeli głębokich).\n",
    "\n",
    "Projekt pokazuje, że nawet przy ograniczonych danych wejściowych, właściwa inżynieria cech, balansowanie klas i tuning mogą prowadzić do stworzenia solidnego modelu predykcyjnego."
   ]
  }
 ],
 "metadata": {
  "deepnote_full_width": false,
  "deepnote_notebook_id": "8f9215c2a1dc483f8ecc79caa94ee296",
  "deepnote_persisted_session": {
   "createdAt": "2025-06-15T19:46:09.690Z"
  },
  "kernelspec": {
   "display_name": "eksploracja_danych_pop",
   "language": "python",
   "name": "python3"
  },
  "language_info": {
   "codemirror_mode": {
    "name": "ipython",
    "version": 3
   },
   "file_extension": ".py",
   "mimetype": "text/x-python",
   "name": "python",
   "nbconvert_exporter": "python",
   "pygments_lexer": "ipython3",
   "version": "3.10.18"
  }
 },
 "nbformat": 4,
 "nbformat_minor": 0
}
